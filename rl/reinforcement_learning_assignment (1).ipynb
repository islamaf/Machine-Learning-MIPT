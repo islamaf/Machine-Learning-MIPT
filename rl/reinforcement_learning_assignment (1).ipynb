{
  "cells": [
    {
      "cell_type": "markdown",
      "metadata": {
        "id": "PF0TtkQ4-NoP"
      },
      "source": [
        "<a href=\"https://colab.research.google.com/github/jeffheaton/t81_558_deep_learning/blob/master/t81_558_class_12_02_qlearningreinforcement.ipynb\" target=\"_parent\"><img src=\"https://colab.research.google.com/assets/colab-badge.svg\" alt=\"Open In Colab\"/></a>"
      ]
    },
    {
      "cell_type": "markdown",
      "metadata": {
        "id": "6dkLTudD-NoQ"
      },
      "source": [
        "# T81-558: Applications of Deep Neural Networks\n",
        "**Module 12: Reinforcement Learning**\n",
        "* Instructor: [Jeff Heaton](https://sites.wustl.edu/jeffheaton/), McKelvey School of Engineering, [Washington University in St. Louis](https://engineering.wustl.edu/Programs/Pages/default.aspx)\n",
        "* For more information visit the [class website](https://sites.wustl.edu/jeffheaton/t81-558/)."
      ]
    },
    {
      "cell_type": "markdown",
      "metadata": {
        "id": "wN-T0x2j-NoR"
      },
      "source": [
        "# Module 12 Video Material\n",
        "\n",
        "* Part 12.1: Introduction to the OpenAI Gym [[Video]](https://www.youtube.com/watch?v=_KbUxgyisjM&list=PLjy4p-07OYzulelvJ5KVaT2pDlxivl_BN) [[Notebook]](https://github.com/jeffheaton/t81_558_deep_learning/blob/master/t81_558_class_12_01_ai_gym.ipynb)\n",
        "* **Part 12.2: Introduction to Q-Learning** [[Video]](https://www.youtube.com/watch?v=A3sYFcJY3lA&list=PLjy4p-07OYzulelvJ5KVaT2pDlxivl_BN) [[Notebook]](https://github.com/jeffheaton/t81_558_deep_learning/blob/master/t81_558_class_12_02_qlearningreinforcement.ipynb)\n",
        "* Part 12.3: Keras Q-Learning in the OpenAI Gym [[Video]](https://www.youtube.com/watch?v=qy1SJmsRhvM&list=PLjy4p-07OYzulelvJ5KVaT2pDlxivl_BN) [[Notebook]](https://github.com/jeffheaton/t81_558_deep_learning/blob/master/t81_558_class_12_03_keras_reinforce.ipynb)\n",
        "* Part 12.4: Atari Games with Keras Neural Networks [[Video]](https://www.youtube.com/watch?v=co0SwPWoZh0&list=PLjy4p-07OYzulelvJ5KVaT2pDlxivl_BN) [[Notebook]](https://github.com/jeffheaton/t81_558_deep_learning/blob/master/t81_558_class_12_04_atari.ipynb)\n",
        "* Part 12.5: Application of Reinforcement Learning [[Video]](https://www.youtube.com/watch?v=1jQPP3RfwMI&list=PLjy4p-07OYzulelvJ5KVaT2pDlxivl_BN) [[Notebook]](https://github.com/jeffheaton/t81_558_deep_learning/blob/master/t81_558_class_12_05_apply_rl.ipynb)\n"
      ]
    },
    {
      "cell_type": "markdown",
      "metadata": {
        "id": "MIOgB0oG-NoS"
      },
      "source": [
        "# Google CoLab Instructions\n",
        "\n",
        "The following code ensures that Google CoLab is running the correct version of TensorFlow."
      ]
    },
    {
      "cell_type": "code",
      "execution_count": 1,
      "metadata": {
        "colab": {
          "base_uri": "https://localhost:8080/"
        },
        "id": "ERfMETL_-NoS",
        "outputId": "58ee5ec7-df95-4391-9fab-971ec657cb60"
      },
      "outputs": [
        {
          "output_type": "stream",
          "name": "stdout",
          "text": [
            "Note: using Google CoLab\n"
          ]
        }
      ],
      "source": [
        "try:\n",
        "    from google.colab import drive\n",
        "    %tensorflow_version 2.x\n",
        "    COLAB = True\n",
        "    print(\"Note: using Google CoLab\")\n",
        "except:\n",
        "    print(\"Note: not using Google CoLab\")\n",
        "    COLAB = False"
      ]
    },
    {
      "cell_type": "code",
      "execution_count": 2,
      "metadata": {
        "colab": {
          "base_uri": "https://localhost:8080/"
        },
        "id": "IcTY1gkD-X5r",
        "outputId": "7ffa9114-5cc2-4762-dc25-48be71045eb3"
      },
      "outputs": [
        {
          "output_type": "stream",
          "name": "stdout",
          "text": [
            "Reading package lists... Done\n",
            "Building dependency tree       \n",
            "Reading state information... Done\n",
            "x11-utils is already the newest version (7.7+3build1).\n",
            "ffmpeg is already the newest version (7:3.4.8-0ubuntu0.2).\n",
            "xvfb is already the newest version (2:1.19.6-1ubuntu4.10).\n",
            "The following package was automatically installed and is no longer required:\n",
            "  libnvidia-common-460\n",
            "Use 'sudo apt autoremove' to remove it.\n",
            "0 upgraded, 0 newly installed, 0 to remove and 42 not upgraded.\n",
            "\u001b[31mERROR: pip's dependency resolver does not currently take into account all the packages that are installed. This behaviour is the source of the following dependency conflicts.\n",
            "gym 0.17.3 requires pyglet<=1.5.0,>=1.4.0, but you have pyglet 1.3.2 which is incompatible.\u001b[0m\n",
            "Requirement already satisfied: torch==1.3.0 in /usr/local/lib/python3.7/dist-packages (1.3.0)\n",
            "Requirement already satisfied: torchvision==0.4.1 in /usr/local/lib/python3.7/dist-packages (0.4.1)\n",
            "Requirement already satisfied: numpy in /usr/local/lib/python3.7/dist-packages (from torch==1.3.0) (1.21.6)\n",
            "Requirement already satisfied: pillow>=4.1.1 in /usr/local/lib/python3.7/dist-packages (from torchvision==0.4.1) (7.1.2)\n",
            "Requirement already satisfied: six in /usr/local/lib/python3.7/dist-packages (from torchvision==0.4.1) (1.15.0)\n"
          ]
        }
      ],
      "source": [
        "# HIDE OUTPUT\n",
        "if COLAB:\n",
        "  !sudo apt-get install -y xvfb ffmpeg x11-utils\n",
        "  !pip install -q gym\n",
        "  !pip install -q 'imageio==2.4.0'\n",
        "  !pip install -q PILLOW\n",
        "  !pip install -q 'pyglet==1.3.2'\n",
        "  !pip install -q pyvirtualdisplay\n",
        "  !pip install -q tf-agents\n",
        "  !pip install -q pygame\n",
        "  !pip install torch==1.3.0 torchvision==0.4.1"
      ]
    },
    {
      "cell_type": "markdown",
      "metadata": {
        "id": "zA-E4NR2-NoY"
      },
      "source": [
        "# Part 12.2: Introduction to Q-Learning\n",
        "\n",
        "Q-Learning is a foundational technology upon which deep reinforcement learning is based. Before we explore deep reinforcement learning, it is essential to understand Q-Learning. Several components make up any Q-Learning system.\n",
        "\n",
        "* **Agent** - The agent is an entity that exists in an environment that takes actions to affect the state of the environment, to receive rewards.\n",
        "* **Environment** - The environment is the universe that the agent exists in. The environment is always in a specific state that is changed by the agent's actions.\n",
        "* **Actions** - Steps that the agent can perform to alter the environment \n",
        "* **Step** - A step occurs when the agent performs an action and potentially changes the environment state.\n",
        "* **Episode** - A chain of steps that ultimately culminates in the environment entering a terminal state.\n",
        "* **Epoch** - A training iteration of the agent that contains some number of episodes.\n",
        "* **Terminal State** -  A state in which further actions do not make sense. A terminal state occurs when the agent has one, lost, or the environment exceeds the maximum number of steps in many environments.\n",
        "\n",
        "Q-Learning works by building a table that suggests an action for every possible state. This approach runs into several problems. First, the environment is usually composed of several continuous numbers, resulting in an infinite number of states. Q-Learning handles continuous states by binning these numeric values into ranges. \n",
        "\n",
        "Out of the box, Q-Learning does not deal with continuous inputs, such as a car's accelerator that can range from released to fully engaged. Additionally, Q-Learning primarily deals with discrete actions, such as pressing a joystick up or down. Researchers have developed clever tricks to allow Q-Learning to accommodate continuous actions.\n",
        "\n",
        "Deep neural networks can help solve the problems of continuous environments and action spaces. In the next section, we will learn more about deep reinforcement learning. For now, we will apply regular Q-Learning to the Mountain Car problem from OpenAI Gym.\n",
        "\n",
        "## Introducing the Mountain Car\n",
        "\n",
        "This section will demonstrate how Q-Learning can create a solution to the mountain car gym environment. The Mountain car is an environment where a car must climb a mountain. Because gravity is stronger than the car's engine, it cannot merely accelerate up the steep slope even with full throttle. The vehicle is situated in a valley and must learn to utilize potential energy by driving up the opposite hill before the car can make it to the goal at the top of the rightmost hill.\n",
        "\n",
        "First, it might be helpful to visualize the mountain car environment. The following code shows this environment. This code makes use of TF-Agents to perform this render. Usually, we use TF-Agents for the type of deep reinforcement learning that we will see in the next module. However, TF-Agents is just used to render the mountain care environment for now."
      ]
    },
    {
      "cell_type": "code",
      "execution_count": 3,
      "metadata": {
        "colab": {
          "base_uri": "https://localhost:8080/",
          "height": 417
        },
        "id": "ngaU1pVi-mjb",
        "outputId": "f9423496-717d-4102-d5e9-665ef56479aa"
      },
      "outputs": [
        {
          "output_type": "execute_result",
          "data": {
            "text/plain": [
              "<PIL.Image.Image image mode=RGB size=600x400 at 0x7F28B73EE390>"
            ],
            "image/png": "[encoded data removed]"
          },
          "metadata": {},
          "execution_count": 3
        }
      ],
      "source": [
        "import tf_agents\n",
        "from tf_agents.environments import suite_gym\n",
        "import PIL.Image\n",
        "import pyvirtualdisplay\n",
        "\n",
        "display = pyvirtualdisplay.Display(visible=0, size=(1400, 900)).start()\n",
        "\n",
        "env_name = 'MountainCar-v0'\n",
        "env = suite_gym.load(env_name)\n",
        "env.reset()\n",
        "PIL.Image.fromarray(env.render())"
      ]
    },
    {
      "cell_type": "markdown",
      "metadata": {
        "id": "cQBcs3yAMo_P"
      },
      "source": [
        "The mountain car environment provides the following discrete actions:\n",
        "\n",
        "* 0 - Apply left force\n",
        "* 1 - Apply no force\n",
        "* 2 - Apply right force\n",
        "\n",
        "The mountain car environment is made up of the following continuous values:\n",
        "\n",
        "* state[0] - Position \n",
        "* state[1] - Velocity\n",
        "\n",
        "The cart is not strong enough. It will need to use potential energy from the mountain behind it. The following code shows an agent that applies full throttle to climb the hill."
      ]
    },
    {
      "cell_type": "code",
      "execution_count": 4,
      "metadata": {
        "id": "QMLS0b-tbc_j"
      },
      "outputs": [],
      "source": [
        "import gym\n",
        "from gym.wrappers import Monitor\n",
        "import glob\n",
        "import io\n",
        "import base64\n",
        "from IPython.display import HTML\n",
        "from pyvirtualdisplay import Display\n",
        "from IPython import display as ipythondisplay\n",
        "\n",
        "display = Display(visible=0, size=(1400, 900))\n",
        "display.start()\n",
        "\n",
        "\n",
        "def show_video():\n",
        "    mp4list = glob.glob('video/*.mp4')\n",
        "    if len(mp4list) > 0:\n",
        "        mp4 = mp4list[0]\n",
        "        video = io.open(mp4, 'r+b').read()\n",
        "        encoded = base64.b64encode(video)\n",
        "        ipythondisplay.display(HTML(data='''<video alt=\"test\" autoplay \n",
        "                loop controls style=\"height: 400px;\">\n",
        "                <source src=\"data:video/mp4;base64,{0}\" \n",
        "                type=\"video/mp4\" />\n",
        "             </video>'''.format(encoded.decode('ascii'))))\n",
        "    else:\n",
        "        print(\"Could not find video\")\n",
        "\n",
        "\n",
        "def wrap_env(env):\n",
        "    env = Monitor(env, './video', force=True)\n",
        "    return env\n"
      ]
    },
    {
      "cell_type": "markdown",
      "metadata": {
        "id": "iDkmeVenJst3"
      },
      "source": [
        "We are now ready to train the agent."
      ]
    },
    {
      "cell_type": "code",
      "execution_count": 5,
      "metadata": {
        "colab": {
          "base_uri": "https://localhost:8080/"
        },
        "id": "iCRJdn0G-NoZ",
        "outputId": "498dbf3d-5e79-410a-8712-eb420bd22419"
      },
      "outputs": [
        {
          "output_type": "stream",
          "name": "stdout",
          "text": [
            "Step 1: State=[-0.53857185  0.00112066], Reward=-1.0\n",
            "Step 2: State=[-0.53633893  0.00223292], Reward=-1.0\n",
            "Step 3: State=[-0.53301049  0.00332844], Reward=-1.0\n",
            "Step 4: State=[-0.52861147  0.00439902], Reward=-1.0\n",
            "Step 5: State=[-0.52317485  0.00543662], Reward=-1.0\n",
            "Step 6: State=[-0.51674141  0.00643344], Reward=-1.0\n",
            "Step 7: State=[-0.5093594   0.00738201], Reward=-1.0\n",
            "Step 8: State=[-0.50108416  0.00827525], Reward=-1.0\n",
            "Step 9: State=[-0.49197764  0.00910652], Reward=-1.0\n",
            "Step 10: State=[-0.48210793  0.00986971], Reward=-1.0\n",
            "Step 11: State=[-0.47154859  0.01055934], Reward=-1.0\n",
            "Step 12: State=[-0.46037805  0.01117054], Reward=-1.0\n",
            "Step 13: State=[-0.44867882  0.01169923], Reward=-1.0\n",
            "Step 14: State=[-0.43653678  0.01214204], Reward=-1.0\n",
            "Step 15: State=[-0.4240403   0.01249648], Reward=-1.0\n",
            "Step 16: State=[-0.41127946  0.01276084], Reward=-1.0\n",
            "Step 17: State=[-0.39834516  0.0129343 ], Reward=-1.0\n",
            "Step 18: State=[-0.38532831  0.01301685], Reward=-1.0\n",
            "Step 19: State=[-0.37231901  0.0130093 ], Reward=-1.0\n",
            "Step 20: State=[-0.35940575  0.01291326], Reward=-1.0\n",
            "Step 21: State=[-0.34667475  0.01273101], Reward=-1.0\n",
            "Step 22: State=[-0.33420924  0.01246551], Reward=-1.0\n",
            "Step 23: State=[-0.32208896  0.01212028], Reward=-1.0\n",
            "Step 24: State=[-0.31038961  0.01169935], Reward=-1.0\n",
            "Step 25: State=[-0.29918251  0.0112071 ], Reward=-1.0\n",
            "Step 26: State=[-0.28853423  0.01064828], Reward=-1.0\n",
            "Step 27: State=[-0.2785064   0.01002783], Reward=-1.0\n",
            "Step 28: State=[-0.26915555  0.00935085], Reward=-1.0\n",
            "Step 29: State=[-0.26053303  0.00862252], Reward=-1.0\n",
            "Step 30: State=[-0.25268498  0.00784805], Reward=-1.0\n",
            "Step 31: State=[-0.24565237  0.00703261], Reward=-1.0\n",
            "Step 32: State=[-0.23947105  0.00618132], Reward=-1.0\n",
            "Step 33: State=[-0.23417186  0.00529919], Reward=-1.0\n",
            "Step 34: State=[-0.22978071  0.00439114], Reward=-1.0\n",
            "Step 35: State=[-0.22631873  0.00346198], Reward=-1.0\n",
            "Step 36: State=[-0.22380232  0.00251641], Reward=-1.0\n",
            "Step 37: State=[-0.22224328  0.00155904], Reward=-1.0\n",
            "Step 38: State=[-0.22164885  0.00059442], Reward=-1.0\n",
            "Step 39: State=[-0.22202181 -0.00037295], Reward=-1.0\n",
            "Step 40: State=[-0.22336041 -0.0013386 ], Reward=-1.0\n",
            "Step 41: State=[-0.22565843 -0.00229803], Reward=-1.0\n",
            "Step 42: State=[-0.22890514 -0.0032467 ], Reward=-1.0\n",
            "Step 43: State=[-0.23308517 -0.00418004], Reward=-1.0\n",
            "Step 44: State=[-0.23817851 -0.00509334], Reward=-1.0\n",
            "Step 45: State=[-0.24416035 -0.00598183], Reward=-1.0\n",
            "Step 46: State=[-0.25100098 -0.00684063], Reward=-1.0\n",
            "Step 47: State=[-0.2586657  -0.00766473], Reward=-1.0\n",
            "Step 48: State=[-0.26711473 -0.00844903], Reward=-1.0\n",
            "Step 49: State=[-0.27630312 -0.00918839], Reward=-1.0\n",
            "Step 50: State=[-0.28618071 -0.00987759], Reward=-1.0\n",
            "Step 51: State=[-0.29669215 -0.01051144], Reward=-1.0\n",
            "Step 52: State=[-0.30777697 -0.01108482], Reward=-1.0\n",
            "Step 53: State=[-0.31936971 -0.01159274], Reward=-1.0\n",
            "Step 54: State=[-0.33140012 -0.01203041], Reward=-1.0\n",
            "Step 55: State=[-0.34379347 -0.01239334], Reward=-1.0\n",
            "Step 56: State=[-0.3564709  -0.01267743], Reward=-1.0\n",
            "Step 57: State=[-0.36934993 -0.01287903], Reward=-1.0\n",
            "Step 58: State=[-0.38234497 -0.01299505], Reward=-1.0\n",
            "Step 59: State=[-0.395368   -0.01302303], Reward=-1.0\n",
            "Step 60: State=[-0.40832921 -0.01296121], Reward=-1.0\n",
            "Step 61: State=[-0.42113782 -0.01280861], Reward=-1.0\n",
            "Step 62: State=[-0.43370284 -0.01256502], Reward=-1.0\n",
            "Step 63: State=[-0.44593394 -0.0122311 ], Reward=-1.0\n",
            "Step 64: State=[-0.45774226 -0.01180833], Reward=-1.0\n",
            "Step 65: State=[-0.46904131 -0.01129904], Reward=-1.0\n",
            "Step 66: State=[-0.47974771 -0.0107064 ], Reward=-1.0\n",
            "Step 67: State=[-0.48978204 -0.01003434], Reward=-1.0\n",
            "Step 68: State=[-0.49906957 -0.00928753], Reward=-1.0\n",
            "Step 69: State=[-0.5075409  -0.00847133], Reward=-1.0\n",
            "Step 70: State=[-0.51513261 -0.00759172], Reward=-1.0\n",
            "Step 71: State=[-0.52178782 -0.00665521], Reward=-1.0\n",
            "Step 72: State=[-0.52745661 -0.00566879], Reward=-1.0\n",
            "Step 73: State=[-0.53209646 -0.00463985], Reward=-1.0\n",
            "Step 74: State=[-0.53567259 -0.00357613], Reward=-1.0\n",
            "Step 75: State=[-0.53815818 -0.0024856 ], Reward=-1.0\n",
            "Step 76: State=[-0.53953462 -0.00137643], Reward=-1.0\n",
            "Step 77: State=[-5.39791580e-01 -2.56961156e-04], Reward=-1.0\n",
            "Step 78: State=[-0.53892714  0.00086444], Reward=-1.0\n",
            "Step 79: State=[-0.53694778  0.00197936], Reward=-1.0\n",
            "Step 80: State=[-0.53386833  0.00307945], Reward=-1.0\n",
            "Step 81: State=[-0.52971187  0.00415646], Reward=-1.0\n",
            "Step 82: State=[-0.52450957  0.00520231], Reward=-1.0\n",
            "Step 83: State=[-0.51830043  0.00620914], Reward=-1.0\n",
            "Step 84: State=[-0.51113103  0.0071694 ], Reward=-1.0\n",
            "Step 85: State=[-0.50305512  0.00807591], Reward=-1.0\n",
            "Step 86: State=[-0.49413318  0.00892193], Reward=-1.0\n",
            "Step 87: State=[-0.48443195  0.00970123], Reward=-1.0\n",
            "Step 88: State=[-0.4740238   0.01040815], Reward=-1.0\n",
            "Step 89: State=[-0.46298609  0.01103771], Reward=-1.0\n",
            "Step 90: State=[-0.45140047  0.01158562], Reward=-1.0\n",
            "Step 91: State=[-0.43935212  0.01204835], Reward=-1.0\n",
            "Step 92: State=[-0.42692891  0.01242321], Reward=-1.0\n",
            "Step 93: State=[-0.4142206   0.01270831], Reward=-1.0\n",
            "Step 94: State=[-0.40131799  0.01290261], Reward=-1.0\n",
            "Step 95: State=[-0.38831205  0.01300594], Reward=-1.0\n",
            "Step 96: State=[-0.37529314  0.01301891], Reward=-1.0\n",
            "Step 97: State=[-0.36235018  0.01294296], Reward=-1.0\n",
            "Step 98: State=[-0.34956997  0.01278021], Reward=-1.0\n",
            "Step 99: State=[-0.33703649  0.01253349], Reward=-1.0\n",
            "Step 100: State=[-0.3248303   0.01220618], Reward=-1.0\n",
            "Step 101: State=[-0.31302809  0.01180221], Reward=-1.0\n",
            "Step 102: State=[-0.3017022   0.01132589], Reward=-1.0\n",
            "Step 103: State=[-0.29092031  0.01078189], Reward=-1.0\n",
            "Step 104: State=[-0.2807452  0.0101751], Reward=-1.0\n",
            "Step 105: State=[-0.27123459  0.00951061], Reward=-1.0\n",
            "Step 106: State=[-0.26244101  0.00879359], Reward=-1.0\n",
            "Step 107: State=[-0.25441178  0.00802922], Reward=-1.0\n",
            "Step 108: State=[-0.24718907  0.00722272], Reward=-1.0\n",
            "Step 109: State=[-0.24080988  0.00637919], Reward=-1.0\n",
            "Step 110: State=[-0.23530619  0.00550368], Reward=-1.0\n",
            "Step 111: State=[-0.23070505  0.00460115], Reward=-1.0\n",
            "Step 112: State=[-0.22702865  0.0036764 ], Reward=-1.0\n",
            "Step 113: State=[-0.22429447  0.00273418], Reward=-1.0\n",
            "Step 114: State=[-0.22251536  0.00177911], Reward=-1.0\n",
            "Step 115: State=[-0.22169961  0.00081575], Reward=-1.0\n",
            "Step 116: State=[-2.21851004e-01 -1.51390286e-04], Reward=-1.0\n",
            "Step 117: State=[-0.22296883 -0.00111783], Reward=-1.0\n",
            "Step 118: State=[-0.22504791 -0.00207908], Reward=-1.0\n",
            "Step 119: State=[-0.22807853 -0.00303062], Reward=-1.0\n",
            "Step 120: State=[-0.23204641 -0.00396788], Reward=-1.0\n",
            "Step 121: State=[-0.2369326  -0.00488619], Reward=-1.0\n",
            "Step 122: State=[-0.24271339 -0.00578079], Reward=-1.0\n",
            "Step 123: State=[-0.24936022 -0.00664682], Reward=-1.0\n",
            "Step 124: State=[-0.25683953 -0.00747931], Reward=-1.0\n",
            "Step 125: State=[-0.26511272 -0.00827319], Reward=-1.0\n",
            "Step 126: State=[-0.27413602 -0.0090233 ], Reward=-1.0\n",
            "Step 127: State=[-0.28386046 -0.00972444], Reward=-1.0\n",
            "Step 128: State=[-0.29423189 -0.01037143], Reward=-1.0\n",
            "Step 129: State=[-0.305191   -0.01095911], Reward=-1.0\n",
            "Step 130: State=[-0.31667344 -0.01148245], Reward=-1.0\n",
            "Step 131: State=[-0.32861006 -0.01193661], Reward=-1.0\n",
            "Step 132: State=[-0.3409271  -0.01231704], Reward=-1.0\n",
            "Step 133: State=[-0.35354663 -0.01261953], Reward=-1.0\n",
            "Step 134: State=[-0.36638694 -0.01284031], Reward=-1.0\n",
            "Step 135: State=[-0.37936311 -0.01297617], Reward=-1.0\n",
            "Step 136: State=[-0.3923876 -0.0130245], Reward=-1.0\n",
            "Step 137: State=[-0.40537097 -0.01298336], Reward=-1.0\n",
            "Step 138: State=[-0.41822256 -0.0128516 ], Reward=-1.0\n",
            "Step 139: State=[-0.43085138 -0.01262882], Reward=-1.0\n",
            "Step 140: State=[-0.44316686 -0.01231548], Reward=-1.0\n",
            "Step 141: State=[-0.45507975 -0.01191289], Reward=-1.0\n",
            "Step 142: State=[-0.46650292 -0.01142317], Reward=-1.0\n",
            "Step 143: State=[-0.47735221 -0.0108493 ], Reward=-1.0\n",
            "Step 144: State=[-0.48754725 -0.01019503], Reward=-1.0\n",
            "Step 145: State=[-0.49701214 -0.00946489], Reward=-1.0\n",
            "Step 146: State=[-0.50567622 -0.00866408], Reward=-1.0\n",
            "Step 147: State=[-0.51347466 -0.00779844], Reward=-1.0\n",
            "Step 148: State=[-0.52034901 -0.00687436], Reward=-1.0\n",
            "Step 149: State=[-0.52624774 -0.00589873], Reward=-1.0\n",
            "Step 150: State=[-0.5311266  -0.00487886], Reward=-1.0\n",
            "Step 151: State=[-0.53494901 -0.00382241], Reward=-1.0\n",
            "Step 152: State=[-0.53768631 -0.0027373 ], Reward=-1.0\n",
            "Step 153: State=[-0.53931798 -0.00163167], Reward=-1.0\n",
            "Step 154: State=[-5.39831798e-01 -5.13821287e-04], Reward=-1.0\n",
            "Step 155: State=[-0.53922392  0.00060788], Reward=-1.0\n",
            "Step 156: State=[-0.5374989   0.00172502], Reward=-1.0\n",
            "Step 157: State=[-0.53466965  0.00282924], Reward=-1.0\n",
            "Step 158: State=[-0.53075739  0.00391226], Reward=-1.0\n",
            "Step 159: State=[-0.52579144  0.00496595], Reward=-1.0\n",
            "Step 160: State=[-0.51980905  0.00598239], Reward=-1.0\n",
            "Step 161: State=[-0.51285508  0.00695397], Reward=-1.0\n",
            "Step 162: State=[-0.50498168  0.00787341], Reward=-1.0\n",
            "Step 163: State=[-0.49624783  0.00873385], Reward=-1.0\n",
            "Step 164: State=[-0.48671888  0.00952895], Reward=-1.0\n",
            "Step 165: State=[-0.47646597  0.01025291], Reward=-1.0\n",
            "Step 166: State=[-0.46556538  0.01090059], Reward=-1.0\n",
            "Step 167: State=[-0.45409784  0.01146754], Reward=-1.0\n",
            "Step 168: State=[-0.44214779  0.01195005], Reward=-1.0\n",
            "Step 169: State=[-0.42980256  0.01234523], Reward=-1.0\n",
            "Step 170: State=[-0.41715156  0.012651  ], Reward=-1.0\n",
            "Step 171: State=[-0.40428541  0.01286615], Reward=-1.0\n",
            "Step 172: State=[-0.39129512  0.01299029], Reward=-1.0\n",
            "Step 173: State=[-0.37827126  0.01302386], Reward=-1.0\n",
            "Step 174: State=[-0.36530316  0.0129681 ], Reward=-1.0\n",
            "Step 175: State=[-0.35247815  0.01282501], Reward=-1.0\n",
            "Step 176: State=[-0.33988091  0.01259724], Reward=-1.0\n",
            "Step 177: State=[-0.32759285  0.01228806], Reward=-1.0\n",
            "Step 178: State=[-0.31569157  0.01190128], Reward=-1.0\n",
            "Step 179: State=[-0.30425044  0.01144113], Reward=-1.0\n",
            "Step 180: State=[-0.29333824  0.0109122 ], Reward=-1.0\n",
            "Step 181: State=[-0.28301889  0.01031935], Reward=-1.0\n",
            "Step 182: State=[-0.27335126  0.00966762], Reward=-1.0\n",
            "Step 183: State=[-0.26438909  0.00896217], Reward=-1.0\n",
            "Step 184: State=[-0.2561809   0.00820819], Reward=-1.0\n",
            "Step 185: State=[-0.24877003  0.00741088], Reward=-1.0\n",
            "Step 186: State=[-0.24219465  0.00657538], Reward=-1.0\n",
            "Step 187: State=[-0.23648789  0.00570676], Reward=-1.0\n",
            "Step 188: State=[-0.2316779   0.00480998], Reward=-1.0\n",
            "Step 189: State=[-0.227788   0.0038899], Reward=-1.0\n",
            "Step 190: State=[-0.22483673  0.00295127], Reward=-1.0\n",
            "Step 191: State=[-0.222838    0.00199874], Reward=-1.0\n",
            "Step 192: State=[-0.22180112  0.00103688], Reward=-1.0\n",
            "Step 193: State=[-2.21730912e-01  7.02079155e-05], Reward=-1.0\n",
            "Step 194: State=[-0.2226277  -0.00089679], Reward=-1.0\n",
            "Step 195: State=[-0.22448732 -0.00185962], Reward=-1.0\n",
            "Step 196: State=[-0.22730111 -0.00281379], Reward=-1.0\n",
            "Step 197: State=[-0.23105584 -0.00375473], Reward=-1.0\n",
            "Step 198: State=[-0.23573363 -0.00467779], Reward=-1.0\n",
            "Step 199: State=[-0.24131188 -0.00557825], Reward=-1.0\n",
            "Step 200: State=[-0.24776314 -0.00645126], Reward=-1.0\n"
          ]
        }
      ],
      "source": [
        "import gym\n",
        "\n",
        "if COLAB:\n",
        "    env = wrap_env(gym.make(\"MountainCar-v0\"))\n",
        "else:\n",
        "    env = gym.make(\"MountainCar-v0\")\n",
        "\n",
        "env.reset()\n",
        "done = False\n",
        "\n",
        "i = 0\n",
        "while not done:\n",
        "    i += 1\n",
        "    state, reward, done, _ = env.step(2)\n",
        "    env.render()\n",
        "    print(f\"Step {i}: State={state}, Reward={reward}\")\n",
        "\n",
        "env.close()\n"
      ]
    },
    {
      "cell_type": "markdown",
      "metadata": {
        "id": "mAiuC246Jw2B"
      },
      "source": [
        "It helps to visualize the car. The following code shows a video of the car when run from a notebook."
      ]
    },
    {
      "cell_type": "code",
      "execution_count": 6,
      "metadata": {
        "colab": {
          "base_uri": "https://localhost:8080/",
          "height": 422
        },
        "id": "lrJxIxzpdI_s",
        "outputId": "a7613313-1a77-4af7-8ec9-a35217a660e3"
      },
      "outputs": [
        {
          "output_type": "display_data",
          "data": {
            "text/plain": [
              "<IPython.core.display.HTML object>"
            ],
            "text/html": [
              "<video alt=\"test\" autoplay \n",
              "                loop controls style=\"height: 400px;\">\n",
              "                <source src=\"data:video/mp4;base64,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\" \n",
              "                type=\"video/mp4\" />\n",
              "             </video>"
            ]
          },
          "metadata": {}
        }
      ],
      "source": [
        "# HIDE OUTPUT\n",
        "show_video()\n"
      ]
    },
    {
      "cell_type": "markdown",
      "metadata": {
        "id": "IVcdwI-0-Nod"
      },
      "source": [
        "## Programmed Car\n",
        "\n",
        "Now we will look at a car that I hand-programmed. This car is straightforward; however, it solves the problem. The programmed car always applies force in one direction or another. It does not break. Whatever direction the vehicle is currently rolling, the agent uses power in that direction. Therefore, the car begins to climb a hill, is overpowered, and turns backward. However, once it starts to roll backward, force is immediately applied in this new direction.\n",
        "\n",
        "The following code implements this preprogrammed car."
      ]
    },
    {
      "cell_type": "code",
      "execution_count": 7,
      "metadata": {
        "colab": {
          "base_uri": "https://localhost:8080/"
        },
        "id": "AMzYrqRy-Noe",
        "outputId": "44566ca9-110e-4c64-b34e-b738d64178ed"
      },
      "outputs": [
        {
          "output_type": "stream",
          "name": "stdout",
          "text": [
            "Step 1: State=[-0.4767687  -0.00136017], Reward=-1.0\n",
            "Step 2: State=[-0.47947894 -0.00271024], Reward=-1.0\n",
            "Step 3: State=[-0.48351912 -0.00404017], Reward=-1.0\n",
            "Step 4: State=[-0.48885916 -0.00534005], Reward=-1.0\n",
            "Step 5: State=[-0.49545929 -0.00660012], Reward=-1.0\n",
            "Step 6: State=[-0.5032702  -0.00781092], Reward=-1.0\n",
            "Step 7: State=[-0.51223349 -0.00896329], Reward=-1.0\n",
            "Step 8: State=[-0.52228201 -0.01004851], Reward=-1.0\n",
            "Step 9: State=[-0.53334039 -0.01105839], Reward=-1.0\n",
            "Step 10: State=[-0.54532573 -0.01198534], Reward=-1.0\n",
            "Step 11: State=[-0.55814823 -0.0128225 ], Reward=-1.0\n",
            "Step 12: State=[-0.57171207 -0.01356384], Reward=-1.0\n",
            "Step 13: State=[-0.58591631 -0.01420424], Reward=-1.0\n",
            "Step 14: State=[-0.60065589 -0.01473958], Reward=-1.0\n",
            "Step 15: State=[-0.61582268 -0.01516679], Reward=-1.0\n",
            "Step 16: State=[-0.63130658 -0.0154839 ], Reward=-1.0\n",
            "Step 17: State=[-0.64699665 -0.01569007], Reward=-1.0\n",
            "Step 18: State=[-0.66278223 -0.01578558], Reward=-1.0\n",
            "Step 19: State=[-0.67855401 -0.01577178], Reward=-1.0\n",
            "Step 20: State=[-0.69420502 -0.01565102], Reward=-1.0\n",
            "Step 21: State=[-0.70963163 -0.01542661], Reward=-1.0\n",
            "Step 22: State=[-0.72473431 -0.01510267], Reward=-1.0\n",
            "Step 23: State=[-0.73941836 -0.01468405], Reward=-1.0\n",
            "Step 24: State=[-0.7535945  -0.01417614], Reward=-1.0\n",
            "Step 25: State=[-0.76717933 -0.01358483], Reward=-1.0\n",
            "Step 26: State=[-0.7800956  -0.01291627], Reward=-1.0\n",
            "Step 27: State=[-0.79227244 -0.01217685], Reward=-1.0\n",
            "Step 28: State=[-0.80364544 -0.011373  ], Reward=-1.0\n",
            "Step 29: State=[-0.8141566  -0.01051116], Reward=-1.0\n",
            "Step 30: State=[-0.82375425 -0.00959764], Reward=-1.0\n",
            "Step 31: State=[-0.83239285 -0.0086386 ], Reward=-1.0\n",
            "Step 32: State=[-0.84003282 -0.00763997], Reward=-1.0\n",
            "Step 33: State=[-0.84664027 -0.00660745], Reward=-1.0\n",
            "Step 34: State=[-0.85218674 -0.00554647], Reward=-1.0\n",
            "Step 35: State=[-0.85664898 -0.00446224], Reward=-1.0\n",
            "Step 36: State=[-0.86000869 -0.00335971], Reward=-1.0\n",
            "Step 37: State=[-0.86225234 -0.00224365], Reward=-1.0\n",
            "Step 38: State=[-0.86337102 -0.00111868], Reward=-1.0\n",
            "Step 39: State=[-8.63360332e-01  1.06907290e-05], Reward=-1.0\n",
            "Step 40: State=[-0.86022031  0.00314002], Reward=-1.0\n",
            "Step 41: State=[-0.85396338  0.00625692], Reward=-1.0\n",
            "Step 42: State=[-0.8446149   0.00934849], Reward=-1.0\n",
            "Step 43: State=[-0.83221407  0.01240083], Reward=-1.0\n",
            "Step 44: State=[-0.81681542  0.01539865], Reward=-1.0\n",
            "Step 45: State=[-0.79849047  0.01832494], Reward=-1.0\n",
            "Step 46: State=[-0.77732971  0.02116076], Reward=-1.0\n",
            "Step 47: State=[-0.75344449  0.02388522], Reward=-1.0\n",
            "Step 48: State=[-0.72696882  0.02647567], Reward=-1.0\n",
            "Step 49: State=[-0.69806075  0.02890807], Reward=-1.0\n",
            "Step 50: State=[-0.66690314  0.03115761], Reward=-1.0\n",
            "Step 51: State=[-0.63370355  0.03319959], Reward=-1.0\n",
            "Step 52: State=[-0.59869312  0.03501044], Reward=-1.0\n",
            "Step 53: State=[-0.56212422  0.03656889], Reward=-1.0\n",
            "Step 54: State=[-0.52426703  0.03785719], Reward=-1.0\n",
            "Step 55: State=[-0.48540483  0.0388622 ], Reward=-1.0\n",
            "Step 56: State=[-0.44582845  0.03957638], Reward=-1.0\n",
            "Step 57: State=[-0.40583008  0.03999838], Reward=-1.0\n",
            "Step 58: State=[-0.36569671  0.04013337], Reward=-1.0\n",
            "Step 59: State=[-0.32570381  0.0399929 ], Reward=-1.0\n",
            "Step 60: State=[-0.28610945  0.03959435], Reward=-1.0\n",
            "Step 61: State=[-0.24714936  0.0389601 ], Reward=-1.0\n",
            "Step 62: State=[-0.20903299  0.03811637], Reward=-1.0\n",
            "Step 63: State=[-0.17194095  0.03709203], Reward=-1.0\n",
            "Step 64: State=[-0.13602364  0.03591732], Reward=-1.0\n",
            "Step 65: State=[-0.10140104  0.0346226 ], Reward=-1.0\n",
            "Step 66: State=[-0.06816366  0.03323738], Reward=-1.0\n",
            "Step 67: State=[-0.03637419  0.03178947], Reward=-1.0\n",
            "Step 68: State=[-0.00606985  0.03030434], Reward=-1.0\n",
            "Step 69: State=[0.02273491 0.02880475], Reward=-1.0\n",
            "Step 70: State=[0.05004547 0.02731057], Reward=-1.0\n",
            "Step 71: State=[0.07588416 0.02583869], Reward=-1.0\n",
            "Step 72: State=[0.10028736 0.02440319], Reward=-1.0\n",
            "Step 73: State=[0.12330285 0.02301549], Reward=-1.0\n",
            "Step 74: State=[0.14498744 0.02168459], Reward=-1.0\n",
            "Step 75: State=[0.16540481 0.02041737], Reward=-1.0\n",
            "Step 76: State=[0.18462371 0.0192189 ], Reward=-1.0\n",
            "Step 77: State=[0.20271636 0.01809266], Reward=-1.0\n",
            "Step 78: State=[0.21975726 0.01704089], Reward=-1.0\n",
            "Step 79: State=[0.23582205 0.0160648 ], Reward=-1.0\n",
            "Step 80: State=[0.25098682 0.01516477], Reward=-1.0\n",
            "Step 81: State=[0.26532742 0.0143406 ], Reward=-1.0\n",
            "Step 82: State=[0.27891906 0.01359164], Reward=-1.0\n",
            "Step 83: State=[0.29183601 0.01291696], Reward=-1.0\n",
            "Step 84: State=[0.30415145 0.01231544], Reward=-1.0\n",
            "Step 85: State=[0.31593738 0.01178592], Reward=-1.0\n",
            "Step 86: State=[0.32726465 0.01132727], Reward=-1.0\n",
            "Step 87: State=[0.33820309 0.01093844], Reward=-1.0\n",
            "Step 88: State=[0.34882165 0.01061856], Reward=-1.0\n",
            "Step 89: State=[0.35918862 0.01036697], Reward=-1.0\n",
            "Step 90: State=[0.36937191 0.01018329], Reward=-1.0\n",
            "Step 91: State=[0.37943933 0.01006742], Reward=-1.0\n",
            "Step 92: State=[0.38945894 0.01001961], Reward=-1.0\n",
            "Step 93: State=[0.39949944 0.0100405 ], Reward=-1.0\n",
            "Step 94: State=[0.40963055 0.01013111], Reward=-1.0\n",
            "Step 95: State=[0.41992345 0.0102929 ], Reward=-1.0\n",
            "Step 96: State=[0.43045126 0.01052781], Reward=-1.0\n",
            "Step 97: State=[0.44128953 0.01083826], Reward=-1.0\n",
            "Step 98: State=[0.45251672 0.0112272 ], Reward=-1.0\n",
            "Step 99: State=[0.46421484 0.01169811], Reward=-1.0\n",
            "Step 100: State=[0.47646992 0.01225509], Reward=-1.0\n",
            "Step 101: State=[0.48937272 0.0129028 ], Reward=-1.0\n",
            "Step 102: State=[0.50301927 0.01364655], Reward=-1.0\n"
          ]
        }
      ],
      "source": [
        "import gym\n",
        "\n",
        "if COLAB:\n",
        "    env = wrap_env(gym.make(\"MountainCar-v0\"))\n",
        "else:\n",
        "    env = gym.make(\"MountainCar-v0\")\n",
        "\n",
        "state = env.reset()\n",
        "done = False\n",
        "\n",
        "i = 0\n",
        "while not done:\n",
        "    i += 1\n",
        "\n",
        "    if state[1] > 0:\n",
        "        action = 2\n",
        "    else:\n",
        "        action = 0\n",
        "\n",
        "    state, reward, done, _ = env.step(action)\n",
        "    env.render()\n",
        "    print(f\"Step {i}: State={state}, Reward={reward}\")\n",
        "\n",
        "env.close()\n"
      ]
    },
    {
      "cell_type": "markdown",
      "metadata": {
        "id": "eDSKmI___tEl"
      },
      "source": [
        "We now visualize the preprogrammed car solving the problem."
      ]
    },
    {
      "cell_type": "code",
      "execution_count": 8,
      "metadata": {
        "colab": {
          "base_uri": "https://localhost:8080/",
          "height": 422
        },
        "id": "_FyIrJokfDA6",
        "outputId": "3872c2a7-4fd6-4934-c495-6cef4d420210"
      },
      "outputs": [
        {
          "output_type": "display_data",
          "data": {
            "text/plain": [
              "<IPython.core.display.HTML object>"
            ],
            "text/html": [
              "<video alt=\"test\" autoplay \n",
              "                loop controls style=\"height: 400px;\">\n",
              "                <source src=\"data:video/mp4;base64,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\" \n",
              "                type=\"video/mp4\" />\n",
              "             </video>"
            ]
          },
          "metadata": {}
        }
      ],
      "source": [
        "# HIDE OUTPUT\n",
        "show_video()"
      ]
    },
    {
      "cell_type": "markdown",
      "metadata": {
        "id": "QAyqqoy9-Nog"
      },
      "source": [
        "### Reinforcement Learning\n",
        "\n",
        "Q-Learning is a system of rewards that the algorithm gives an agent for successfully moving the environment into a state considered successful. These rewards are the Q-values from which this algorithm takes its name. The final output from the Q-Learning algorithm is a table of Q-values that indicate the reward value of every action that the agent can take, given every possible environment state. The agent must bin continuous state values into a fixed finite number of columns.\n",
        "\n",
        "Learning occurs when the algorithm runs the agent and environment through episodes and updates the Q-values based on the rewards received from actions taken; Figure 12.REINF provides a high-level overview of this reinforcement or Q-Learning loop.\n",
        "\n",
        "**Figure 12.REINF:Reinforcement/Q Learning**\n",
        "![Reinforcement Learning](https://raw.githubusercontent.com/jeffheaton/t81_558_deep_learning/master/images/reinforcement.png \"Reinforcement Learning\")\n",
        "\n",
        "The Q-values can dictate action by selecting the action column with the highest Q-value for the current environment state. The choice between choosing a random action and a Q-value-driven action is governed by the epsilon ($\\epsilon$) parameter, the probability of random action.\n",
        "\n",
        "Each time through the training loop, the training algorithm updates the Q-values according to the following equation.\n"
      ]
    },
    {
      "cell_type": "markdown",
      "metadata": {
        "id": "NzZnd9Tj7rNc"
      },
      "source": [
        "$Q^{new}(s_{t},a_{t}) \\leftarrow \\underbrace{Q(s_{t},a_{t})}_{\\text{old value}} + \\underbrace{\\alpha}_{\\text{learning rate}} \\cdot  \\overbrace{\\bigg( \\underbrace{\\underbrace{r_{t}}_{\\text{reward}} + \\underbrace{\\gamma}_{\\text{discount factor}} \\cdot \\underbrace{\\max_{a}Q(s_{t+1}, a)}_{\\text{estimate of optimal future value}}}_{\\text{new value (temporal difference target)}} - \\underbrace{Q(s_{t},a_{t})}_{\\text{old value}} \\bigg) }^{\\text{temporal difference}}$\n",
        "\n",
        "There are several parameters in this equation:\n",
        "* alpha ($\\alpha$) - The learning rate, how much should the current step cause the Q-values to be updated.\n",
        "* lambda ($\\lambda$) - The discount factor is the percentage of future reward that the algorithm should consider in this update.\n",
        "\n",
        "This equation modifies several values:\n",
        "\n",
        "* $Q(s_t,a_t)$ - The Q-table.  For each combination of states, what reward would the agent likely receive for performing each action?\n",
        "* $s_t$ - The current state.\n",
        "* $r_t$ - The last reward received.\n",
        "* $a_t$ - The action that the agent will perform.\n",
        "\n",
        "The equation works by calculating a delta (temporal difference) that the equation should apply to the old state. This learning rate ($\\alpha$) scales this delta. A learning rate of 1.0 would fully implement the temporal difference in the Q-values each iteration and would likely be very chaotic.\n",
        "\n",
        "There are two parts to the temporal difference: the new and old values. The new value is subtracted from the old value to provide a delta; the full amount we would change the Q-value by if the learning rate did not scale this value. The new value is a summation of the reward received from the last action and the maximum Q-values from the resulting state when the client takes this action. Adding the maximum of action Q-values for the new state is essential because it estimates the optimal future values from proceeding with this action. \n",
        "\n",
        "## Q-Learning Car\n",
        "\n",
        "We will now use Q-Learning to produce a car that learns to drive itself. Look out, Tesla! We begin by defining two essential functions.\n"
      ]
    },
    {
      "cell_type": "code",
      "execution_count": 9,
      "metadata": {
        "id": "UrQgXqbS-Noi"
      },
      "outputs": [],
      "source": [
        "import gym\n",
        "import numpy as np\n",
        "\n",
        "# This function converts the floating point state values into\n",
        "# discrete values. This is often called binning.  We divide\n",
        "# the range that the state values might occupy and assign\n",
        "# each region to a bucket.\n",
        "def calc_discrete_state(state):\n",
        "    discrete_state = (state - env.observation_space.low)/buckets\n",
        "    return tuple(discrete_state.astype(int))\n",
        "\n",
        "# Run one game.  The q_table to use is provided.  We also\n",
        "# provide a flag to indicate if the game should be\n",
        "# rendered/animated.  Finally, we also provide\n",
        "# a flag to indicate if the q_table should be updated.\n",
        "def run_game(q_table, render, should_update):\n",
        "    done = False\n",
        "    discrete_state = calc_discrete_state(env.reset())\n",
        "    success = False\n",
        "\n",
        "    while not done:\n",
        "        # Exploit or explore\n",
        "        if np.random.random() > epsilon:\n",
        "            # Exploit - use q-table to take current best action\n",
        "            # (and probably refine)\n",
        "            action = np.argmax(q_table[discrete_state])\n",
        "        else:\n",
        "            # Explore - t\n",
        "            action = np.random.randint(0, env.action_space.n)\n",
        "\n",
        "        # Run simulation step\n",
        "        new_state, reward, done, _ = env.step(action)\n",
        "\n",
        "        # Convert continuous state to discrete\n",
        "        new_state_disc = calc_discrete_state(new_state)\n",
        "\n",
        "        # Have we reached the goal position (have we won?)?\n",
        "        if new_state[0] >= env.unwrapped.goal_position:\n",
        "            success = True\n",
        "\n",
        "        # Update q-table\n",
        "        if should_update:\n",
        "            max_future_q = np.max(q_table[new_state_disc])\n",
        "            current_q = q_table[discrete_state + (action,)]\n",
        "            new_q = (1 - LEARNING_RATE) * current_q + LEARNING_RATE * \\\n",
        "                (reward + DISCOUNT * max_future_q)\n",
        "            q_table[discrete_state + (action,)] = new_q\n",
        "\n",
        "        discrete_state = new_state_disc\n",
        "\n",
        "        if render:\n",
        "            env.render()\n",
        "\n",
        "    return success\n"
      ]
    },
    {
      "cell_type": "markdown",
      "metadata": {
        "id": "n3j1M4MddIBF"
      },
      "source": [
        "Several hyperparameters are very important for Q-Learning. These parameters will likely need adjustment as you apply Q-Learning to other problems. Because of this, it is crucial to understand the role of each parameter.\n",
        "\n",
        "* **LEARNING_RATE** The rate at which previous Q-values are updated based on new episodes run during training. \n",
        "* **DISCOUNT** The amount of significance to give estimates of future rewards when added to the reward for the current action taken. A value of 0.95 would indicate a discount of 5% on the future reward estimates. \n",
        "* **EPISODES** The number of episodes to train over. Increase this for more complex problems; however, training time also increases.\n",
        "* **SHOW_EVERY** How many episodes to allow to elapse before showing an update.\n",
        "* **DISCRETE_GRID_SIZE** How many buckets to use when converting each continuous state variable. For example, [10, 10] indicates that the algorithm should use ten buckets for the first and second state variables.\n",
        "* **START_EPSILON_DECAYING** Epsilon is the probability that the agent will select a random action over what the Q-Table suggests. This value determines the starting probability of randomness.\n",
        "* **END_EPSILON_DECAYING** How many episodes should elapse before epsilon goes to zero and no random actions are permitted. For example, EPISODES//10  means only the first 1/10th of the episodes might have random actions."
      ]
    },
    {
      "cell_type": "code",
      "execution_count": 10,
      "metadata": {
        "id": "rI0TJc7T-Nol"
      },
      "outputs": [],
      "source": [
        "LEARNING_RATE = 0.1\n",
        "DISCOUNT = 0.95\n",
        "EPISODES = 10000\n",
        "SHOW_EVERY = 1000\n",
        "\n",
        "DISCRETE_GRID_SIZE = [10, 10]\n",
        "START_EPSILON_DECAYING = 0.5\n",
        "END_EPSILON_DECAYING = EPISODES//10\n"
      ]
    },
    {
      "cell_type": "markdown",
      "metadata": {
        "id": "Rw3SjzSyAktT"
      },
      "source": [
        "We can now make the environment.  If we are running in Google COLAB, we wrap the environment to be displayed inside the web browser.  Next, create the discrete buckets for state and build Q-table."
      ]
    },
    {
      "cell_type": "code",
      "execution_count": 11,
      "metadata": {
        "id": "2IdL-46y-Noo"
      },
      "outputs": [],
      "source": [
        "if COLAB:\n",
        "    env = wrap_env(gym.make(\"MountainCar-v0\"))\n",
        "else:\n",
        "    env = gym.make(\"MountainCar-v0\")\n",
        "\n",
        "epsilon = 1\n",
        "epsilon_change = epsilon/(END_EPSILON_DECAYING - START_EPSILON_DECAYING)\n",
        "buckets = (env.observation_space.high - env.observation_space.low) \\\n",
        "    / DISCRETE_GRID_SIZE\n",
        "q_table = np.random.uniform(low=-3, high=0, size=(DISCRETE_GRID_SIZE\n",
        "                                                  + [env.action_space.n]))\n",
        "success = False\n"
      ]
    },
    {
      "cell_type": "markdown",
      "metadata": {
        "id": "Z2qG3ayDsRWz"
      },
      "source": [
        "We can now make the environment.  If we are running in Google COLAB, we wrap the environment to be displayed inside the web browser.  Next, create the discrete buckets for state and build Q-table."
      ]
    },
    {
      "cell_type": "code",
      "execution_count": 12,
      "metadata": {
        "colab": {
          "base_uri": "https://localhost:8080/"
        },
        "id": "Ot7cF0bX-Nor",
        "outputId": "511729ea-b2db-42c5-b5f1-dd854a8cf737"
      },
      "outputs": [
        {
          "output_type": "stream",
          "name": "stdout",
          "text": [
            "Current episode: 1000, success: 32 0.032\n",
            "Current episode: 2000, success: 521 0.521\n",
            "Current episode: 3000, success: 922 0.922\n",
            "Current episode: 4000, success: 617 0.617\n",
            "Current episode: 5000, success: 540 0.54\n",
            "Current episode: 6000, success: 827 0.827\n",
            "Current episode: 7000, success: 979 0.979\n",
            "Current episode: 8000, success: 977 0.977\n",
            "Current episode: 9000, success: 924 0.924\n",
            "Current episode: 10000, success: 929 0.929\n",
            "True\n"
          ]
        }
      ],
      "source": [
        "episode = 0\n",
        "success_count = 0\n",
        "\n",
        "# Loop through the required number of episodes\n",
        "while episode < EPISODES:\n",
        "    episode += 1\n",
        "    done = False\n",
        "\n",
        "    # Run the game.  If we are local, display render animation\n",
        "    # at SHOW_EVERY intervals.\n",
        "    if episode % SHOW_EVERY == 0:\n",
        "        print(f\"Current episode: {episode}, success: {success_count}\" +\n",
        "              f\" {(float(success_count)/SHOW_EVERY)}\")\n",
        "        success = run_game(q_table, True, False)\n",
        "        success_count = 0\n",
        "    else:\n",
        "        success = run_game(q_table, False, True)\n",
        "\n",
        "    # Count successes\n",
        "    if success:\n",
        "        success_count += 1\n",
        "\n",
        "    # Move epsilon towards its ending value, if it still needs to move\n",
        "    if END_EPSILON_DECAYING >= episode >= START_EPSILON_DECAYING:\n",
        "        epsilon = max(0, epsilon - epsilon_change)\n",
        "\n",
        "print(success)\n"
      ]
    },
    {
      "cell_type": "markdown",
      "metadata": {
        "id": "kDHTQkREFRSE"
      },
      "source": [
        "As you can see, the number of successful episodes generally increases as training progresses. It is not advisable to stop the first time we observe 100% success over 1,000 episodes. There is a randomness to most games, so it is not likely that an agent would retain its 100% success rate with a new run. It might be safe to stop training once you observe that the agent has gotten 100% for several update intervals.\n",
        "\n",
        "## Running and Observing the Agent\n",
        "\n",
        "Now that the algorithm has trained the agent, we can observe the agent in action. You can use the following code to see the agent in action."
      ]
    },
    {
      "cell_type": "code",
      "execution_count": 13,
      "metadata": {
        "colab": {
          "base_uri": "https://localhost:8080/",
          "height": 422
        },
        "id": "v_mf3A0h-Nox",
        "outputId": "5e68bfa9-4078-41ef-e44b-2e8738285b92"
      },
      "outputs": [
        {
          "output_type": "display_data",
          "data": {
            "text/plain": [
              "<IPython.core.display.HTML object>"
            ],
            "text/html": [
              "<video alt=\"test\" autoplay \n",
              "                loop controls style=\"height: 400px;\">\n",
              "                <source src=\"data:video/mp4;base64,AAAAIGZ0eXBpc29tAAACAGlzb21pc28yYXZjMW1wNDEAAAAIZnJlZQAAkrltZGF0AAACrgYF//+q3EXpvebZSLeWLNgg2SPu73gyNjQgLSBjb3JlIDE1MiByMjg1NCBlOWE1OTAzIC0gSC4yNjQvTVBFRy00IEFWQyBjb2RlYyAtIENvcHlsZWZ0IDIwMDMtMjAxNyAtIGh0dHA6Ly93d3cudmlkZW9sYW4ub3JnL3gyNjQuaHRtbCAtIG9wdGlvbnM6IGNhYmFjPTEgcmVmPTMgZGVibG9jaz0xOjA6MCBhbmFseXNlPTB4MzoweDExMyBtZT1oZXggc3VibWU9NyBwc3k9MSBwc3lfcmQ9MS4wMDowLjAwIG1peGVkX3JlZj0xIG1lX3JhbmdlPTE2IGNocm9tYV9tZT0xIHRyZWxsaXM9MSA4eDhkY3Q9MSBjcW09MCBkZWFkem9uZT0yMSwxMSBmYXN0X3Bza2lwPTEgY2hyb21hX3FwX29mZnNldD0tMiB0aHJlYWRzPTMgbG9va2FoZWFkX3RocmVhZHM9MSBzbGljZWRfdGhyZWFkcz0wIG5yPTAgZGVjaW1hdGU9MSBpbnRlcmxhY2VkPTAgYmx1cmF5X2NvbXBhdD0wIGNvbnN0cmFpbmVkX2ludHJhPTAgYmZyYW1lcz0zIGJfcHlyYW1pZD0yIGJfYWRhcHQ9MSBiX2JpYXM9MCBkaXJlY3Q9MSB3ZWlnaHRiPTEgb3Blbl9nb3A9MCB3ZWlnaHRwPTIga2V5aW50PTI1MCBrZXlpbnRfbWluPTI1IHNjZW5lY3V0PTQwIGludHJhX3JlZnJlc2g9MCByY19sb29rYWhlYWQ9NDAgcmM9Y3JmIG1idHJlZT0xIGNyZj0yMy4wIHFjb21wPTAuNjAgcXBtaW49MCBxcG1heD02OSBxcHN0ZXA9NCBpcF9yYXRpbz0xLjQwIGFxPTE6MS4wMACAAAAQ0mWIhAA3//728P4FNjuY0JcRzeidMx+/Fbi6NDe9zgAAAwAAAwAACNCLwW1jsC2M+AAAJZAt9C+gGAAN3dq5XHPUJqMQ9STIE4h5i1p0ovAz2D6+0y6GAp6iGk03o7xeeJnNFlP7pyt72mmO8alQPFkcQS/hupH7h4mJTeRhtQk621kLNt8RFPKKRW6wQBeqa/bIUz2QUD/5/AKR9JghRtwUcbJYDG+GJMPfc0Z9+Ky2ZULlDK+ObhIm0waUlSDFaiGatI7Cv9YYX3GwANdOvfJULx5gqPt4GHqavREAVJQU2iOKP5G+WttIUpCgmsc99A8Dcsc4NyqwXB/Wn1HghqJQQTXBhrqdl+eCJeXRZ8bhBdBnr0sWP5YVPan+zifC1CRYcA7fnq256iVjYkyvp6grqbaJSiuDI5DbujXnFly7nle/W7NR/1S2Vof4k+CO61XnSIdtvxgWBwUWA46h0k1oBtMIQvNUXU33AM8G80Ey7IIx18o8b2mKF3zbUTMnFoBoXl6eDPvaN5fHuWZowtenf+WYDl1jSre9SqRT06h/6ZRDv7xTAHJNq6qxYSI0NftlMttSAzKr+nSofw/95u7GewZDF0yP7yLs82zMDY+0kJ1m7wus3HJL/RKeMZXAAAADABOd+97ZsfU/AetTFlL3eGUPI3gGHjOnAH31e4cNjmvsmesMTTM4eiERjIRWvHAU2TClT9QN4TxKLEodabOQADnwf0FnYOL2zQOiHdi3H/i0RT8Z6Q0OufexkjrfnBX8Ml+QdWQhPTOOVmynP2U537Z3NDuWSSw0CZz/THyMceaGg9XQ76ezrOt+G1EjwsVV9mb+q47cAwK/MLgHGq7Gck3N7ogAwAQ5YaQCO+lmuiUbPjz/Yd02QKOIDdL3mSY6VuxGFsKBYO8f0SRO+qjpT+Cm0RfoXnFLlFhjelV7VI7Aj+kvvWhqqdvsZh0oAjDuA/KteGfgQh2a4TwEB+IGv2Gkdqv3xJ9lIxX/3yowxySFuZ0+f1VUxedtXp5HyDwABORx1ZrGd+OIhIS8oWUL2EdmLP7P8IXICbCYmyEDV1ApwDnEiEFKoBVI7Zjll3KcVGMmcEDgBRlXZlJsPyA8JyP6fGtElmhHQ+E10HJ7Thld6rVLs/sbMDcspT4yhVk5V/cdobTn/kQ4ShBbsn1mFiUmUBjTYEwVOB8nRWYZ+fZRorSg+VbVzJwEziuojDaBme+4BQmK6S3hmx04jcjPXejw839OdX/0emPwxp6BBehtubLMbrrq+Kem0x/eRuI7IEeO9nvalmIHwarzjaNA80eco7v8zrqhCDQXtvbIBJZdISniHDToD9Vp42mUm6kHhfrXqeY8e5YvE+3q1aw1I3K58e2Q79VN900UgWF18QdfpQIPLBATdwg9uAABXVn0g9eAwYBDKBh09jReeRz/kgP9MBDPYe8dOVtgfULjZd9klC4VecBUoXp/+/Nxr25nUt3LNWyjZXfLHXhCqmA9rATdu88/aPY7n4+AGAT+ND337i/gEtQ4dRrGlDk61v16gcPogjUgVwKx1S3Zx+KKpV7WAYRfFTmnMBoGh+/rqA36lUBu8wIXFD8KGhlAtdrRoTlTqwsVDMspO1rMsY16Mzy9vKOik5cvigHNWkJYSI2kzf5xeYjU4G1qNAAAKeEh0P7f6H0DmPODvHjYSys6p7vhKP5r9wdkl+uV3Z6xqWa6/n2i3CaCbnaxxBF7rWQRZG7cyiWHlKfnkVk/FPmeB5yz60PqeexBVHUedbqSlUIFFn46vItwWNB5mdT+0Hk5XiCR5N6YJ60eWMgNuZunq3KmlwOgSF9IZFvTE5YmP/E+DqWFW25g+H8JrIC+4qVZU8h8qoFOEntb8Gan5nCwzXh2Cf1XJXipmQgC9UwMeE6iorSLm3mlsdcv1bA+L1Gxc51Egh7PKoDfoCfAMSh51NH/4r+nsBfaKnmjiSoxlIz6n6NnLJ6GZdgledksv2OEQ99NWzpFDN5fzOMEOoKSkP8iP1XiTAEosYw6eQtMq51ui6y+V8oEUBVHNLLXqOHl1oi/oYektmOyxg1Hd5eBPwgMQPWCYVYBQ2me0z2N0q1CmVfXrRQVszshaKzTxwLV0jPYm1Zlc8FsKyCo3pWKDEzPfx1B2sPBA4PZOmgMkq9HGsKIc5Sh8FXCUq8Iyh7v8ectcPz1hINsCBKl8QDSpbpcn5tIQBudtD7yaSsVO8xw5o3W2w8pAMcq/1an/tPs7NuJBW4O7gS7Ell7CnYIIZ9MO0OP1chcSVMbY/7+wVQ3c1Ph0CS5DvhM9iEbuhggBGVX1/BkWed0g1XrynA1m7mAWqZ34Clk+OlFhF4Xr5DM+q+Df2FUpysy1PHwPWh3Bd7Cki3d/K+SIDBJFHYxHM1tdUQ9P8ACdSHBQ42cYV6Ner4oK0o+2bcghkAIyh3zSC/X7GbWlLV95QLuvuZBxFSdTaYvSj0r2uByPQjOIrZHfhskOhfTZLNV5v/I+31vwyL4YwQr4BKE9JWHmxPEU2NFd2AQJNUpReb92cAt6hVXu12udLBXx+UfDnO6NARPTnYfwOZogS2uprKQGAqrqBMz0s6xAOG63e21z3p5AVddb+mqmUmelJz7GrVSz4MX+3DAav+U4IzJ/vfFD4V8bMz2iSD9RfPh2hBJaEn2DVku7rloC52Bf6czw4OegTryGK6hHumSJSD0VEmRRDqwj1W2uEYxgZ5nWiiZAnV/dNw4FBpjDYnGf0eoeCdV8Pf3H62OcAeLd75SYQFu1GDX+cMtaUuLwZMDCOr27Rb95Ax14Ok4yS9rVDbjdn+xXIL3aPCmFwpGiWj9X0IAjxkwPU5Q3DpSKwtnn1hpQAHb7VRd6vLWiquGKNsKhnYAmqdfD848xffseLvyWSPeoFhgZJm7pWnP7RsnlEVszor19i4JaG8SpB6oHAma2sZ+5mZ3BentE3Y5BFC/70Fg4nzcSfH+WEgaTz5RnCIwdZS7qXK484xv2U1QNyiL4lRE8MTm9Z9f+DsLRbSH44Xu7NU7itPXcZR73YXvsqQ/M7WMRp21Afj81jrXodsb9Q04y5Z8/rfzIxuP2ir8htD4I3KKxhmLWsfJjcNtd2OAF+Zu0Xk5asplaF0bDEq1Cl4fZFiqHaNzYqF9z81GWGdijm3fz3qPOQB5NMyT+R2ZsL1jGzD7mbzD3bLkTwoyXEZ8V1q+bZIn7RKYn1tvfVleNiAljTjLegyZQFap55cGC4xC0w3QTTn5yjqNeypmTUB0Nz9/bvk0H1fAwGyw1TC06BFNQedySTkKA+xEaB1s+OtPf8vNkXpX5Fjuhbil/Chk3aYjNnXkLbBhkP9lap4E+ihO27dcATbxoYiZBkNewn7RMoyWyUZnA8NGvJK1xqqCzC46d/zvFAVORiJ3h7T6vpgcDN3ReYHcNm4Rs7EJoFd+h+KYOvM6/67X1RthlbF56AJvIQ+MajL/GbaV3P6jGocoZNP/yk29MXcOXyHSixHZN7O+LQEGV3nun7YTf/97b/vo1VOAa4IsQ0lk5KlWt5o/dSGxhBOYEiIUYvxJ12GcFcx/paQ7paP87MjAZap+P+83+Q4VS3eNSfqbgdpP6K4E/0bqQdF5dJR7BaB6+Cfl/pHAAGnvC5dxSwZQ/USFks/Jy58WdOUDvVew2S7RaYhka0f75w83bkOjcm39m1XJQs3Lwnvyl4LvXNLo3SQqH+kv90wBF82nuYhuT/OHnWDEiTJdr9jPW5EXSuCbhiYI/7ArKem3YqEtcoepyX38xzCcOeWw/b21FwV4w3AglAXiU/HHy3XP8Q30ulmp/dZdr17Sj7Uo5H6AniyLVct9H/FefJjOO9Q7V4rRBuqJhnYYka0DT/128VnaPLbpAyM7UmoBjeWJOV1FC7fnAAEUC8ebGlie2A8ttljQRa9853NtBJo8TzOAGccfryT/RCX+KuNLf1VnJWN/yLjBCBSQqE0y0evfvtRXDUgcSFd0Z1L4atfYXv8p9KnMn8kac0oCRnc5ELxb5fJ8Gc/BLRpnngei+27SViuoO18rmoZfZ5iBqDb5wjfRoEmsHJq9l0M3sknD+wGgoh9Pxwlfn7XlVLp06U1Ov4sN6XwdVlBAx5lEncPMU7+3yyp8e+2w3swMNS/Ht9iQDafRMhcMS3TpXHEq+u6LWPgQQsJ+tKKveh0nE1VAane0pwAAAwDJcOncLZ5JDBOkDSCNoI+BgW2ZvWZni9sOftxm6tQCMFNBOj4JA9tfzIlbtsOk/ElvUSOU+5NmzB1nc+lKOjVhZVJSOUrJN7WZ8wckc1PJWAbjnuonaTtW1DCmGpAWuRljD6TP8B8ODGjQf//tWxxnKORGkZ5/mGle1GyU4iArkLXdBLjXVkp/zISlWY2zFwd3N91pRMUUm1l5ExenQhgGA7IuFDuSoIW8/SSsd8QyOocZZafTA8lJfw+kCyY0D7WW87abc0nul1JWvWzcrMEVzdQ3VXEqiI9y1BzF3/lI3iDsiCu5hdVsYVz6aVBas4Pu4Xu4fV6UVQwpYg73bMdvxwEXmCBl882YrlyAAJHWZ3Oj79prQtIECRd+6FSi1OKdTDBQ1JsIj+gpJZu/QIFJsw8Id3pEZQuX8IH+PG1evZzZgspeQ+2yvCaeHeZSEmMyIelkdFK0/0wHqqV8/S3ykkKhFT4I2fA0nQV3bPS82V9s2ARDyfEi/2JdDCkcUeQCWTM9vtmPuEywmGEymANlWP/KLFUP//8gBqJpdNWXKAzgZyOwe3xVrtDZsuqy550ZiNUybMf/LNLN4fqJybc9SzNrerfs8IWI1t+pfK9jT12hXgoSNsPZVwhoQaIOybwDLSzCoerW0RWXD8jl2cst/Z6kEaZeA1jM5AUTulABSiM3zE8BNZ6+mwAn+QmHUx8ne6kF5DCwMli1oyO/iotjTXZCiqClyWBQLPcJoQHn92cKgDqM2Gkz9b+JkxOo4QDs/wa2qg9ZV0qtKy/QSEbuKv9LaYoec4isTXCOqhwGhKqQDpevq+gqgoH6bALYY9eGHKJ2KVvsy/FS8JskRqQUh+tKiqaR7XGOUQx00xuV3GM7gmMNf4Q51GcgQekF/SdxgSlvC/nDy4JuVJ+Ae9IVtlGoAAAzwY8TgTaKsauUmFHse8hpYUmboIQ4F2/6cAR5qAKvYsEJvpPKndmVc9DVcAmU3Q7b7aZBdOt9CBBg06SdSnws5xsV5nYHgPRPHtIz3g7qAq3xQk37JoG3VbyudjPyffZBgMIlmDgTKFzOwp5W48AmwVL+Pk7XKF8zihTXEY1AGtyjTUhArOYd0kGtKx/26Tc7eISODwMzTh7r9Kg8cNFbQmqKDR+GAkwObFG3g7bAimiqPijGrCV5kz/6HelPzMY4TYBBHYhRycLCysQzr42IMKlVxJE5FUucfCmsXV6qNS/JTAxrcHfUV9QlnC7Jd6p3kyvuaTLG9q/D2rbew41bq3O8rUuF1YRCBdn/9uJ7THHSEBIcb+nifPP+2iRye/ejaWIZ7kgWRMBoVmFnzdKwQl+5/f+QYQ4h5uKoOsO/6AGMnmk9/Ktg4ipUnq2kmcAv/JeYZEIe3acnIyDEKQ7LAkNOfyDiF4m5iblvOT6+BIAdXsdTr2Zg8AjT3VwLwadsIMqssztjd+U01zjmpKGrpclNfz4MLNZMrKf5/KhUWkFCjaqeBd7nkAAAOeVIc64CGFPxNDwIlI4ZGVzUhryK1+HsO0O/hBdcjhjyAAADAeUAAAJSQZokbEN//qeEAR2a4SCmAOABYdcWNR2NNpk97PNpWRMEEgsG5uI4FQEX4VZnWLLqnlzT7XFTQ0XeprNL/QLTGC4dO1Mqk78kdRrcW8dN6bZPtSTa29mQpcG5ZxxBg5LCTX1qDOgWy6krYzyBh8eEXoOL+OlnXl9lOXXgVQcGHPxH9szff6dzi8QOyJdNAu6xmsrQ8YprCv5ws5apwRO9o3+LOxQNV+04i0AEoAQIdm9/8SqXf/oQwqV4KNndPT4qdpIhASEIuIOHD0m4S8DTjRq41CuuyQv3CXKHA+t1n0+ybtOy0H9ob6JzrJTL5EEFg2imvpxg1Y7HkhcoyAKwt27ubeof5HRG61CIlS2LIFe5qc9grhMkRepuQk2TSVa0OYty3UetSfr/+Dwek4SmHAtTj1stwA9u/wV2vpFNzKt+lTXViW9lx3UFXdYL+pKKVuXuLxUMU1ZEQLVYtZGGXhs2eEMBod1p7ihmnEuSCxYZocs/JS+PWxRyx1IIpdQYCPSvgK46w7098JeH1e4U36z2S2tx4UObaxeBTw1fexMOKxOfQFM7N3vAauiADCWcwHRHSJzlpUlw0GeToAo4TkCCRw3KCW5/yr7HhrVB5M4bNZo/rXXH/FmThJfT4ZEVsVYJrFeqygESGhEeO3FVq9VlmPq/96m7T3M5wkINztNrLnDC0opYs7QHob+2RhLli0w1Nvsx/y4xO/QlzFCngE5JZhH7o+3C5yZ3oXgdsfJ7HroLUnYe3WXDMrs9H/AdC7SPNGWjy3TlTOZ3OYhFLAHzAAAAyUGeQniFfwANgP+V7ayBXEOMRKfZDvDsMLfa+Nh6a4XtnLXvcZMmyudsHgNDWdrv5fzJGcND/b8U4Jrp6EnwAcfLVERCK9YukbNkk2DygdSBF678OHzNYpJxsH7rdRiRYWKUbHEjxhmIWhsktjsJN75jDVET0TZbrCvd7XjEZS/J5Muv7leP46kObuPrgYH//sMyD4BBfn40GrUo6jVmkbIz18eLhkMvzUE8uAfp8gyrIZqDZJl5zlnUC9WFADghc6l18xdQSIoe0QAAAG0BnmF0Qn8AEVaT2+S+wt3C9jGDBkZeDDoPnbW8Z8uc9QuIkPiPVdAnye4ao79xyl9bdhLOn/eizS0Fmy9HkYNZAB/HYHQdA4TXXbPrJIivnKvyegWjBB68+vOeqwbVHrUAlu4h4rn+wIH+gq98AAAAcwGeY2pCfwAGceAmd50a7wPjYgSkpfqgA2gq/I2lUt3hwDo68awb3J23+6qCjXHZgaNyC8o87Uii7RumIqmr/MhXPLuoWmSEyf1bgVi7VRT+Vp2lUvp11tDoNq9Gd/1kKh0uTtZgojYlVHT7Pu3C7EDqjf8AAAEQQZpoSahBaJlMCG///qeEACte8J/jtQXwab8KAAh3drPNkovSob3cMfBMkKmqhkg3QAAGjege6ZApTqxftaEVV5tfw4BL3ZER/iZOBUL+HZXi2E/Xn3ov69N/Zrc+1nj71xBok6uqb9z3OJlwB/3rDI4hFuPUB6ALuMxXugb1qe/4CZDNV4+eOEU3JY1i7VfVGRfbNKqFA0EL7dka4JQkRQssTx2mRI+1fbjzd+Dc6ilw1fkbWq854wHjQ3dCKilE2sf2mgQFAeikocQkQaDT/k1JuX7KN7reg3j0XxuImAdpH/fU1VDdGDoX3RcMCgPsAnFBnK+DIsmlc9USDLDHF48RKgESYEijultaYgrwDOcAAAC0QZ6GRREsK/8AIrI7k/p97X2/DMa8WA81za+N/f0OHHjIgc9TdQmAti3/CpqAAiDzRuwKfAdCVMZ6j7TDxacMYcHgz0JiJsCeUCVBF0dx5mDLnRMprMIwHTjxwA7XsFjWbDy05e2tvyCvuPSc2PVb9rMbKKN1AetbRv6dOw1emalF7LNjiXWni8Fye+Re90up3M4Mr3KWDCwfYHGec0H55mff2S/GECoeAXNxlSOS1FvZYQ9BAAAAhwGepXRCfwAGb8nvIuzyTzfG/Q17QVLQ7QtUoMunXckuEADlmUHODEMvnqJOREdglh9SAmAvfX1aTcFOzIf3YRbA3FXvCsNE2YS2x1xegd41vUAJg/omkdxVGRyaBwunKoUJ3tp23eNmYcO8mNJLJXTL6hLJId+aYH19JArmowDnBmHQ/dUmQQAAAIABnqdqQn8AAo9v4GumK4S0yWfmbLT9JKrRfxlcQAHaGd9y+wGyZNcVOXADE5W0fshMU0bElHID39qITcJCyk8SHsxP/ITJlitjKDjayfJpezQClfeOC9KRaC2hdb7aHjl1v0vzRF2qlpsnkxGzJj1cj1xDBazERHzfRHeiE2DXgAAAAOlBmqtJqEFsmUwIb//+p4QAAAMAAEm+RsD/loAwTIz/QiwdEjRIBEySkT6AEtXJdxdrPNxIdDEnjDDLr9BhlmmppmzE0IKKCiWI9bE8ymBgcmmpMWkpwJW/HVyUJkN7bGw05WSbFYjEQbGCL5tEdj9WubArq2W7y4mbLiO2FFwX2k5WMsp1Q53T7wUpVmFW57u1j3VQrnRIMFs+XtGQtx0Vaj3IUkDSLnwZf4JdXkATHVg76x3WIG87wN46qIL2qWMnJkBFUa8zHQLPJ32gXh7uZnlSKBDm0MLVDjIsNBK3p3KzgaXW2WnygAAAAHdBnslFFSwr/wAB8a9EX66BsJMKzFwLWrbgyBNehTP5VUyACn9Cm4E2xnpHtdt19GtbC6ZMk4IFJBFBMSI/v0CKrPFtP9xuGHG6DxbNT8iVQZBfmFGwWlMNLLhnOUn4RBp/yjf+qJN82UVNUegpdVn4OBbLpnSLrQAAAIkBnupqQn8AAo9v4GumK4TIjfT/TtOxhYMYA5LC2quqsVqLp4Ja3WD0fTyIYB3hvF8AINJiioIgu7jBPz92K2uHtr1DPhiCC3QN2j78J+B7Bldhpg0Fq6ZHoEq+ROZL3X13/gJP0BV7S5DISkyZZste8b+DaGNvAyw3q87WIIhnvxWKqXinOLazwAAAAPtBmu5JqEFsmUwIb//+p4QAAAMAAB2tGmpeegAuo2P/3/cuxX96xOfpF5u4VUrfeCbqU2vtIWBLYBmV5Z/lv1QpLl8AUNAiWlitn5C0ugeQi5KH5208p0+1iYFK485u9zRGSYOWHdGJG5xXxRH43upnafK1b4g/2GEq7zrb6F0fHkaoWRfB41urvxcPiTKed3rdZ4KoAWn7DlykM0mn8GpQEzYaHANzxjqYVyMKxsOUyJuXFw5Xer09/pb34o9F54P1CGH/r+2rqjG10TFohWmr1/GOkKD9Ryw/34TU190SVkpa31bQwDhm5gF2hQ91+bO3p0+NHngG84CdIAAAAHtBnwxFFSwr/wAB8a9EX66BsJMKxcPSu7zL7wwA7Iu8KlqVgy6tbs6LruXMAEEsz6mxuGpLxMMgvtsI+Xp0dbG7cMv827uGQM22slArtEaj72iV13azOsiqPx+fl49k3/Uu4Zo0amtS64qd5vxExeCwxe+mW/BesQ+505EAAABwAZ8takJ/AAKPb+BrpiuD+M9KMyiX9rrzbQK4BEcowZkAD80VzlrIeZp3NZZDzzGyDsoc330fYXUrhDlKVZu3rjuziC8oeAI5oQm7EE35qYDobSAwFjIKVno30uALhbDiLaag5OqNb0C3zRyamjlp3wAAASNBmzJJqEFsmUwIb//+p4QAAAMAAE9hcpJVYSfStAARA8GVvvpNRnKetBwtw/4cESYs3E1WtEeYiYartS5gtQn4zslXKMdc3z+vM8wWCWb/Ualzfy04GPwq4Hhgo/8fA0kFdRWplX6ZRWhjwSimHEBO1VEV6MEyYtiSmEu8FcPGCzEhOEtn1zjbjSGKW7Mi2nkV7KMvW/kFJlDeaugqPJt9x2DaZy//gOxcDiCzCaFLfSCEiAMNNNaeZk/h6smwa1ZKDXNs0PD7POzwXnbpp9M7SAEe78PKJTlVgcJf0s/ccgLZ1O39tVYIJIRURotTdlWUbWjkkBBItsyehT9gwW6TseEIASOLoEXowGoJZdTrjQpqDWurDtttZn2JJmOkUDvSKiEAAACRQZ9QRRUsK/8AAfGvRF+ugbCTCtDrQpSwEWhZWbKcCTEeMLvhlq+ABEHm+oX6bzBRo/SJrYVJBqezoNhTAdph289tRGDN1d138dB/f0wW1QfXlISCywwDi8NmKXm39UbwtDVQ3dP8ZJI2cPag1g1vBWBFseTIxf8iahEIuQ7ZuaGk693+J+8lUaPziOXe19f1QAAAAJMBn290Qn8AAo6MavuxtgikQ9iAC6jqeIiJ1M0vILya9CLVEAcL3EJKivKWo56YiWGZS/EYyw6tgVMzM6Ct56aiaIWN9/VsmYKiRzgcf0Okwb9hWW/eDC1bkOCz9n7+Y054zW07cBxLPBt9lN1RE/0KA5XlICnvqzuOopHvpGArgZh1fARTQcPaJbJNHU1pmIq9eCAAAAB2AZ9xakJ/AAKPb+BrpiuE9EvSG0321jhD7lxAs6UyZ+uWWmwAcp2xy2xsHLtscrqDPVqCF58258TzSohGbI68c5m1+yFeoF+Lp3RCq4ive/Mpob5wCnqiJ3QP6Tl6JS3LhC2eNUQ7G4Oi0sBSlJwP7ArWf1jgYQAAATBBm3VJqEFsmUwIb//+p4QAAAMAAFGw6Zg2QBxwWa/39baIGMTdOXfXtu8iKpsMNwbYpku8dbwfq4/6hG8fdsWwfb6z1IbNHK7l5FgKRuZ3hxPBSybbQmW7k4sHNMrv99Bz4fspRPeRBIUPKJ0QC1oi+mxvGIkwEvfu2rRirG8kEqlw1D1rlzyftUfBM7ZOGBGYSq/xe96lttXZ8NWtucu4rep1tdvupYmiMMnT2JV50lnsYi4jnlgcKGITeAWuYr+7nsaVgz6Arv/FV9U7OHRz4NCitxbogWrXdgxCVgLSx0K3JrkHUFtyuLCf0TANZs6SVbXC0kCCEz2cJemdKdo7OoqT7QDdVhSNzLnzmHJ3crJl0exI5d5uYQJhSlxHPEjdmS52eVsXXaCoZqF6x3LcAAAAnUGfk0UVLCv/AAHxr0RfroGwkwrTOBbSfQHuk9UeKAB177CixI1KVYaIYIXo0NvUqy/sEbEGpSvw4GgLc5fTjmfbjnf5JcAzd+U/2swMdIfNubsn+AFjRrUAP/2LSUDIM1jXe1twR6CmNV7480hnn6VfqkSnWWHfHr7EB985qfRRG/f9GnQ0FcWdmwwhO2p8rQWcl6axeuPGIyWkT/YAAACIAZ+0akJ/AAKPb+BrpiuFIBFWgybjFzMx+HfRACFPLeYJEHzHPEZWIG1Qan3KYD3Oz08E4hzTqMoStzD9UtUSlwpnmgRBr+riY0BsTNd02Qoj9frNgdzdzaYKsxS+Nhc5pEYvFrAcLcZf7L+ySZYfSlncL4CPvRQYcVwSYHKTJQN/T7h+hrN1mwAAAO9Bm7lJqEFsmUwIb//+p4QAAAMAAFG//kg7ZADagrM1NRDK3qN1TfeCorXWKjoMCrDufqXrr3i/7tbsaWSpa5fhq86cVLd1wEZLuNeemRK9RmjYLJFzorFDHbJ/Mf8iLR0ZlAlpNkPk6q4nW31hbBEeu2Pza5zZkOk+UxDEszBT19QyoMteXYIZGgaSYW01AVeColXvpkq7Sbh0xdKjQIFS6She5IoOtD1/6ATBOeoasrdflU3NDjzhjuvfWITxO77l6MBF8cIvPedF2gAjKhQ6nVYMJmvSP8jd81m3kTuckLm2iV5UuIo/zN28D79y3AAAAH5Bn9dFFSwr/wAB8a9EX66BsJMK0zGpzAEYhUtzbRkO1qeLBhQVncAIFoStIPOLJOmL6XHOYmraQ6iPDTBc2A6rQpz/AEYAeGzC1hwy8Ryd7ixS3qZSFsekzAQEZBfIcEhWn+a0OWWWRY+G20mDFt/5HXFdTFSIHxhJfb2wDe0AAABtAZ/2dEJ/AAKOjGr7sbYI7Mw6YIALY65d2QhonsgqW/eZiHtqlc3SISGiHxxvf6IhX//QFO4ll+rhZVcRfCvQ3dWIcOCbCXrG8XkGCR1tH1RQM/wTrhC++9kcjL0Wu+WvYHCdyTL8U4UcZ2WKgQAAAG0Bn/hqQn8AAo9v4GumK4Ub1YEAB/O3rIdevcwFUlr2faqmtbNMgydRDx948ypQwIKHDtNl2di0Frbrhj8/goXdOEu5ofBn9Mz/Fp30l7nht5u75FXySXE3TfRaDbqPnHgRktifOXy5plwYRH2AAAAAvEGb+0moQWyZTBRMN//+p4QAAAMAAFG9dbIAFv8u6vfPcqpEA2uKmSrZYyQkNOXux450rVzY5y/MEcRysiHvrSqzhKWc230b8Perriokk7X1y/EQclOfvogJKSj/BzxuNUOUjbwQ3uAbUFo3B0SeB34sQhCwiTCVoI+CXxVoRqDwGKIxFv9881ne+gt7NYnIGnnts5vgFldbUzPZeS0zw+CR7Hts0hbzASWulChFIgV2tRmlNaQEfpv9JjnBAAAAIwGeGmpCfwACj+b94uVFcVDa3r+8TqBG2lWgu3mWN/uqb7PWAAAAJkGaHUnhClJlMFLDf/6nhAAAAwAAT6MOjXT7wIAE4JPS+xa+i5/LAAAARQGePGpCfwAAAwAAVC40nLzQkUAAutp1hMT/BF09ZSxjSJDIEyCnsxV29b1z/NPLvqMvyk5CTfzbK/Y7SryypX8De1gl0QAAAPVBmiFJ4Q6JlMCG//6nhAAAAwAAUbCsnyu2ftAAdBpLhZeO1NA+/7KUr1iOKK9SE2EGZFv50xpORNPUY1iJwUzave27MPGP/n/ylVsDOC5wUlAAn4WhQ1Xhr3LSdc1XQhT7XF3ndWgAtcGVGUm/yUjx8vjVO4ijSKBb4fJlJdNe+arJQndMapa6WBXDcnBrFGyMwACWNIhPUo6XfCxwN6W3bb77zdBGq/NEh5vatEPLHK5fr59XAy4WI/HsF0pwj7mROgMpRFFS1p6LXO31ex9bBc9CtN+7AB0tKdmF8AMKQ86HFq7GVw07HuSQgPBxVP+bYNUstwAAAHtBnl9FFTwr/wAAAwAAhtWDbq3koH4kAC6QNiwVfqA1olWFNxd1BuLjKDBeiFh6b9ymwtGo85/uBUPdY9BD3IDfpOOqzqqA61N0Lb4Ii/waaJfJo1hnS+J1481b25x084q05HNFSvqJGKk/iMqwO7eN5IJ0jiGpXqEN8YAAAABYAZ5+dEJ/AAADAABWYXjDl1jgFoxWgq0hogAdkL2Gx8++oaGn846+YD+8NVdzPYqKBvJxmCpngFv0G2dmIQqo/1im24SWQ3fFFddcNt2jhjskF4ZKD0HAuwAAAGcBnmBqQn8AAAMAAFXskWU08UAEl4BxGbM53DMOwx0EdqlfaQ7p5IdZ32gs3RB2MbvHACQzqUdpjUbI2+Ua4qSYQGdtrdP5/lhG6WKX7diHzMJvWVJ6NFGkGKyaBeaQzed0xmRfhDrAAAAA9EGaZEmoQWiZTAhv//6nhAAAAwAAUjmXY6C1tnTlPYAA0aBVnfcybDp+KZ2KUn50GDkQaTRhDm0pOaYT/xhAsTxd7yNKDouwrPWDRxkaXNwuVafrGUhWECaU3HH4Gb3grt2EouF/gQVStlfYurt+MNf/pvi7kLvykhwINkfgXTe/jqgU3skPsHVqtIWtlwiql0KjRN+Ke7UyRMhbg5YOj541saNFXPgMXW+FeACnFLcdXfbf6ytd9E2/6ObYNh6mnwdDxaAcgH44RBeaZ3Qmb8tvKyDRL3PZbwf09z5q2lWayhgAHD/8IQK/ofTKuFz/392FebEAAACUQZ6CRREsK/8AAAMAAIcGaPnqKaZV3vQAczMYLdU1EHaK7zLbIsTUUAVIYJBKBdWc7ru988mwp+jJRXDQbeVBST+iq5ZHEa6XO+yBzVF4nKiLu7+Xll5m7YzIyQzDNwEeNfqHRgPb9w1axzRaSmg83EpdlQgXaBugDxHM6gvtsJ6AkQB1kdUGKxtvUKeDKp5RZ+y4nwAAAH4BnqNqQn8AAAMAAFPp+6Xj0YADZx/AYZ6voR67xse8wY4zryhEqJK8yPv5iPj/QBTbqeMDMqMBhT2ZpkW6lsDuj8DHx5ZwFYuefnKxb+Jn+lShza81Civw9CZ9tHZNup38hO3xZ9paUVUzbAbrvvcgjX/6Ets7YYBbmResyKMAAADkQZqoSahBbJlMCG///qeEAAADAABP+Zdo5vKHoPbMknevi4ANquLO/+CP+G+m8L2JaA3OphlGlh9es8ftrVZk0htJ3ksfw8ZB8zd4LrFRQvy54aoC/86xq92dxuRdf7qxN/qRcqGFXvTbNyrlxwKcTci2nscVPYeUdvHB6X4jos5l6F5461AdrbNO5HWuHWKbGJJYrDYZWVnVOaXPAoTCAllMWSfgBUkBnaK11D6iZBTf91xGa/cdlgcMS5EezEx3+drwPB8emJnQrfYRUAyIOVxiz8T6nQPYx247kVX3gqLGpclhAAAAokGexkUVLCv/AAADAACHBmixBfvTBnK3Dnwaof0l1pHz+uBmNWGoiogAC6g5ih27eU5h2OUrk0b6tJ+A4zSceRYJx/e0PgZQ7LNmgLZ8x4LvD7U4nrqlIdlvRDBY18i85uW2dP4BfBpb60iOBgogdiDZQ9HhWheBqxbJX6nzQKQeBybENLCGgKZObbtPpImWZr8nGDGBmN8mlVkjiunt8XovSwAAAHIBnuV0Qn8AAAMAAFL+M2jjsJpzrQCBMXhaIZxjAAF9cDZugjqOx0r1SJzF6q7g29LOkGX2RADK9X3mYAKyi1gQZFNOGYVv3hoOQ2ER1fPE7G7NbkwOQ5VrttDZrfTUmLiG8akjTbt5pAwRhjTLM2jY1zEAAABlAZ7nakJ/AAADAABUK5FHgBbxzgZZrVvPX3kVB6j96aueK5ghv41DhFPulEIhlE8xLrW4lOVupAXjQo/64JXgS0b8z1mIIA6QdemCsFQqXJ9P+lA5jW/mQ/AULH2Uk4mwkKpjDYAAAADWQZrqSahBbJlMFEw3//6nhAAAAwAAHb29faPnKU4MnmENFiogBx46dzChAFph355elgjCvI+LMM6SWVw4T8KyPlraNPo5Yw0o1QUR57P0UUajFfw0xFoGKLcq/od5A0aefz/qHcdJsTmPhD3DSAhVD+3AuOmn2N0G2VbBrPzBDnFf9AWcMShA5yGUj3L8ZMU6H1fJNbZam2XBwvJdcaaUEb9ZNMQe8dOHeXTpmEwCi3DWWE2+rbUjOEi0uhfjF+PH3PRC44rHNvtmsDF3cGWw4oCsxqRmQAAAAGcBnwlqQn8AAAMAAB8N6YRxZSbrE0y6Gvu9JSxoXpFKEAC9ac8iWlob+Lt8BWrMmAtvjqVxpQtXILgKGOhU3oAH9k2pF4VDCQfeYINtWa6qmw9q1ttQuFVTZC3ryZ7jsCMrRupqlryPAAABIkGbDknhClJlMCG//qeEAAADAABLS+bgP+4kuTAqS9D2sfgyqiqeQkD7CjAniyOKJgF31qAIF80WBxOL8iZ6/dQKltWCq6q7D1jWAB0jJo5h5L/10hMWZcWYTHcSuDfoXet81XcwmE0OFptmjmH/QWSjptGCg5k8h7J+Dy+zZ9OKuMfqJ/8ldwU1ufuM0+EjUQqhjKswy9k2yY2ADciUyc9/3YnU6FO0OJ990WbAH+akoTD+wmXyg9+6ywUGsJldCEN/VSS9SCCOHmIdTgFsnaceW5s4eLKQ6+NKd98YBrlDWyrYI+sKrAZO2dD6R9A9chWQUWqGboPiJ/JmMmia2Q0oBDMIH5p8wpvsh6trVbRZ4Nq5z5ghOW+8W5O+Kr4+qi1QAAAAtUGfLEU0TCv/AAADAACG+sfmCTrgmPBAAXUdyVpP0FrX9n95kBoHtr37TKbHAtuUQmaV12rmo0pPN90FhwGDB1om5Rhk8Mi8SFGZ4c+8gWpZjgDlQ0TYesYWO8vMf4DW/alg6wzDcHzucYjkgflzVmewANs7q6rYh4Jp3SfExZ1y+Ej0eX2fvvgcKrTyEWQMultWu2SSwmgyDW2sU/Pj3QnQVhwIS0nje6w6Z2mfHvXsRy7VoeYAAAB/AZ9LdEJ/AAADAABNfeYJOkCQAH4AQLI8QunqueXBZ6cAw6mlmQWtZvjRmXrLoWO0Tum3wD9bojdYXEWCGKhsMEtawhbdUlaZ8iRd4N97pjXN6wKRturgzej8Mp1FS8u8T3Rx18tJiy3tZ4pymKoPqCC2SGDomnF4OsxffFVlYQAAAJoBn01qQn8AAAMAAE+tr1ko0C8AJpj5PvlDhwE2m4HpJHcOyYSi0oGKpjS+s3AuM0WqbH494rHes9+RFaLeoev3q2xN8wVwzj2jVoHfLYy37/KnL9oL16T14+zjST09ID1e+NIdHTR2sQGtlQqbOAxFEdXbk5RieCTFJyu2M9dTWZ7y5nZbhRsXX0oR4YoGnBW/fHBGMpPt89iBAAABEkGbUkmoQWiZTAhv//6nhAAAAwAAS0fvW4vaC77C5oAE61rNf98mmOg+rBLyQLEH1GwHdsmNr8XnJ9ApSC+L5UxdtL91fwkvkgu63zPT6WsMfY9p0Io5Yre9QMZEnUdayRdgUbVjwjfwKhP+bEf2dDT9Q7rSOQ+ru6nFN7cOYds413HCkuGAmkx4GOLZJLteiATfWuNfHx3hwyMb+MZCydE/TzbPmjxzioqkMC0kk4SjVyzNn/EhT5rZuIkiQcecp7FWUVi4R0IoxZL3UNHiXxArUkKECwWQyOJYSr4BCTXbuoiGfIsNf6uL4gIncu6AICseYytceMBjBYH6FMC1v/CD+vZkxJMvLZ54OTrGvprfP18AAACuQZ9wRREsK/8AAAMAAIcGaG9sd4Ewa904+Xze/t29MUOGPgAOyLo7Grv+9wIXdkIUZ9kYac1kFj1F3cI+sW4+kDm/nwTJq/SP++Xp0LkMC2hc7gWevocVqwimSxlYjTQge2mdDXy9tOLYoU26UhEWF5n0Bwd7lpFszwOjv6AZcjvyQXpTpXXFAVAjT/04yxzvRKYb4LN4UXay2lpXA16v6yE+WbjkS2anTgXrGWRcAAAAiAGfj3RCfwAAAwAAT7BmDpg8tPA8qlQWiLXxwAcN8izZTibiDofdZWZrspYTMyPg06Piga/+7qjdkz6uj8BPVSuFECl1I/OeZguXjZclnPkmOMjGlvTE6pMacEA1Yt9STuA5iLVSVeRyNCMCdEWD37s19YeZ/Rpn0nKjRBwWQpKmWWOO33vooYgAAABtAZ+RakJ/AAADAABNXSNMjxm0zvlJIvVtr3zDadigO2AUAHbgNvqnEtaTG+rErDnklqFUklGlze+cQYJYkl3u93dIO43qWwjUjQ6fxeclp8lRTFh9WBKPtTITQt3lk+kQze9ir9l0aeODN/1fSQAAAPRBm5ZJqEFsmUwIb//+p4QAAAMAAElkzY/lbq6pZ5Kv60VkM4AQnWs1/21t9D8HNfQWcTi/H/Nm1tz0DCWPaOQe3q36MMYbPctIzRmr0OjJ13jr6UnLA1V0NZ3/364pi4UaNmjOnO3rrjbvWRPuwPc+gw+Gn/8qVD0saRgc+gFWft7ImbRvucbSdgRDTcGJ7Ajo+eoNKictfKtNQQM0LTCk4gXKhx1Qz2KCHRO2XrMJzQ1IZdDtTZ96JhOCCYpGbclQ7yNuwKJE96IybcuyRE7zeu1/42/myqyP+akPIQJn6TB8E357ZEH/NG4QtyInVfvE7maAAAAAyUGftEUVLCv/AAADAACHBmhqNwCTUsoSl24zABNNOnS/EzaY+fD/B1DX93iXVgXiUuc3uPVpf2YgfVUdeF55+xah6cLUokZ9MRS0MWeDhNApLUfWUq00oKn71KlTk5fCwt2J1Fd91YSNskPySPqHfdEzlNBDOpxnBWpRsNK3tx3Q0IfclKQiIjodEeWnUOhU5oKkfde4HAVPUEaTVZd6RqUj+DWf4PkrrCPYXSfXv5G0G8bI4qztbCOcfFlXnRYnZaXu5h/pJHsEZwAAAJEBn9N0Qn8AAAMAAEx04BbhiwDXrACAXJ70RN697NFJp1Kgu6NiFN/CmQQvv8wy+d+NuwCSLF5jp9w6GH/5LRo8POrLLQm4RLMOaFYiBUbL6Ex4cQ7rVHH83DbN3LSruQsUeK44VOB7ncGGo+C2BTZtZc12hecaaE8ZHXcwhyERzuPhRwZ2/T4AN8yG77rg0LCBAAAAegGf1WpCfwAAAwAATTu9yIS2mcHkU9RKtN2mIj94wM3QAC+Y9xLgu0m0t0sGuAFo5EeiupN94EHkPuqaD/ez5di/8o+tU0WDTsZcyE9kYrbDhbBhkeGvybyP2pMvHYrwui1yeLOIAWw9SuYFzyo/u8olLXOfJWHvUDf4AAABCUGb2kmoQWyZTAhv//6nhAAAAwAASUedv8A4AQgiZyv7eMLzKIYJCx5Aa87c0lKmuSU2lY3svC/xS+k/OdvkdhjWA3PTCZVLL0xfMbRhCjM6Exy2iJTG8L5tU37UN8LsEB5cEOvblVmpAeeUfjkuZDr1ujh4PIMP1rrpovv6NEPBlQhhXHX8NXJGUWUbkHf5lyn7QSmzTKOhcxAEF4D0uoITMvb3PiJQTnUrIcveuZdojRhUn3Bez6qPAuUoUYYnHT5rsBFUEWRQX59sDVk0AIDZSddSnQNncYElZ1QdLwtmPh9bCa6Jknm1w4jW1ScBUr+dg4RjmQyaBgVHUvODMFrOa2UGGR83TYEAAACEQZ/4RRUsK/8AAAMAAIcGZ75kDY3ENlm+xUxv5RdUinlA2fgAvrzo7Gy0oDNv/p+jx5cnGJslhL2Uoc6iqcMW8gfN7LztS3D3safauahUZkKhlXmlf7PRImiRSBEEx8YIDh+kD1HElcKxSnGdK85eWtJTLPlsdgC5VnADnkm2/0j2KvE1AAAAdwGeF3RCfwAAAwAATVo5QKxHWGJf+iEwlDLBzAAcagI7yVhiUY8/3ZtfJrbXU33d1jiqYdWAlp9mgFVS1PR+eF1N4wlOF2LDTIKng0iF7d5KJJXwCgwdMj5j7iAIrF9lmQ/x40LRYpz8MpeLPD7Xi8rVSsPkXNeAAAAAHAGeGWpCfwAAAwAATWIxF3SLdEg7v2CU3d0SfcMAAACxQZoeSahBbJlMCG///qeEAAADAABJVtDBvsZiJNtxY3cEujXf8AIBE8rdcNfgrxSg662yI5aPgXXPu1H71+Gt0n59lyHm9Ep4QYUms+KmZqmULeGqe8JAfVyeEtz7GNPh/aLYFte0ysKdbXZ8/Rx5BerW8qAE6WOBPH/Grr/EzvLyrYfIz/RVAo8Zeuj7joz9JmqeSed6zj5a0rbcRdhYFaRW+4nS2fkPXNZA42AEU9JBAAAAnUGePEUVLCv/AAADAACHBmfgjBojWNABlOqRWt7Vb5ndQMEA2QqJtPQwYoajFkf8DBB5V+JQ1gn8cFwj1WxL9hhtHAKNgdQF7eXHhyQ5rD34d2rDaNVrnG7hWK1ujcFYmanl4xAIhS+lCuX/qWAFm7fbJ9RfoLwQwMn2KDGggnyCo/+B4QJ8Rt29/pdephW8TjobARfl2tz/0Xc12HkAAAByAZ5bdEJ/AAADAABNWbH1ZjseADb6tmZ1nTy+3zhzf+QzerxQqRxaOcCjEZGTvjnuIoIWuFouLIAAg5BNdzJXb7UVmMqyzzu0gaFv6N2x1LTiiscUGpbY8CK1d5kxhZ9OstS9uEs1saIgu8zKdxynplXxAAAAcgGeXWpCfwAAAwAATIe7FDSLJaaWSAhKsVcwAHOtzATGniwnMOz++ibIUG0/XdRomsaMjZUOHNJBj//i/8FM+pO8QXgKdm2htEZlccKTTrZMGNQbeD0xvF6qcWxOiLxR2wHHHfw1QwPE1tQcr8Uhe74XsAAAASFBmkJJqEFsmUwIb//+p4QAAAMAAElSyP1hQADsz6MxP+zvArYuK2825WqaUkYvq+T/6HJ+YcorLccWoPFDt4Xjz7ZIA6W3q4fGcUAY/qMWi+W5zPm2WHM7spnf4NsOaJgAGB18l/hgQYtH+ipklHxk0/CV7hndhYG++iJVtXJHc92C+LTPl4Ge5oTa36vyD5DDI9ZQIsaPo3o7Bg/ylalZl0qPywHdtu0AbQ+HcNhs5uo942ksdA5SFv4j0PVfhJoG/3CGxhUrWo6Q0FpdBTQPgT01GsW0o4z85DwI222SKPLGibYkUJVXUI85kTXiXcCy8RRgO+vVAofyXtK8++ykV+zi2RnLshfgLMcdiKdp1P2xPCjvExln0PorVq1JzhWAAAAAw0GeYEUVLCv/AAADAACHBmhtCzzM4yLVb41AA/J96LixBrAfR+xZFTrJvPWKKsElNjueInugl/117IKHs0ZFc+0DI6kFdvVlr5rHaxJtizyPhl9gHTKOMc1ZsNFGKZLUi0lYbEhHaJShWLTM/zagWdA+YyB3V3s1h+HIpSNgnleHAbRimOfGAgKfRpOI4+/Do3LKbUmI5rMY6ioDqRbcWd1PFGj75O/5v5ZHEX5n+oevrz3zGGcrwhm3NtLBFGf+dA+3gQAAAI4Bnp90Qn8AAAMAAFH1UAlYeXjz5gAO0I28+MXVtVzFE3ftSm4pamz/vpHxvxuUr15IWzzoLHOfDLNDTF8GWT5PVe+OVT3pNdVvhLtOSrgW19pECGd0mfCUDZxyC7uS+s+uOScWnubY1ekifHvYascPsCrnOvHUXg1fcngOcR1cHrjZIS10XY11/Rdaov/AAAAAhQGegWpCfwAAAwAAUfz0sqxBukjUzQgAiDy36vU8lQg/pjdBASukmJ+7wiCijji/9RVL1X3EiOnLUY9EMB079H+D+jIVodrx5tPDbjoOGktU3rqhGkwmXK9dw82MmsF7PxGmHlbKLv1yUv/pO0x7V6K5UikwwWxCpDOB0pAV2LVK/yn81XEAAAD/QZqGSahBbJlMCG///qeEAAADAABLum9jc2pUftjozMAC+rinNJZabI49DDyt1dP4mRF0MPgK6CfTrPKd2MVAp37h52t2IWpwmcaMHkBha0IsfeKzjJEWmCpxitL8ksgrjK3xcDp1NxnGKCiZyYereF4XdboTtFAqhKyXIDMMxOiO1XUlHJ39FeZbNs++pYuz2FOSpU0g1C23VPw0UYEYoQBR0IZNk+vg7lTUCc9AVUfhzhSX+Q2D89t8iOcrMI5DwV1XN5tql51y2H1dyJVon1nCkFxm8oZO8kdLEZew3MwBQ7t3At/1fKKeykPCm+xDHb1vqVYttu8OAkAkdzrAAAAAwUGepEUVLCv/AAADAACHBmhuODXPSzi43PNYkAG0t8VPnxp18wGFiqUtFrI5UJ6Xn6H0bDDQQEHv0ghpLGr1XfdUtWGjVcIyWgPFeWY4rW3lxsuN8EJZNp6sMLIFRqqnSQ+5gouqYysV9KQ9qB9t3JSOD1uJ4g+V8qX2NZH+IVN7HRtcNwd4fmC+JNyTSNYecZk2UpyTSthwZglCUphaOAkqi6liCMf9GNWM4Jt1mATAZXHIJotRoE5bB/ig/t0VYuEAAAB5AZ7DdEJ/AAADAABQxV67c++F7eT4MY7wAOHa58YwesXYxF14PTSAMwWGsxNxzF2uwgZieBfg3CLqqs9govAJY1aPewcriinMP2OstedRxyRcbAAnwdFOXDYShcvxhFLfCx9NdieS6l5jRtpGnrTORaTTR01jtOZvkQAAAIsBnsVqQn8AAAMAAFGdF4+OBaggGJ2ObWFr7Xquowoilz6f7SUc21myfl2KgAa0OXrgLGdmESRA0vC3jtLU0VBHkqJlJGvZBU/QSRKh3PKikReQ+LQGDfTyE+xOlB/ZCV9r5t2o1dgPug1zj6JVWfbIzN4vz5bcmCz3eOBAB6Q5/Qq9cVN6cLof0b5BAAABHkGaykmoQWyZTAhv//6nhAAAAwAASb5GwP+Z9bDB31gBDh2mS5vdjZ1CW83ehE0jAkIdk6ofKgpVxSb7XWXZMItmEhHmbB8G9z2OaS75l5BmS8ljuzr0hWwTx26bWGRWgP5mBJ2agYkv9/geaBXqTrlh0EHUH1POkBtuyhRfHC/ZSdDNKXRcHfSZi23cOkBUOd9D1ExQQdzvSj2qodAPHIArj6gHmqxslFNY4wqxXZ1eCHdghS3WLvjHpzXI7tPVHKYw0PJSo9ts1/k91aeJXrb+wuN1uqM6ulWwVkwNbZMG1uh7isrInfqFDiF2gyyOaFpEiQttSceDdO4mkI7mcg+ilvKBiGHhlVGJcMQNhJBj7/TH57YiVZ4yZwSaI6EAAACHQZ7oRRUsK/8AAAMAAIcGaJRGDTULN0T2oWd5A0CACIK3kL380dkH7/hLUY30XNuNI0qnLGSstpOxwG/8x1LHZgLJrhJXmAzxPch3Rbcvc2M7DyyEWr13550tZE6OUgAeDP4/nL8foqPVRG8SNW6jfg8xOUZnW3myUg6/pmh5ibX4JYtEdo+IAAAAiAGfB3RCfwAAAwAAVBHN8vyGy1gBuvJVVX3H0n5EjQUIE5DYgMmQicN41xkVFces6ozECGDdyPOYdngEGjiXg9H68Q+6JQusVeAuDAr6gzg3sDqdaxPclqnR+4iO6jJWTx4NqQZdvrM1qdyGN67Pn0H1LedydUFGdoONlyo6hA+BaKa/pFGi6+kAAABxAZ8JakJ/AAADAABULfpF7iyZOW9pvUMMWKk/bnKxvQQajgA/vv3So6OySPRxapPipWYo8gknYZnlslmDlZNz7zl1bGDHzFUv9teTEwOCN2/iXoHCpIF35uSXPZ0eY2pk4P97sMxr7Fx9ssGtjQbadIMAAAEnQZsOSahBbJlMCG///qeEAAADAABPcSS7zLZqkBQj6MxW7XMeWDAx7rt+TeXCq5sYS0DhC2dqlONr8QCWMvPPL6n2IWyK9T3EMMXYFX7DPMxJN228pVWdp7ScttHDGWQo4f2T6EetlPVikGvxtQeverSIBCyl3hZ/+eqey3RH7rrwh9nlDXXq1/PTHNVSaRo+4GrlBcDaZUztjvQPYdTHLLUmPQv5Rn+JF/wWdzR1qwFD2mRd5dbGk0ptVwj2Q2d8YvjNgOLmxCdGhzHibS/WaNYVgGGCKqQ8Rgs//g9lr+xSKnamJ2LW7E7icT55A88Cs8dzbiYW7DP3gPokthJBAhChPrV/MeqBD/xhKyGdTzJlm4PIP5YS6Jl63Fm8xqy/cjjMl7ZdggAAAKxBnyxFFSwr/wAAAwAAhwZot2PXf0piDAEqh6+gAxXOnBtT+sP+Rf90lg4+pZn8xLb2UyIK0+kdnXGLvfulqnYH/Sy2UuW+r2qEcMT7sfEgbGH5v9ArqlU0yqGT4tgWc2tvizAVwT+xRb6ctxiFnSnBLnz1j+CKLIZ5H11/uML0OiaN3d/4VKn6Wa/su6/yMc/NdOZ3USUD7JSfQvAD9hRT/TScY0aSYfvCAvLAAAAAWwGfS3RCfwAAAwAAUyVlqGH23w3m5dxJdVbdG+GQ53MNO0ypoAOb7i5Jqv91IpAXb2WDABOd0/9Ovi70yUYI1WCRPZaJLG5ZGovnrnLHVxei6NyX39AfvNQyYrEAAACHAZ9NakJ/AAADAABT3S2+AFvHOBlmtW89feSNpCJuwFlKaNjbVa0p7jQNwQIlFqStnyB657Y2HFV5s9x0aye3vvrc1Z96pakRZmC8y/kMD7Z0GRebUe64R7UuHCHHxRBSmVa895+3c1+8wF/nou6QEj+Mjplc8CTCXd+m5n2HyE+tRG/dqz77AAABN0GbUkmoQWyZTAhv//6nhAAAAwAAT5UI9kr2xLk5j7QAoCAzlf3C+RQ1VQWbwqCDAOoG3iNRBNZUXpgegUB0gEiVZPdI3Q7vG4KJH5K+dg7aqfQ6CZczRap8M1h/8K5TSmVIr3h0cJLN6Fm9LBBl+expWkGdsEuZkcNf14xPJk8tglNe65xtm2syESZVtxdMOU0QaVMuiGe7brJ8tt/wQ58oNwWBxf4xzbRbEBT/bd1RKg6zz6ORlHN3NMMsTWr7zoZBeZSoWr85uksKMPMpt0PtxDTgUxY/LtqZxomop+Sb1kbHNzaI9lJiObQDkUy04z0kgiCEy0GzDZoRA6cu0Lt2lql8SDAMSOsRNw/XXgGXU4KYHrIUJQyYWm+/L2Lsw6+lcfvJCFqL0dWDhyGPwh+VBRxGYQ//AAAAq0GfcEUVLCv/AAADAACHBmj8+AYdndgAiDzFORnGVqDhItUjCGLuqiRdvzW20O158BLCL9mT2nKT8A+EmUVGljBsVhROhmHZP/omXA9AJG79qT3S49Y9UsN0bBOA0k44LGnY94p5HLpT0quQ1k0MBLPMKNGyGAeJpZElF00WoYa9HtTjkHXDgDnL/ChQ+Q+rUbXi3LWoJvd+BAukZeZdYsfZhRM6Purs3bCrBgAAAH8Bn490Qn8AAAMAAFPsxAwTfZQ+p2wO67nANW7pRAA5+X3YgSiqwZHoreTA9nhzXEqRe5HSJnhxGLjN1Jq8K7U6KokSbBsDvVL564uPXmGRIzsKldrO2Gk1/XGzgsOQQWWVCsjz1tame/1NXnc9/q4VTjrJoumBgiIkS2cBCl3oAAAAegGfkWpCfwAAAwAAVm22O0G21ZG0ifnUNdGqOSuJ41BHNoQAmVmWLkCY6mjAcN8xz+kz8tYjFln+H12fUA7kQzcgV8M4dHodlVxM34y9FJiiBwrjZd3CNbjvgc4gpNQjJFrt2z6+wkPNDojO56AYJuD4/ZViXasoqnWBAAAA/0GblkmoQWyZTAhv//6nhAAAAwAAUbGMt0yAG7FeKx/3/z8UsWr6HLg9nwHf+5XnWE6kREJi3szQxQBo5n+bJNXXs0HHJrfQwMGOta5N30KlDNrHz+o4dlSSr6K8yPrLrfdgNPIYkYSiuau2Y25Xe9tThgUYDRKNdkOZoVkaT5s887DdE3zO/pRZ2YUQoZKOWOYA1HaZvpZ2XC7eXC6GWvtHC/ZuO3UdDjyzwre+E5OQAs+ziKmTifTKkcWQGMin8G8oiNwYbZAdRXJFKf+C0mAOHwednCcUMXiYfXm0B73uoZBrKgShI+YCud2TvkhHTOnSvOa80/gMoVEwQ07luAAAAH5Bn7RFFSwr/wAAAwAAhwZo/I4xtF9OCYQUUUWE9WgBEGciwwOBBdSXLKQoMh/xB4PgKhHq5WpgWEtdJmJSq8u6WU9oAeiH19wJzIeySUxcNIfA9LYcQsXBRAKwJ2TWt5nWEZLJLRc/CwzxQtodYdsXgUGll2zfBZ2aKGwqboAAAACDAZ/TdEJ/AAADAABWT0xXwAtan7UNSewZckmPG4JcJ3dFjWOTciJ2aIyKXh9fP/nhNyQsZJquyfRPxPvDtWE7X9271eCxdmNDi/9DNZ+hR6KoliIfBYHf4APp88lVwNtY892B/seU8YedzPUBqnEdjOPddyhzkywPYDQKMPd9lK/xWv8AAAAnAZ/VakJ/AAADAABWWTHTALfc0hPUJ6hFEMAEKOeL1F4J49pv/DHgAAAAvUGb2kmoQWyZTAhv//6nhAAAAwAAUcBbNbIAFya3dX7CUzWcx2fHfJFV9R1J7TerDaDuOOZ/jngGJ55XtnKUHjE8y9RPYLQ4AZzuSHOH7RjACTvkJL5MsoxN1CGX1QiMlvGLxQEp951QJYf0SA+9VqWMHqrvfe2MhOOt3c9k8B/wgEyevjBbTdNSwKnBIENQE7NPE0lTuZMFV9iiZlpeO38GdTNA9NNVkgJ5q4YtSQPi8mLr5WVhr63PLlf4gQAAAHdBn/hFFSwr/wAAAwAAhwZo/S3QALqO5K0bqxXPbILaGDXex7/sDKOvIVcBbwZo5quK8s+AoZZu252mWkmJfC3D+6ESk3gzNt3gqa+Unm1q59cE7CGudpAYp3gwz/ggHcQHj1X/xosvJo/icBpHpKFu7EBLK9b6wQAAABkBnhd0Qn8AAAMAAFZRy6IIfOXGqwF42lnAAAAAUwGeGWpCfwAAAwAAVnG5EAD61HI2PNuuylqz3i+LhHN8OGxaBWnGxwikF4gj0NRGaq0Db1gTibzRTgIvK9AuKOCKKhWRsO4wh3TTXWAwLYBaSsW5AAAAxUGaHkmoQWyZTAhv//6nhAAAAwAAUbKDkpbNUgBLlGcr9T6g/6kSP/br3kJUkYGZEox3TqGStW7RWs7LenoQpn2tw/ACWVyT1MZRZqaK+yrHHGvEshkeuwy63UD57LySn8GfVI3NTiDAAdF8FG0wuVMhlu/k8p6l+8rjYJsyRcHrkluIeIpi4K6qfuWeUT5vPk+9F8/R/R5XuJNRj4uf7fdsLgLo17350TkJ9Q0k95+95YcPwSFZcbbqFmwC7tG+flhPMYuAAAAAO0GePEUVLCv/AAADAACHBmj8+7c0AJq86OxumV8T1NObr4L4AgrOX5ZdHrCDeNEu4vt9RC9f2ArUHOYVAAAARQGeW3RCfwAAAwAAVpteAE1eW/OvCu2Zg4XZzxQQx1sIbqUKFp/mNJd8ED8xI+6+TDu065yk2BC2aGzCoNDVGXAPSKDAVwAAAGIBnl1qQn8AAAMAAFZUkSAATsjvzKqy4rqb6YARCgBdRttrmb4IXUGLh5tCTN+Rqb8yCxhRdwR6yKkndcbHWIqz7ziXF+aIUzWO6P0/dKfTaax7ztK11XEsvBT/2QLukbKzHgAAAQxBmkJJqEFsmUwIb//+p4QAAAMAAFI5l2GH3N6XdbkADsz12K0HJi0G+pjVDG8w5xSpEyaD2Hf85vMOziHKrIDVdfThMmpNT7PwuVjEKLUwZxtkA5QDOAG5y15zMCV9gZXstyonvvblsW+0Hx/wudYgCX0yOnqoJUr0TBlEA7/P9NsBeOTIJzhgalFsLV24g6vC4vrAtFRt6Dw/wMYv83JKNNGUbNG6fvB+oAiDIXuOWFiaopYbOG/eCyuyhwgkg+8PTpUSloCezliKfRw/XxC/it83ZOZ7/HQ3W/haNlXnmUMovSBl+mS4Ts2rq12svI4qwwIrNrp4l2+4D8WNJC/1cEgNvz5kylOcj92gAAAApEGeYEUVLCv/AAADAACHBmj8qUjDuFRH5QEgBM0GvM89m9E4AeF+1EjlwySTSBDUjLFn5F0ntN6+xL4My6GphVKYmVtgZ5qvkMN7zLbIkYXEV0l40kTqGfbyC0jVdPU4ewnYGwvpVKVAt6FN0S3AjVhFvp/YFrBLmUBIAQ8sPO9KfAqGGxWzpd+pZX8t7oKzfsPfwPNxKphjWt+UML8Grtcsj2u1AAAAZQGen3RCfwAAAwAAVTdhZWDiEAEs18XXOOdZd/GN5qGL+BYecTj+h1F/VGQAw0VjfAZnYL0rA1kx9ateul+ydwsu7hdNFjlZywfqx7VWwZv68XdXxu5g2jnZ20l4ztmocZsvQXKgAAAAjAGegWpCfwAAAwAAVlkJohYA+AB2RW/V/7StbW5+oRMRkCiFqZYOJeVHGKWTi4W8diWiNxyLX7/kF6oX23Vr8cKFNgWCuVivHhL8A+odKuEffljZmObSOsu1Dqi//MRT+dPZDtuFFI3n50qKMK/6O1DlagydUDvBYkkOK23xz5V/2vOMKuBO1cyXgL45AAAA5UGahkmoQWyZTAhv//6nhAAAAwAAT7eBWDqSZC8lLsaLhu0Nd0ogzkLzw0t9fcp7FwNttfJIAbmXKY4dMSoHW3/uP8Qn3KZaxxYL4IsMW5NzYZ/k3JkrQO2X69ikCV8ohDQ5LvG7q1RZs1h6bvoJRWXx+tX5Ktf9r1NU/xdz8kWKyDjxPs/wWAm5MOjLBFEhP56N9DvYs/FR4J2DQ4iZHvs74qDbFQunhg7mkdK7Qrd9LZ/zYKOoJ//7DCoyYosma+2EI6xAhJ/pC17AVSxh6qq/gIorQGdWw9+xeyRNIEepgx86IxYAAACcQZ6kRRUsK/8AAAMAAIcGaK6BWmUd/H7/UpQwX2c2wnRRNleStUFdgA9yHf8i+IZBm2/cfDZswEix1OtFSsn0DODeSv9V/F/Pgh074+/HvqqrNlipwkxz6Wf/iMGcZdpPvWdhYiQZ4SmkX8L5DWvRdgjag2/7/qrr9567YmOJfR40hYmpVrCn2MYFgsh9c5zXyFwM7oFx4Bnf5PqBAAAAaQGew3RCfwAAAwAAU+0UXVnYW3ZMBOHvPqG6mhz5ABLJBjD1v6QRSVW7jH/22itJxZvramBasNCtCzf3Ha+xP3yvZMuPz7RnxDyWcLtVe0hbstbQ8lvx8nK0iRVECgZ9VRfNGbrZR3LcoQAAAF4BnsVqQn8AAAMAAFL/TvI+j2LQMEEafGkioOJQ7YABK6mQ71LGf+YPl3gYvgBoPWZatZJT+2sr0u5vJAblsSj0It2zfPYlvjRlJvTYiLlL2lLCAohUycuzsT3dSW3xAAABBkGaykmoQWyZTAhv//6nhAAAAwAAT/mXaOb2t6puB2tmgogAiDzC7ALKqirnLUs2r+/BT2oKuNAl3OEdTTyPHvoANQWl2Dw9Pbl8ht8cgmE4kysHorQScxHv+akhoJQvD74RuHfkom21chh6ketGeBTHXNdoZZvqovOznOxriE5gGZS4tztlAsjkgMI2zkoloANJZxmDUSUyUy3Jf1fy7D60jNmL7EqkMGFKwf5yfPsoVbUUhoDC0v7U7bIqgY7BW7+xd6VJisLvYPyfRWQg850J6uOiSwZdkML75e2uGVsOU4RKqQY3xEKYDP66isBqAwquTOei9nfIHzf3OzENTuTOlGgTivUAAAB6QZ7oRRUsK/8AAAMAAIcGaJIUtWRYuBPrn4pGtGLECMwmczSWpm79wgSpo+yAEJuvmOmwJJtE8BkOwNghirIkALn2lyovQ2vCSOiSUeBpnW6ZA0424g42lnjdX810xeH+Gaewp3RoIH+WOQPb3SM3q+ka9nAe50U5QIAAAACbAZ8HdEJ/AAADAABUIT370x2rsOhssh/7hAA7Q6mwIKZbXufBUzJOExC2AHvrdbjvfTE2eqfYcZVD7VZKuagTBqpRkgiJSj21GuEF9GIILinNeoQ7X/Or2FycmhDT4YSnoh0U8zlSFf+q2yNWYdvLp8VI3+hh/Pf1xqPQdQ/Kpp/7C/KNMuqP27m5Gl9cQtdPkiWSSu8EzGKmZUAAAACAAZ8JakJ/AAADAABTG+CAIDKtY5MRnSQfURrnVOIcIjPl2PsprqVVoxB0lgtGZdYhADlXQDvVtOK8j1PTN4oJzPzB1aftF6Zpxf0ea7HXBxDcfG7gWELgm7QYJ+pns6O+A5m6JqKLYlDKFgTV0c859GSvXR/ynnNovT2tMg4t6MEAAAD/QZsOSahBbJlMCG///qeEAAADAAAdrRdOTiSAD85GckFxj5S7Cg01VOFWH8Hep6gYIfA8CYbQcebuC1jukE0gu61c0YlH8xbctlpcUJbep8JDbANuOVbZbALdMxXMJ6E9y+9I/d5jR66wUeTRhwmlWEfavyYVe1d+wgszCrQtG5l+TAEJupMksbT+vk3M0vb+3ENXhUqjJ7Ihr2lNvYeqzHZ1K4iQHGnWLVKMbFu0uWd7aYLRugIncVdZHovOOuT02eMOAENbWsIN5DDT7tBnIAQo/BmXPs3n+Ogg0+VjVeH2fErba02VI3dHEqQ0lizKjc1qEXw9eDB2uwLECB7+AAAAjkGfLEUVLCv/AAADAACHBmgERzmeveBuUMvL4nEIB9qY6qXdIfT6Uc/AA8vAGtUwOEUcm9Egrssx7y8fkRtev9MsDgwTn2453W1ysO95oPKNK8HcMOYslFxqd58aCfWajirBuHxpRTrbFTVboJ8apK98aLwFgYBBbamzFMVBZTOA25D0bb3PczYetvPcESwAAAB8AZ9LdEJ/AAADAABPkWhpuVswgAdkVv1gWWOlBWse7IqWdv4Z7z11QzfLuQdVFTyuoAcx23qAx5uNV61wN6tzZGS4hEOg3LtOTK7NsDDL4ZUpFRc8HyvB9th88YCXUa4YO7wnTLHJzrD2KcLbalXsh/r12aS+KwN9fixaYQAAAF4Bn01qQn8AAAMAAE+txoq9Y0P2fI39zZq5RTncADVZci4Ty8RqQ87QzLsyejfLbb/E/glC/8VX0yKJ6yq5QHY/jEQKUhpSMiqYkvDtbkGD/wwmB0xfi6zt8lKSve+JAAAA80GbUkmoQWyZTAhv//6nhAAAAwAAS7pvYooaBMQpmAC2kFGX3lxfyb+0rfqKXd/Vjf55uy8szoAGjoYnv7FEEbijcNCmVwbi6+ltazJEKtYTM4+ozNena8xohTyWO+XHB6V0s4fUfydQ80duHR8IpJSSMOjylc1qZrZ8hTNr0/JQYPOZFdAlV/DqFZp24XiDUy3FPJcLJqfwv7NuW7U/SWcCT8gXHmc14UETLze5F3TmaM3moRa4r8dGtMZV+pPHM5t+6UpHgOoIfPTDFz/viSdkH2+EDjlEDP3+jQ0TASeO/XRfTu2DYEk2hQ+f1ks+DYoBQQAAAHtBn3BFFSwr/wAAAwAAhwZoIhepxCfbOZAD6jjNQlG5Q03mSeo58aHvDBwr2Ci8fy2ABDua60UofPP/XUOmdbvxaMQB5ptZs6Rlrp2nzt/bvHRd3ZON5vaytEH8Dxdsut3cs9YBAFURgOR2b8c3PPpk5fChI+5J3JuynSgAAAB8AZ+PdEJ/AAADAABPkZQoCaEhwAXUZ4Esnv5StaadeePSay27d0Gq3HUds+4U2m7NHIOGaHFvaA8FQYe/7gmsHkpYj+cfLdnNF07oiVXxOhIow2kC+C8apsTI4YxCibEKYYDN+Zvnz+X5Hdur9mepqNiABAJlmWrMOxlw8QAAAJIBn5FqQn8AAAMAAE0uY+HcAN15b9ZMvTZt7gcKRdceH2Y46nZ5vIVtyKu//6i9xnWh3LhLynVP1QWgm52eDuvFnrLVQr1f8gKBQ3USHlG9X7/3YO7BaFybaIAD2fn+gANMQr5N51C9KxbPe1zZwObKO7/WDeOF0aBK8LSSrdg9n4rPbavFIJ/BIrXBQeFT7+P0MQAAAPdBm5ZJqEFsmUwIb//+p4QAAAMAAEtHncr6juAhDYlIQPgCPDbfhWHYjqgyOqgdcKNDfL5yn3FGa2/QiCwO39pON2KobeSAF/0v5v1Drp437ShUmb9E9r9aaRSNW3kyHu2O5iBKBbuvcY//ip3hNDfgHRc/OBNvAyNT31vxDmoj1hBTexeywRPwNGQill8tkKoWgxBH+zTIkBsnXN/KdeJ4VKqPyzMOW4knyPbO/9/HqV0tOpDT30OKr5x2BSkjZvW5MWcdRfTV/UT/XAqTaCaw6AsCVx+Keoa/ZTC2KXdb9Asl1Afzjh4FzIVhkyKjR5bgQkz2/P14AAAAskGftEUVLCv/AAADAACHBmghFi5FAeRzF4P/ZWkeNx8zxDwwvAByVCJ1sRdr+ecVyi33jlXj11CyXyoNblhieM4IgPknmZjOhP1i6X6d38E98gA1C3XrtKyEpXKReZoJ8jpnCEgTUOke2H+1Ysx22/G0b52PB5Ze5D2QPVP+jbxROIVpvZiWAXjVjNPCGUJYuGy9jQFg00W6wSys9xmbZ7jVeBn0E48CK3A4Wgk1S93/pyMAAACAAZ/TdEJ/AAADAABPs4JGwjwAmkK4b3Ucdt0tSV2tFpAaFyDceXkZ2Wpw27tY9chucuH1PRUxc1AzIesgeFx+BGrRXtXjaIp3ZzhquAysD6leUVpM1C/z+FmPZX/EfZhbYUlQ8sZblCvGi6t+UF0ps6qr3iOJsx40gJptd7Qf27sAAACQAZ/VakJ/AAADAABPqs1AQsfKeAxJKaub8ADrOeiJO1JrM1fP1kxqX9CHobpcDw3OoRoOB8jjDYaajGaOYygtNGAuwL26+7DIyJeOLBsChVpv0zekwtXmblKx8xGM2Eib1uEhvRUdqI3669JY4Le8ONqLAcJmTxWTYVF5ObGFV+pXMO9m0VjJmtQ4Gxx2/V9IAAABIkGb2UmoQWyZTAhv//6nhAAAAwAASWTRp/u9hdIAW6gM5W2GI96AplDI02um900GJCFu/gfTu2VZxOQ8iD3l2PZKbrdD6VbJQsF+agkRaLctVtd0oL9hYFDYgyact1xa0gUg0Bt8cHEmo0WjX8RJtgBRWXeyxpRU5+2+XouDf63C1fzuBzr/YjRv+dP/QeHKjB4WIZn9EqWmpc90Xdm48TbDypDwiBGiy1czCtVkXJntUcPu2Lkwz14yG4G7z1R1hEO4Yw2MuGPx2QCt4mzYmkroGvb4KfVlprnHqzu+jWp21Px3JcCN9yZCEwncmFrOz9BJY/9T2lNbyIv/ZW1cmSgEQNeX71gKKFSpx+v9TRkQUyUy6FIzQwFO1zihzmP3TuZpAAAAsEGf90UVLCv/AAADAACHBme+ZA1ZfXgu04b0AJodowbfgherl3rkLvrPne/JK1u6PmlYOk1lI48AHENQ5v6BaSmfTu4ELHSRrFKMrKLY2frPiBUE1d0xQg+pDpmEz12MSv0aT49qOWOX3q0Rk/FKC8ZfK0z7cwznSTej4NE0JmN8GcNsG/H8I9+erkz5NbIygfIfpkoJ1nJFMtSLDUfOiY7pkBe5aqgsu/RYymd/o5kRAAAAewGeGGpCfwAAAwAATTqyXT+lzwsDd/V6EAF1HU8RE7GaKbUnjZh9+0FrpMJOFncTcrljEhp3wI3Uheo4JZfCUsftzJNUJjr5IgOBeRQ3yv67BtWS7SVLLPg+XfSBVRbx+v7YHN02qoVd756CEAR+VvPniN41B6c4VaCpzgAAAQJBmh1JqEFsmUwIb//+p4QAAAMAAEtJa4gA6KAzlbM0SVqtlg2uL4MPiBtChwPytDqMJNgXeJjdiT89U7/0qKoR1aRoqB/0b1CGmnnAwEeuPq3PBYQipRgH2myzlRKkkfzjEdCqiZueAZPyY5qr8N15veIQTWXtNz2HMcX6LNrs8twEy9p9pjQPNj7vsuISEifNLIMaQ9AkCp9PtVRGsGcrja7+CorXjgbRXWlDeiXBK6gE4K+9+CdbNZpJ9u0Z92d8slTfLtLxmxGloJBhPNXQf+vuZsjvPAvq9fN4tU+RZRKTMwRCY4zaJcXzNajUZgguupWd21gjQ9UOPLw5d/0NgEEAAACdQZ47RRUsK/8AAAMAAIcGaCTkUPfq5f0IIUZHoAHIhknldn5fYPcvGdON/vtuP3JL6X11uoc4MCBTKFnohg9kZzWD+Z+3GIqp2Xi7xsH3Ceuy3QqqcH8L2UPRiY4FY3Q+lsS9QnKy1Cu+neB7qyRQ71l+t/NB2edRPOBIcOKjxkkU2tIKGXkQWHTXCyITJomWanJsG19MJRtoWgVdgAAAAH8Bnlp0Qn8AAAMAAE1aMUWJNnuRxRkzKPbfs/v+ADme0qyXH5D+wjB043GNVzJ/Tkrw442KnW+uD/uQvaIYOYHxeTDf+f5X0VSyw6sbZpdwqh+LFvqnCz4Zm76SS6ruCv9gZgw1ywo91C2yHvg8nw0PLiDC4GFG/CKnWH1/ztkTAAAAdAGeXGpCfwAAAwAAT62v5OZ64lMBT4vZ1S60DgAdZ8PHS6jG5STjBSk0tR0Jki8IlAeqSHXkta8er0SBAdKi5jLtiqfFLrBiUldtluowePEFh0o+pWF/HP0ffmIwLhMsvK1S9Cfa+c8MSyGp6uYhF7mX5qzBAAABJUGaQUmoQWyZTAhv//6nhAAAAwAASVuWY4ATTWs1/9EY8Zl9McC9XbNgC3JZgmPYEEOC6WX4k5PDCh+7FjqC1QWn3iOtB9B0TVVg2sOiekH0vhKSDi92UT332XkNmlunbuqb3J2ObxHxlcFj7g27T3sGrKGy60eAioKQipDKV4OIDDHiz2/6Q4nARik5G2J0CX6rJKu7PmRuiph6h0sacdDSRueYoZzAxEI3oWiMYMFJIoYxEHYjaBIDUo9kZycXf2W/sUwq6CWnMwR6g2ozwHbbOcUA/s5Qh7QTrB5xNKDMvWCNBeY4NZi4NMcSdIkscmx230O1/EMxcgtOe/qLJoIcMgfXdMnKi5DHjHvH2V7BbPB21vfx9zMAY8W6SxFUSfVZb5zQAAAApUGef0UVLCv/AAADAACHBmfbBlnstL/jf/KSADZhgeu4uUe2o5fK0kP9Jynfc+jx2h7ITrO8zjuU5fkmF0WdKQDTvvBWWUQ8vRIY8VratAUWftMy9LPXjkAMO6OUpC2i/AcA6Tz1GWJbG8r+hVXGNBCXOUwWdZ+lQwg9a59Y60gQ2OddnCRp5YPbA19kGM1VpkthxHz09S9WDY33LQnsqnJGl6M9TwAAAI0Bnp50Qn8AAAMAAE18em6rgsj+AA7BazL72gmGJTTgj8k/jeXo85CbX4DaQHx557/uXLTVTbXFm3MmthoJvousBrrDdlPxhfG5VMNyW52UBInus6Fl/4Aa8lWgAUdKqtx2MXwQWjJ2ZMeRtn/5AaSPQbpBctF22Riny4uGEqQ1R4cBdnkwDHnl6eSdGM8AAABMAZ6AakJ/AAADAABLeBXgA5T46wnS2XQkwztF/abR96aQmOzBka70qvuRWShl5KFneBDKVzlYLZ+VfZ3obLYHy4irVL9ZG95KtwnQ7AAAALpBmoVJqEFsmUwIb//+p4QAAAMAAElWzX/nT714NuADmdmCpzLcCjYNN0InC+WwtKNxJIoPC72sWOQwxWf2Fuhb0w3sfRkLJEzGhXTuZ4+TGWlRO9AgrBr4ImmjPPhzHMssK7maPrZ3OQBBchkCZ+T3bTCdiBkQ84auelo1FzL/vMA3IhQCOl9vM4biFTdbj7csET2XtVOx1IBLSlDKx+eklitJL7nKkrlxtybDHKArqKt9oru9FZRi2XcAAABwQZ6jRRUsK/8AAAMAAIcGZ94Cq/PdBHPHtSCzi+nQAbUdyVpVRJfoX2xvw3JW0tafyVG7+xhXyGuEodI9ELXh7CfviJdSw0fOZP/3MZAd5KmFFbh2Oder+RQVhC64jZSHUy0zEEwKRex5ti9Zk7i+9gAAAGUBnsJ0Qn8AAAMAAEtcnOADmiV0TEpe5v5vEgCIf8uN+0oDBm9EgwjQuBw47tKiYAXsohKa+aNBL8DKC7elk5CqDwuadXu3lSnhvWYVUfHrtdUbekMG5g+XWi6ca8YASx2W22wHQQAAAI4BnsRqQn8AAAMAAE12MJnsC+pdBAAXtD55iYd39O3B3rJS8GFwkiTzvbkQXon/U76SVy52r+qqQ+dD94p4cwv0Tq7IKsGjngEL+30net0K29t85kSWusN1ry+NawfWje+hULVEcAD3WmZOj10cxnHC/BbeAU7X5bEfIUZX8YDUVljmdd96d6VKr4A749zhAAABOkGayUmoQWyZTAhv//6nhAAAAwAAS2kM8al8jZu5ABfNXv5IcOZ7yHpAcDhYL/QwW2Ond6z4CU6fMOfjZ4zWxj330b4PcBuErpqTCjZY3jZpN/upS/jPBJQmyWEkvWHe35CHLjKj9eF5Dz1z34DGXbW85Y/nyAL8Df7eCHCSA4BmOzLmEpDLI4EGYr3e+/v92wYjKIGB6R/PdvKNCuC1JYNT2Z0Sx5Ifg3zhD06ZxrteVsrCtWzyfxxlpLbUAF5J0cWu2vA4wPOXWyUCCt4uX+mCno2Axmboac7WyfImegPIXv+XDh5WLdZuYGC9AeBbP5+y7/nOeVpawsMfjC8RW405PlPLiKn69iOfIgawytdwD6q+Wx+zJDwCytKkoMdeO2QBISacHRiTKnYJrgYAPLgln4cjlkeBermhAAAAqkGe50UVLCv/AAADAACHBmgiFsUjeeABsYBK0sZjdAMc4gIAwIz7WA0ZikHqoNyrhyXFBgs/Nh2FwPzKbLD4BRuTj8sXbfWcS/mpM/KU5D541D5olKwecw192l9mlJh0om0f0f8nBAE/BpKpXbC2cMs5B+DEojia12dn2wl7YDhwb266TT76Pn4BFTaxVAp6kjFCrL7MtJmxnYiBW3dcOVDmbSBmoVIb0jmBAAAAiwGfBnRCfwAAAwAAT7ShU8AHDzfRm/OJlmwoTJg6dRuOi4J9wvhIkJUtbAkZkDOmykT1hecmrQg+KdSvPBiZim/HJmFL5XR7YFJicamGO9Sy5iq4hK/ZCpEEuioj46+dV9v6Ocz82nfYFh/HV28yGXqBuHtParwYDnaeS5AWRPUMwcvxr6FqtnKgogIAAAB8AZ8IakJ/AAADAABNMe5goXy9nQAL1aDJTmS0j1cdRUyrLZXC+mH/J/3dHMyWU4uZWRrvij8EMiy+w4eczNjQ4GgXzP/FDmvNSoYPejZeYXpGUkdGK9qq1BGbNZDI/YpVi9xm/oQwafVomWS+nkwPqIBy9uD+NF3ObpdIswAAASRBmw1JqEFsmUwIb//+p4QAAAMAAEtTOXo56lR+aAAoW3Nqy0gWXjxJS0AA1cke0f3FllVDsqkpEVzvlR0KbPpaFqv/q9f+6/zpWqV/3UTZRcpx1pLFbq+Eo6Hbf727p5ikzWKbfJ4T3nEBFSUPz6FBoOg3XUAfHxv4MjRmWT+gSuYSRtvz7x2XfiyXKil/JmpgFP0w0NuifqDX55i+jrZQV/OY/HAJ/y9NiGe0hryfP+0+HqCNo+rgAYQG7c9nw9HjsvOH+8USHUnw6W30vscZ74OqjLekQ+ZgRJqdusrSqKzee5+LAEyis1aS2EzdLbao5H/7QeuA3OUqai2MAjWo2iXELSXCSiWxc8P1Gd7YidB4nCBLClUG0E8nea3F66vNsZM1AAAAtEGfK0UVLCv/AAADAACHBmgk9QQoo5CmsrQAE7edHTm55NXDEPToOz4dYwIZRZdFyaXuNNkDcRI6A8LCVe2qKx0nf0PUKuvnbil2jzciEsPPKjZT+AEhv2vxnaNzLH7yptotgYkypIFEAiIUEXMrPhczKs6QuuiFKYOTNhzqHyITDs4rmgh4wxxTIdbRckSN3xckL2wYTXZnvEPHtv5OvdR1mo5h9FSwIqc9fTjhqvNolDDQgAAAAIYBn0p0Qn8AAAMAAFH1T4RS7nNVrdwAhTt6yP1Vd3Xb0aBaqXvRvoUcmLUma/Wd5p/jGKzTd8E8k5GK6tDEFngzSewX6vwefQV4AdoNxNaqo1ELRWzL0s7t04wJ9CZ1pNGOoM4rgGK0E+goOfx1Jtx59fri92EvqbAgfs4Bq72XGt2Wl2rcwAAAAHwBn0xqQn8AAAMAAFHZTY+gWgANqOp4hFmlZvkQWFWm0+JeMyB1waCLSWzNEEDRZ+JFv8Mrwc4unDSIjaGOQkw7q4qm0KGOB313z+ErMGWA2Nm+W5E4JyIdhFtObJXZXEiTEWRT6gBdvOCHClN/y8KYdcW+tyW7EkCA4LqxAAABCEGbUUmoQWyZTAhv//6nhAAAAwAAS7pvX6i/aWbi8oijK/gAISqzX/bW5ulAA245t9l2z/87XSCmUkdnOLLRgg/WVE3TUYH0cCas/AmFAY2k0yG83NoDLZFDhjxF30//cA///8aAfb5OrG7W1bJyMD3DFL1miuZ6WJut/+z4cnaOlkxXjry4FymUUAvGc72TwVUT+V0Ocg8JxIcbYW+sy9T580vdECKXmytbNWMBJDHwINkMQ6ydAB8wj+Dtd5sJ27+3DSK9YOvDcEIIf1DDFwMo328kOguCgtB3UocCyWE1rb5lq2OPzVq5DRmCEdCOpdZQDM5U3smYgeKghJLumFKbpk/Gy/FmaQAAAKxBn29FFSwr/wAAAwAAhwZoIhAoHazABOs1laWeLHSG4aKV01883TbfuklVdXa9R6vfklgNYY+h8XtHyNfe7tlS17wZL3NGg9pzPRirL1etnd+8sBUt8y9OVjLbpr55TBUaIkDfdOsUTVPPrltBhGkliDjxD5yYa307xDJ8jd3ov+qZDmH8GJBIieAHJhuKS1iypmEabLUu2GmCU1Q5vq35D2AB0uccT6c4S2bnAAAAhAGfjnRCfwAAAwAAT43NHzBPlsY14AQpzHzYIvsy2rP6HW/ONGALEYBFs2PFtfe21s5K0KVnCwFSWfxMoEi6qoY7uYc3n7Wia9bM814m8Ef5JmaipHGHBMe3+XvBeECjJIfUPUfPQ6CwqipQytLoF5DYLRGR+vBzIhvM1T8Bx8gnJvQ0IAAAAHABn5BqQn8AAAMAAE0tO93r+lou1HP1WNpcmAA5+b9JRzcpK2aZwPC+vYoEmtT1ahP8SKqwPxl2gFLsLJ6Bq3I2/azZ3SbjBCu8jwse/VDBNuASx0eqJzZQa4MozRIUPQeyAEVullWhHHnV5qYuoIt8AAAA40GblUmoQWyZTAhv//6nhAAAAwAASb5GwPpYmiNpeIq7vX+gBLlGcr5J/Xu7A5B3H3Jx/9fbzXDB1JQXisMyNyLQhwSF5E1eU1ugIxoJoGPn5fYbTaHa0kYI7TNvM7gE2S+v/lGt0eR4/Me5MkqeAxhgKdEUaE7MICcU3DidCSP13DZh/oae3BJj0ih4S+U75tmTIfAoWUnmUP6a9bufxGHhKFmVCusYXiw/4ShexFfrirN/CQLgNv6LEv0M5GDtFgen3xt7FiI4P2WIutZ2HI6gxaCLnrjMZxw5J88HyUBbHuYZAAAAnEGfs0UVLCv/AAADAACHBmfbOsl/ByLtcFtzwAlSYibm/c7j+DVHkcwmGBeHWhSnEdYrNI2goM9bz8wnQvYI8T07LQjyP7JuMM3biDj9xr6bMr7/BlHYX9zBGEkxi9Yfo8Qnt8zBx6U5D/xmcjoQ5R1DJYWYF0Qb3TiwWC6tGYG+DT5wyivTp7deku4+4/4M6bAsBTGIuC4sHX9kCAAAAIEBn9J0Qn8AAAMAAFQ1RWE1rz1yH5AB+zsBUTIVnb33PIhYKQN9Te4xansLbfBhgJJJxpFAq2sbTr8uE3DMurAf6aJwXKsbY93xGmnibNdd/uudMbKzFvELnz0MBapWQei12ya5tXSOUK12lm2F3BBhzpB7E1k1Jnp0dCMGkh2vUNgAAABxAZ/UakJ/AAADAABUGfqm7JHdNkp1qHpuRXT3KH5BkMaIm/5l7cuxXAB+aPG/5GPkWy1McL6FKOVF1YLTXI1+RRhfuJVIHrSxGEEfXYkT7xlIUge0DvCak+8/XD1UWEYgFzWDNLM9E0pR/L70Vtcw60EAAAE1QZvZSahBbJlMCG///qeEAAADAABPmbct0yATStZr/v0/dQ8y6D+/6ICK6FyIVC47pbrbjKPO7f6hfePDirW6faSCzGUk7U4ENqbnp31a0D1Cq8NcHzmpnWfqXVDSpf0e+Qa4X/gC1+8fWQmpPL08O66mVJZBrJBYTcQTDv2BNsrvXcKePxENVjhRIsVl/iAmcOwq8gb2cqcd7TqUat84kY8BHN8BC6hQbS0P+kLvIc1D3IXvmH3haXaSCn5QMiD/nty+wcV2eVthDwXgr3RJ/yUQAWLV1pj+lsbSRP44BvCXmwhKyTUIS9Au8kandlUqHau1xX5xWxf3RXB6PQ+AWutqNYEeA3rtiQddYwMY+qzs4fKsw5OTqSrY3dtjOP5H1bfBwiOh8zw+iFKNFKDDxV4uamMmAAAAikGf90UVLCv/AAADAACHBmi1C8LU8oSs4RvojFuCtJQKQKSpQwXSUmbVvNWzYQ2hI6XQAZ2OROBTMhS0YCOpycb9B488c0TfnZEmdL/jIr0L9gcfxI+GBk2h329s5TuFkCck9XgZVi8pX2kuD3xffotXW6RKHKd+khit92I2v32rVVzEPcs57nUDwQAAAG8BnhZ0Qn8AAAMAAEtalU9ROrbgNT0dwAmbzZTtgyw7CUEXGpFvTgUppd+rIsjn8N+frG8ydIa5ARs4YdQPbSIMCBRTqhwwMcpXxhAvJhFMlUwwzcyzCi60oxvXX7cPZRd9dtqgeDaLsZp52B/VN2MAAACEAZ4YakJ/AAADAABULxXgBuahCEvkd1a/s/vMgXhKKCMd0ch/2xKhQbNsebeQFrNXmYdkYConXjJbzSnlnpi8utzuWt1zSXiRx7Mk3bdtfXWHvc3DEDPAXqkTFUh/loIyGLPAWiwLCmWqHXhSbjzPiHPu1kftZgMYC1+2ka/IfTvRve2AAAABA0GaHUmoQWyZTAhv//6nhAAAAwAAT5RuxdivfdUW4CBwE6IS/oAFrcu6vOJ7Yn9kdXejelWR2lA1RnvQpbHdbWN7kH9QcuK9eSk7wxTh8o8RI8RWP8qJZ7HXcNeuJtIoqXbTqebgc5qn4EK7yB1HNN2vNpP2+GLc3ImT0G9lHzmLRgwGSkVi9xjsOC9r+B7rvXtrLsMVWE4obtt7QZBHmJfx2hXsSCv1Z5kybDsoESfVu71YaPXKeWLuEW6uxVb4LhfhiHvy6Yc/qpx9GHgpPMgAtc71/YOJeMsMbCvwC42sYHXaSOxVMbBjIgjyKBCXq6VcKIaQOVMe9c4P2GSVnrRbLMEAAAClQZ47RRUsK/8AAAMAAIcGaKz5rMCpMnadBnKZnusv0+TgAIg84B6H0jJLwwlBtjRfdhTddqZubOCpt5khP+D3bHx2cmMAekACadlLRg1u2GCOKZbS51h/oL2QC2N+FxJ/7I0vmcFfO0V0RsdNVG2yc9lBM7td6D9IMIEnadFcCSDGbJIHVk0FwRbWNAcAMi1T4Xx9Y00/zOufaA12NfyX9p0w+w5DAAAAXwGeWnRCfwAAAwAAU9vpTJ+x92MS2LrRqFcX+nWABfXlvozJHEIJYwoHZb9rseaKxuotKeedAkirUGhAvWBdX2r05JGervo2tDhuKTXcfN0fc2hIFRmd/O7TvGRciW6HAAAAaQGeXGpCfwAAAwAAU+uOejNkhoVccagWJHAnxfe5gALpd9ckPGlWCn1rz/uz6Gw4KypjS2zzw8EXtOhsLLyLL5jLLol61OeuPPI3q69lywN7dy/IzdvsCu/qoncgvEM7BeGlJ5rRZi+vQwAAAO1BmkFJqEFsmUwIb//+p4QAAAMAAE+UbsXuE+AuDeAgvxmshsYAWUt93x3gIcWa0UqNlVWgo5lMsd3hbKnkk4w3udz4DJziDaNcLfsn5AtWlNKIIkkg/ir7ifNgdPK6Md2QQ4hWsD8jHd1TxQuu3f2bzsvburp/g36xmR6W1O0LkeXB6rWxtfKWwOjbpjNdQXdK//Nw6bT2EkBSR5egGmTl+SCxpxX39UBuUZ6+niN0nFV47ej7SwgZo16fOjtLoNKFP4ThOwdTbLCBHvT7FIJUtaIpHO8KiTIYB3+6GNyxWUWRlmh3xygbyr2zNrgAAACfQZ5/RRUsK/8AAAMAAIcGaKuVe7jAzgA8OQIRwOgBAhcFHd/lLXhk61s+1N++R4MbXw5Qmihnu4bRy3htsFkEjJfGstS4/MYDYhYqHzy6KGyX6s/Mkwr/yBBWzlAW/tbI7L1Hq1oRv99JN6mdnARPU0SpfWfmyt8nIp5nIbakcybWcwmDb1jj5zheAZ4dJfi6TTrsPbmwtv+zVurspP6wAAAAZAGennRCfwAAAwAAU+jh0Rujb2LFJypAA7IXrI013c6OV7ofTry9j6dmqSR/Vsc+Uy4DiI6qbyfDx8+OJEjHUYn5Zs3RhVt0Xx9ssr/U+qhTBQuGqu+Zwj5Ymxdrga6A3sdbiGEAAABrAZ6AakJ/AAADAABT6j7zd0AEQeSqNcpJX8MEDE4Uzh4t6fLhjN+/akJSO+oVHhmI8YLy9Fj10sMmUzuxvS4zbQOE5/n9qxer6vHd9dmBqpW9vKZlJSaDN6QFI6XyuBNWH08KwLUwMyPpT8MAAAD2QZqFSahBbJlMCG///qeEAAADAABPiVYYwq4ATQD2oZDd4zgBfelDvqhD3KBnuVm/c9+CSOA531BxqOyAm4AElqK4WZNfuwkQAGMjKNJsiyj1priIX4CZp9CJOSoDjaJjlRN0TC5vM5qPmrIoCz4M5ZrxOyf3b0P/6X54YvOMrtKCsz7jHJ0F7w2PFWvIFbRz+zG2jMAUpXIRl6btS9BlVG1a+A9lN6Gj7D9nQ3g419HtdX6BhMWNZebjcUfAP6y0UYTikFgb3iyt6n1sZbFuDQvs+cx9kswgLXwd+aHE8OK0m0KrS38f7jCfUPXYsRkRYdf5iPfBAAAAh0Geo0UVLCv/AAADAACHBmj8+FPjsADscmPvdHbp1Vr57XS/xvkhoRTdpsyc6G12zK2rYR6nNa7+hh2bZ00cvfdGYnHMybDov2vnSE/7bXqEp89xgnTUX9oe2hGj8m3aFZQO4KsdG585R3HwQHqmkyU6XGS7sE+Mia6WBCDlYOP9m35clcOIYAAAAF8BnsJ0Qn8AAAMAAFQ0n1QGxJBq/1yg8hOIJh91KNv7BB2oIN13oAAHAVRCah6gyAXtBL7+zc4myVgxq67Hx3QtEyt+7JiWJcQF+jTgCr+bDvafy2rb41r4/CfL981cgQAAAF4BnsRqQn8AAAMAAFQdH6AB2RW/SZzJXWyNEBApnDz5NF3geyLAyjJFdhccHL3Ba5wzoDpY0mZzupgzsEeAC9KUrWpCAMMt1yCs5W0MwvEhSsHiehc1evo8d2/+s19BAAABFUGayUmoQWyZTAhv//6nhAAAAwAAUb/tCqUo2DztAJACqe61YdDDpzxnHd7jVTvBSdpojD3+PCIWJZajp7lQGfrZO7r1PI0a1c7Xzxqc4nT8rStVRjp+5khMFelByV2K0i5TNErVI4K2X8l2oAKm0AkNZAgN8QuhiMFVvnjtw18MmPWXSKztN7B5Ty3DOCgv1ayrYh32X+wv7rUuoxaTYKRye3ACytFMawCx1Kc3PouVHkciVYtTtf7WWkgPeQAGccDFx569XFR/sxCMMK40sI3j7P603Bib8/Ee1dWVHt+MT4QR0MfEeC4Ku6U2+ADsGEVNIeC9mWAxB0KtMxfuPgWlQNG0BDkDdGTjUGzQkYdToOOdy3EAAAB7QZ7nRRUsK/8AAAMAAIcGaPylWKmhI8RHk1KHdd5J93jM31zgcs+GnWgBOs9UxN6/suQEt3/n0OyhS8t8+mvlp/UVfel8oWprEkKPenK7oVypvD1m0kwSgo3eu7Q98q1e0vqKbdSyzNQVCUASzs4f1sN6KxaDZgE01xDBAAAAcAGfBnRCfwAAAwAAVWVlqpBaxJlYrBsHtEwomQfP0AD2TdI7Ji3pbUv+KYazKkSk6Dzc5Div5NGw8VQvY0R4vRHbajkFl7cOgp4OdN7gx1ZPgISF9ep8A9oTMhI7S8MajtczsQcYCTeXIHBXewEszkAAAAB0AZ8IakJ/AAADAABWe/Vqq8ALeOp4iKCE/L5bP+ViWJLwZ2HG3QLL5Pg8tMrWevZDCNmCfDPwcWaEaNcrrFFpayJmgavXLn+z+VdvAw2Ne8xD5X7EB0GQzgRAukdnfsNWUipfBmlGrJstpDollArxKg93NX0AAADEQZsNSahBbJlMCG///qeEAAADAABRwCctPa7zGgILwyzjAgBMe3+Z6P3oz688bWmnlb+afFrehdNik5Gjj1/lHtRBwlI4F3TgJPYSM4a/ezjBCLvOI1mrykCLI4XBaU89z30UCfVm2/1utVt1CvqWJsqJjm2sni6A3g6Thq2aChfWjjm0//dZF1lzeCZ2EYv2/y8QlKUoUk0iWuAspdw/qPGKese3prG58AIwTYScxs2Ouhf8A8BRZ4PxEODiMy8P/YCm8QAAAGVBnytFFSwr/wAAAwAAhwZo2N+f2pNOiWq0hAR81hWXyn0AEPzq+punbmETE1fhaDl/ewXVlhNfTZIOHbbl8RyKQ2YG8PsY9ONP7IyFgHBqjq8gsgLOAFwLpYjqJOov7V2jMcGCvAAAADYBn0p0Qn8AAAMAAFabXgBNRdrLMuLgp4L26wamfaL611DJnUItO8g42KT7YaN3Qo9uxn+P64AAAABAAZ9MakJ/AAADAABWbi88x3IGI+KADsit+ko9WG8Pxodzr6d3Ur1cSCfFW9SQx1Bl/ynnvtLmodmwyXeDVPi1wQAAAPpBm1FJqEFsmUwIb//+p4QAAAMAAFGxnEim72xDTfAEeHm5uXQ0xDv34/MOSy7P+o6ybtUcSzmh0y4YpNWdl/CeVlAHhSqwUUzxi//IKgSL2vLy01MBnQ1/KdO6tzYTq6rOnZICQFr23I+pcyno31t7zYu2jkiXS/0sO3dH65xodlWNzyPpEkZ9bAMLwQ6selY7v25HAP2iIfq9YO9nkR3le/QVHkVKwDPc6d49nfw0sEbDJnE083lZJEA+o9/RfgXF5nlSMBYHjqrKPId6ZM+P6lWxHIbGCey6pSMRjLnZBkU8QOuc60jMJgwIhG0GGEdvqT1RJ1/9pMBxAAAAh0Gfb0UVLCv/AAADAACHBmjrgEsUS30ADjVxPUMvCxlHAP9KUGPbicBu/tkks40+/gHGjAI/GKTzq+CJxhfPg6tfjMCEn9CF780D9+/vr1kSR9okWajDT9AXP2c8tiLynyZ0Res0JBYrophDCCgTI3c+Lqjb17OyCi5QFyoPHQbbtx/UvHQ69QAAAF8Bn450Qn8AAAMAAFabXgBMlH8cw6RCHpsqImN0SlYfoB6wxnymMNrn5pdh54kqBM+yjQXxFtmpRZotqHQhNoIp1VXllbg6reuEa4CiTCF02As4IGt1sGb3EfhPElxiOgAAAFwBn5BqQn8AAAMAAFZ7uLD3fWADnDqdYPV0982Pf2eclx6CYH6vPZ/BzhAx9hpI3frTV8WfhvIbnIXMn10FdVbH3u8dvBhvW8VFpn+GMbvQ0WAjA/d3J0rpik/rIAAAANdBm5VJqEFsmUwIb//+p4QAAAMAAFI5l1+6H7AAIfrWa/FqqyN0hETGN6Lu+F5QVbpqZiQtXdS0K14YeLrpsKxDZqH7liHq6Y0k7el5AXfXf2KSPxfg/ylMKyXEEPODzFCWHXezNaRpslGh6rylRHvLjGujkjNDIOhBa1zKaHFAZJOyLnUEomEuTlzgHhpOzlMPbLgPkkk4JUO3AW6mZYhMrydBT97d9vg5xc/vJqnNh4k+S3ZrKth2rMTmTbz3XwG/adlfTBe7v0xJb193S2AvuX+UcT8HWQAAAGpBn7NFFSwr/wAAAwAAhwZo3EbTQj96VnZoTEjHqEMhABLVcyADHusTtDg00ch0xLQ6fCqoDgNNfuQmbaB7QdmMyQz++QSr47+za+G1lHQ97vWR8FVFz8eqOxE+j0gack+iK7QRrgm7WpmAAAAAOQGf0nRCfwAAAwAAVlHLoh6jKu6fxoSuhs2YAHWYA/fTfvfaRQiEwQdDCQgX8SScLP60XXtF69kV6gAAAEwBn9RqQn8AAAMAAFQuNJzHagkV8sIZR80ABtRnnFmSJWuY80fjbfzt2ZOEc+qd+BWsYMh1XUrkTL4ESzj8oUxntDE6xg4Tyc2sec+tAAAAwUGb2UmoQWyZTAhv//6nhAAAAwAAT9WIa2tXABzlxJcdN1ydYyF/bFkz/8WtxoHngutuPuRDXSmJEoSOJ3sN0ZV1pp6biHbHQxI4Z6xq2XVPMVslPM8wIueIRU9ehIEBIInGLywqUreovHKn0zIgtf+N1iuyouxyhE1WwlUQ0tp6+H0ditv3k16yMFH7WO+ew+B6M4+Goor8/5u4I5lI3orWDwtCkl8APkax67tZU/v9Wn3agHFVSc8ktidTnR9tZLcAAACIQZ/3RRUsK/8AAAMAAIcGaLSjM9AAnVTF+21G79wMF8mCl1A3akUIA93VfheOCMmLQLk1BIiAhWzDQzqpMr+J5G3EKKi744AKeVwzpG7xT0PjwzwLwH65OvaM8tsI3r3Pl0CLSJcWStUWrLet+NEsX2L+wE8eZpAv8R2ZEppxK8dFozdbde9voQAAAGIBnhZ0Qn8AAAMAAFMFXLTLReuZ1fMqL08yubAIZ32rJm6ACdY93DWbXSPDt4T9YZMy1PsHM8NWZF1Y/HLGkmPgcLZc3MCRMUr8nMh0EEYTu2m849WNnlFX7bMtfQX2tF4h1QAAAHkBnhhqQn8AAAMAAFQ7tIe4AQmkn+RPWt9AglvaGkq0jrKmw8SJz62lXQ8HdefXiXi7/audIm3qPuTT3OqBcHh/Ki+ZKjjjQSbWo4ym9qUNh2PEN36Rsb1dvFCibUX7pmxDAqmSTgkx5r2m09Q0QO6LXMPJbgm+VRF2AAAAykGaHUmoQWyZTAhv//6nhAAAAwAAT/mXaObyh6DLC5tVoyCqADLuzayFGx2sMMluWV4Ca5VFkZBtUNjyUOoPNGvQ2GIDWaqW1hHOi8/WNeyH4MV8Ak4dmEcHnuL8xJznaSMIstu255B+Lfi7JJa4wd8bDPggALcKgQmqOs1z9rdlgw4VAg8tq3cbvwLWav310nlpLzeyYNt+HmdTbm7l6wgatgUd4l8raUTaBrx0PdFzWWe2iBv4ADZiHkvEKJGRrQV+20o3E2/gX0EAAACmQZ47RRUsK/8AAAMAAIcGaKzuw7CTW3Y9CMKvWRZ9X6wAhTzfUL9xPtzrjp73C9f0TZU/himwpaPk3MOG4//40OfPlo4jtvibQjYA99Bt0ptdCcfMFS4tsaBqPjJVjc6ZJSXlDLgbM55Bgq4qsmCAp5HZtXy4uxdAAOFoO18i14AF9ZAyMd6l4/H5APwqOWLmejUYMtxFCOd4OV7aOxE5fbqKGP3PmAAAAJABnlp0Qn8AAAMAAFP38/0aVdABOz/y06/Kqy5ipuDq1PEB0xKFbnTpJpnamo8dFaI1Axfr9vK19+5JNNKHMR1yjEJD/p1Jpj15gVmUy5f2J/q0ojNP3FJAaFZ07PV1N1EI4UYJEROqYqYF/ZnBkPa6HEFCKTr2dXH/hAH19iyP8mLXWREYGVs/vUJEnvmCXk0AAACUAZ5cakJ/AAADAABTBbb4AW8dTxEROpml5Be0NapS3gy4G7QJiIWwUvSvY4MkWtYD9kKWSfcKO2t/wP8gQnyvn0Gcr9R4N4FSLUijSx+aYZ3CB0Q7/Gv2n96NqoxKVvNgNHi2vZHp1kYbKkEed6w/4XUp+h4U89BvRbuShX89mliSam99bLBoH/v9LEe5cf2PzqgwYQAAAMFBmkBJqEFsmUwIZ//+nhAAAAMAAHR4ToGSMMDl49nAATtmLynOgIJW4DXeouCuuOG0aKVwVyg2trC59GX1nh/gUZxiOnsdwLaXtzCOyxMIV87nEfEQocIFOdJ/wxSq8E9s4Hs2drAUEI5Z4m694OdoeN4v5lRify6XOHgxK7hLerHOOSBxPl/MpsEr6FGsXpXKRiuNShMaZI0s8W7clRDbBjXHXtGOiwaxPMFl1CbWGG0nRTuIhwuqqzMXU7MGOSPAAAAAeUGefkUVLCv/AAADAACHBmfgjgRCVxGP2RlUor3GjMkuKQshBWfNXNdVJimZABdbyVnR/xau3G7gtM0FIf3gVBD0tFEKAtX1cPHZVZ9FHHJqtmgPLzlKCsyy5B3d9AplOEJ5KSyh4eNMN4kS90DSZeUBoFYJVlGxSKwAAAByAZ6fakJ/AAADAABNLpeosw+u2wCUdCWFO7Vus0ziB+dfSFe5dnQUXABtDMFnaV4S3t77WE75jXIwiy/8pixAQNE0BHONlf2h0FNiGx77YkGFAUAlUPuDb7tptn90gTrLM8RyfAlLWpzN7wjqPn9zy3WBAAAA7UGag0moQWyZTAhn//6eEAAAAwABJuPPgaCIA2/XgtJKm31tyinh1E/9RGZivowSwcbEKJerkMfPdROFSwBuZ5amuE//yoxl7/5J2v7xxWt/c0qc1qFld9sFjfDG+O7CVR6c769NYa3C85RVQLCb8hDQeb7FBbMby17VTzNDFx5B6UUSeVILZFPGUDqZx9HefjpIFI0kCTNK7HSTrTK/F9kZoF77n9wH9Lf1Zm+8H0xxkva3CgvCTd+gGkPCcb4DRVsTgo4PCo3H+L2Jo9msDri9aEe6bMPzS7EAV/Ty/nWKKx4WsAeTykIGBnI9wAAAAIxBnqFFFSwr/wAAAwAAhwZoJORS+Sr2NXr95U7+DJNnth/9QAA5+sqkuSX8M4X6xyMblH+qlRY4lSwxMXAar+naOZG0PVrAFnVMJLwLMN73ZahsZt6H+dIGyCkKd+pHXsC75Dp+1BAMUPvNolgYXuk1vztaJx7if6tr1c6gMYKo13LPJlEVFq6u5I9c2wAAAHYBnsJqQn8AAAMAAE+trzjoSRyCwMht6SugIXjRdAEAHaHU8RbAAIqyM9waSCwuYbCTd9uwALkdqlIwV13xWdRzzpR6lHqEjRfR1XiQfzHsKupsClpijqcrbXMJ/BtELx5McZUUNb/lTPPQfo0sMESG2R/++GSQAAAA0kGax0moQWyZTAhX//44QAAAAwAEc9GOSNoZgSRa8AITnyVDkWJS3M7xoRYlcxezVtQ3oMG/onzTS5PDlph8RtTsXSsnjx0iz1/cOQp+YRNbUM2Qty4Xgqba8r+QM0wpekfR3EvzBw5xbdRyYOomx1gxpPQw+c/uaSgE+WzGhAZnwkeyUcM8eShK/3IEHqOsnLJ5GUAJnS/TJyMRyyo4vPBmL+6bpEVYIKoqe6lLWCW6kaA4yNnCg63wVQ2/cW6bb0IyikZzkJwK8ldbmkioemhh9wAAAKRBnuVFFSwr/wAAAwAAhwZoIWwNFmHcyid4tf/QAr0OZG5vSHLfQiA1Uyz2ApAXMs/GEH6m+xLPT9S7HISIhJ0CPvQn+eIef3sSXFAzfOs+nrZrBOzP1HP3Q62qhIqZdM0U8BqoqVIKzNkSN3PonAI06+HBF8Hj8ITzTT1BCcbGUnKDnPypVbnzOg+e5NTKI28y1WwAHY+RO0yVzHRK024qjyxIrQAAAIQBnwR0Qn8AAAMAAFH0czwjYCDQaazCiwAOyK36RaRRJ+ML3J9kT93eD6VvylzLe8rRr/iQNS898iPQrUUyCq86kcyQLgO8mVjIgywdDFzWWZ6lWRdS8IVVdwKPi5ZcifKDuacA+1d8RD7bAnEYkA1+pXNXfZBf13CVMUjZpNAEBMcLYu8AAACWAZ8GakJ/AAADAABR2S+8utHKAA2n6U7YENDIRQYyUV/zxfn6394Rm33kj6fYCSiJrpNR2PnEHBPUK0+maXDyi0R+sT4sP4H0awU36RAGQbpvgGdKoRA/I2NxYvaNmSjFlRdq8yXLitOZuUstkAQq/0T1fIQndAgT7LyiBbbIx+zDVk33bYVfzXVitoDM3Y6SOlt2YiLBAAAAoEGbCEmoQWyZTAhP//3xAAADAAAKxA13cAHM/I5z5WCN35bYFx6fWNCnKaujMgDAdZDmpSmAzpXR4HGJBmSMOeqJC8delxMH4Q+D6OwT98hy6JTet+X/0aCyyywyQIKoO9XFpGIE6CjWLGOeEwEVC4QrZS3wYXcGo4Qz80JhM+VINaiHVSMntF21zIkQWDmoiQvl7xurx4BCGbwbpN2bT3AAAAxHbW9vdgAAAGxtdmhkAAAAAAAAAAAAAAAAAAAD6AAAGiwAAQAAAQAAAAAAAAAAAAAAAAEAAAAAAAAAAAAAAAAAAAABAAAAAAAAAAAAAAAAAABAAAAAAAAAAAAAAAAAAAAAAAAAAAAAAAAAAAAAAAAAAgAAC3F0cmFrAAAAXHRraGQAAAADAAAAAAAAAAAAAAABAAAAAAAAGiwAAAAAAAAAAAAAAAAAAAAAAAEAAAAAAAAAAAAAAAAAAAABAAAAAAAAAAAAAAAAAABAAAAAAlgAAAGQAAAAAAAkZWR0cwAAABxlbHN0AAAAAAAAAAEAABosAAAEAAABAAAAAArpbWRpYQAAACBtZGhkAAAAAAAAAAAAAAAAAAA8AAABkgBVxAAAAAAALWhkbHIAAAAAAAAAAHZpZGUAAAAAAAAAAAAAAABWaWRlb0hhbmRsZXIAAAAKlG1pbmYAAAAUdm1oZAAAAAEAAAAAAAAAAAAAACRkaW5mAAAAHGRyZWYAAAAAAAAAAQAAAAx1cmwgAAAAAQAAClRzdGJsAAAAmHN0c2QAAAAAAAAAAQAAAIhhdmMxAAAAAAAAAAEAAAAAAAAAAAAAAAAAAAAAAlgBkABIAAAASAAAAAAAAAABAAAAAAAAAAAAAAAAAAAAAAAAAAAAAAAAAAAAAAAAAAAAGP//AAAAMmF2Y0MBZAAe/+EAGWdkAB6s2UCYM+XhAAADAAEAAAMAPA8WLZYBAAZo6+PLIsAAAAAYc3R0cwAAAAAAAAABAAAAyQAAAgAAAAAUc3RzcwAAAAAAAAABAAAAAQAABiBjdHRzAAAAAAAAAMIAAAABAAAEAAAAAAEAAAoAAAAAAQAABAAAAAABAAAAAAAAAAEAAAIAAAAAAQAACgAAAAABAAAEAAAAAAEAAAAAAAAAAQAAAgAAAAABAAAIAAAAAAIAAAIAAAAAAQAACAAAAAACAAACAAAAAAEAAAoAAAAAAQAABAAAAAABAAAAAAAAAAEAAAIAAAAAAQAACAAAAAACAAACAAAAAAEAAAoAAAAAAQAABAAAAAABAAAAAAAAAAEAAAIAAAAAAQAABgAAAAABAAACAAAAAAEAAAYAAAAAAQAAAgAAAAABAAAKAAAAAAEAAAQAAAAAAQAAAAAAAAABAAACAAAAAAEAAAgAAAAAAgAAAgAAAAABAAAKAAAAAAEAAAQAAAAAAQAAAAAAAAABAAACAAAAAAEAAAYAAAAAAQAAAgAAAAABAAAKAAAAAAEAAAQAAAAAAQAAAAAAAAABAAACAAAAAAEAAAoAAAAAAQAABAAAAAABAAAAAAAAAAEAAAIAAAAAAQAACgAAAAABAAAEAAAAAAEAAAAAAAAAAQAAAgAAAAABAAAKAAAAAAEAAAQAAAAAAQAAAAAAAAABAAACAAAAAAEAAAoAAAAAAQAABAAAAAABAAAAAAAAAAEAAAIAAAAAAQAACgAAAAABAAAEAAAAAAEAAAAAAAAAAQAAAgAAAAABAAAKAAAAAAEAAAQAAAAAAQAAAAAAAAABAAACAAAAAAEAAAoAAAAAAQAABAAAAAABAAAAAAAAAAEAAAIAAAAAAQAACgAAAAABAAAEAAAAAAEAAAAAAAAAAQAAAgAAAAABAAAKAAAAAAEAAAQAAAAAAQAAAAAAAAABAAACAAAAAAEAAAoAAAAAAQAABAAAAAABAAAAAAAAAAEAAAIAAAAAAQAACgAAAAABAAAEAAAAAAEAAAAAAAAAAQAAAgAAAAABAAAKAAAAAAEAAAQAAAAAAQAAAAAAAAABAAACAAAAAAEAAAoAAAAAAQAABAAAAAABAAAAAAAAAAEAAAIAAAAAAQAACgAAAAABAAAEAAAAAAEAAAAAAAAAAQAAAgAAAAABAAAKAAAAAAEAAAQAAAAAAQAAAAAAAAABAAACAAAAAAEAAAoAAAAAAQAABAAAAAABAAAAAAAAAAEAAAIAAAAAAQAACgAAAAABAAAEAAAAAAEAAAAAAAAAAQAAAgAAAAABAAAKAAAAAAEAAAQAAAAAAQAAAAAAAAABAAACAAAAAAEAAAgAAAAAAgAAAgAAAAABAAAKAAAAAAEAAAQAAAAAAQAAAAAAAAABAAACAAAAAAEAAAoAAAAAAQAABAAAAAABAAAAAAAAAAEAAAIAAAAAAQAACgAAAAABAAAEAAAAAAEAAAAAAAAAAQAAAgAAAAABAAAKAAAAAAEAAAQAAAAAAQAAAAAAAAABAAACAAAAAAEAAAoAAAAAAQAABAAAAAABAAAAAAAAAAEAAAIAAAAAAQAACgAAAAABAAAEAAAAAAEAAAAAAAAAAQAAAgAAAAABAAAKAAAAAAEAAAQAAAAAAQAAAAAAAAABAAACAAAAAAEAAAoAAAAAAQAABAAAAAABAAAAAAAAAAEAAAIAAAAAAQAACgAAAAABAAAEAAAAAAEAAAAAAAAAAQAAAgAAAAABAAAKAAAAAAEAAAQAAAAAAQAAAAAAAAABAAACAAAAAAEAAAoAAAAAAQAABAAAAAABAAAAAAAAAAEAAAIAAAAAAQAACgAAAAABAAAEAAAAAAEAAAAAAAAAAQAAAgAAAAABAAAKAAAAAAEAAAQAAAAAAQAAAAAAAAABAAACAAAAAAEAAAoAAAAAAQAABAAAAAABAAAAAAAAAAEAAAIAAAAAAQAACgAAAAABAAAEAAAAAAEAAAAAAAAAAQAAAgAAAAABAAAKAAAAAAEAAAQAAAAAAQAAAAAAAAABAAACAAAAAAEAAAoAAAAAAQAABAAAAAABAAAAAAAAAAEAAAIAAAAAAQAACAAAAAACAAACAAAAAAEAAAgAAAAAAgAAAgAAAAABAAAKAAAAAAEAAAQAAAAAAQAAAAAAAAABAAACAAAAAAEAAAQAAAAAHHN0c2MAAAAAAAAAAQAAAAEAAADJAAAAAQAAAzhzdHN6AAAAAAAAAAAAAADJAAATiAAAAlYAAADNAAAAcQAAAHcAAAEUAAAAuAAAAIsAAACEAAAA7QAAAHsAAACNAAAA/wAAAH8AAAB0AAABJwAAAJUAAACXAAAAegAAATQAAAChAAAAjAAAAPMAAACCAAAAcQAAAHEAAADAAAAAJwAAACoAAABJAAAA+QAAAH8AAABcAAAAawAAAPgAAACYAAAAggAAAOgAAACmAAAAdgAAAGkAAADaAAAAawAAASYAAAC5AAAAgwAAAJ4AAAEWAAAAsgAAAIwAAABxAAAA+AAAAM0AAACVAAAAfgAAAQ0AAACIAAAAewAAACAAAAC1AAAAoQAAAHYAAAB2AAABJQAAAMcAAACSAAAAiQAAAQMAAADFAAAAfQAAAI8AAAEiAAAAiwAAAIwAAAB1AAABKwAAALAAAABfAAAAiwAAATsAAACvAAAAgwAAAH4AAAEDAAAAggAAAIcAAAArAAAAwQAAAHsAAAAdAAAAVwAAAMkAAAA/AAAASQAAAGYAAAEQAAAAqAAAAGkAAACQAAAA6QAAAKAAAABtAAAAYgAAAQoAAAB+AAAAnwAAAIQAAAEDAAAAkgAAAIAAAABiAAAA9wAAAH8AAACAAAAAlgAAAPsAAAC2AAAAhAAAAJQAAAEmAAAAtAAAAH8AAAEGAAAAoQAAAIMAAAB4AAABKQAAAKkAAACRAAAAUAAAAL4AAAB0AAAAaQAAAJIAAAE+AAAArgAAAI8AAACAAAABKAAAALgAAACKAAAAgAAAAQwAAACwAAAAiAAAAHQAAADnAAAAoAAAAIUAAAB1AAABOQAAAI4AAABzAAAAiAAAAQcAAACpAAAAYwAAAG0AAADxAAAAowAAAGgAAABvAAAA+gAAAIsAAABjAAAAYgAAARkAAAB/AAAAdAAAAHgAAADIAAAAaQAAADoAAABEAAAA/gAAAIsAAABjAAAAYAAAANsAAABuAAAAPQAAAFAAAADFAAAAjAAAAGYAAAB9AAAAzgAAAKoAAACUAAAAmAAAAMUAAAB9AAAAdgAAAPEAAACQAAAAegAAANYAAACoAAAAiAAAAJoAAACkAAAAFHN0Y28AAAAAAAAAAQAAADAAAABidWR0YQAAAFptZXRhAAAAAAAAACFoZGxyAAAAAAAAAABtZGlyYXBwbAAAAAAAAAAAAAAAAC1pbHN0AAAAJal0b28AAAAdZGF0YQAAAAEAAAAATGF2ZjU3LjgzLjEwMA==\" \n",
              "                type=\"video/mp4\" />\n",
              "             </video>"
            ]
          },
          "metadata": {}
        }
      ],
      "source": [
        "# HIDE OUTPUT\n",
        "\n",
        "run_game(q_table, True, False)\n",
        "show_video()\n"
      ]
    },
    {
      "cell_type": "markdown",
      "metadata": {
        "id": "WeQzNFSosdys"
      },
      "source": [
        "## Inspecting the Q-Table\n",
        "\n",
        "We can also display the Q-table. The following code shows the agent's action for each environment state. As the weights of a neural network, this table is not straightforward to interpret. Some patterns do emerge in that direction, as seen by calculating the means of rows and columns. The actions seem consistent at both velocity and position's upper and lower halves."
      ]
    },
    {
      "cell_type": "code",
      "execution_count": 14,
      "metadata": {
        "colab": {
          "base_uri": "https://localhost:8080/",
          "height": 363
        },
        "id": "L62lyCTr-Noz",
        "outputId": "4f775d1e-c5c3-447b-c46d-56e50eacd4e5"
      },
      "outputs": [
        {
          "output_type": "execute_result",
          "data": {
            "text/plain": [
              "     v-0  v-1  v-2  v-3  v-4  v-5  v-6  v-7  v-8  v-9\n",
              "p-0    0    2    1    1    2    2    1    2    1    0\n",
              "p-1    0    2    2    2    1    0    1    2    0    1\n",
              "p-2    0    0    0    1    2    2    2    2    2    1\n",
              "p-3    1    0    0    0    0    2    2    2    2    2\n",
              "p-4    1    0    2    1    0    1    2    2    2    2\n",
              "p-5    2    1    0    0    0    0    1    2    2    2\n",
              "p-6    1    2    0    0    0    0    2    1    2    0\n",
              "p-7    1    1    0    0    0    0    2    1    2    2\n",
              "p-8    2    1    2    2    0    0    0    2    1    2\n",
              "p-9    0    2    0    1    1    0    0    2    0    1"
            ],
            "text/html": [
              "\n",
              "  <div id=\"df-19bc9900-cce5-40be-91b2-dbc1282c1cca\">\n",
              "    <div class=\"colab-df-container\">\n",
              "      <div>\n",
              "<style scoped>\n",
              "    .dataframe tbody tr th:only-of-type {\n",
              "        vertical-align: middle;\n",
              "    }\n",
              "\n",
              "    .dataframe tbody tr th {\n",
              "        vertical-align: top;\n",
              "    }\n",
              "\n",
              "    .dataframe thead th {\n",
              "        text-align: right;\n",
              "    }\n",
              "</style>\n",
              "<table border=\"1\" class=\"dataframe\">\n",
              "  <thead>\n",
              "    <tr style=\"text-align: right;\">\n",
              "      <th></th>\n",
              "      <th>v-0</th>\n",
              "      <th>v-1</th>\n",
              "      <th>v-2</th>\n",
              "      <th>v-3</th>\n",
              "      <th>v-4</th>\n",
              "      <th>v-5</th>\n",
              "      <th>v-6</th>\n",
              "      <th>v-7</th>\n",
              "      <th>v-8</th>\n",
              "      <th>v-9</th>\n",
              "    </tr>\n",
              "  </thead>\n",
              "  <tbody>\n",
              "    <tr>\n",
              "      <th>p-0</th>\n",
              "      <td>0</td>\n",
              "      <td>2</td>\n",
              "      <td>1</td>\n",
              "      <td>1</td>\n",
              "      <td>2</td>\n",
              "      <td>2</td>\n",
              "      <td>1</td>\n",
              "      <td>2</td>\n",
              "      <td>1</td>\n",
              "      <td>0</td>\n",
              "    </tr>\n",
              "    <tr>\n",
              "      <th>p-1</th>\n",
              "      <td>0</td>\n",
              "      <td>2</td>\n",
              "      <td>2</td>\n",
              "      <td>2</td>\n",
              "      <td>1</td>\n",
              "      <td>0</td>\n",
              "      <td>1</td>\n",
              "      <td>2</td>\n",
              "      <td>0</td>\n",
              "      <td>1</td>\n",
              "    </tr>\n",
              "    <tr>\n",
              "      <th>p-2</th>\n",
              "      <td>0</td>\n",
              "      <td>0</td>\n",
              "      <td>0</td>\n",
              "      <td>1</td>\n",
              "      <td>2</td>\n",
              "      <td>2</td>\n",
              "      <td>2</td>\n",
              "      <td>2</td>\n",
              "      <td>2</td>\n",
              "      <td>1</td>\n",
              "    </tr>\n",
              "    <tr>\n",
              "      <th>p-3</th>\n",
              "      <td>1</td>\n",
              "      <td>0</td>\n",
              "      <td>0</td>\n",
              "      <td>0</td>\n",
              "      <td>0</td>\n",
              "      <td>2</td>\n",
              "      <td>2</td>\n",
              "      <td>2</td>\n",
              "      <td>2</td>\n",
              "      <td>2</td>\n",
              "    </tr>\n",
              "    <tr>\n",
              "      <th>p-4</th>\n",
              "      <td>1</td>\n",
              "      <td>0</td>\n",
              "      <td>2</td>\n",
              "      <td>1</td>\n",
              "      <td>0</td>\n",
              "      <td>1</td>\n",
              "      <td>2</td>\n",
              "      <td>2</td>\n",
              "      <td>2</td>\n",
              "      <td>2</td>\n",
              "    </tr>\n",
              "    <tr>\n",
              "      <th>p-5</th>\n",
              "      <td>2</td>\n",
              "      <td>1</td>\n",
              "      <td>0</td>\n",
              "      <td>0</td>\n",
              "      <td>0</td>\n",
              "      <td>0</td>\n",
              "      <td>1</td>\n",
              "      <td>2</td>\n",
              "      <td>2</td>\n",
              "      <td>2</td>\n",
              "    </tr>\n",
              "    <tr>\n",
              "      <th>p-6</th>\n",
              "      <td>1</td>\n",
              "      <td>2</td>\n",
              "      <td>0</td>\n",
              "      <td>0</td>\n",
              "      <td>0</td>\n",
              "      <td>0</td>\n",
              "      <td>2</td>\n",
              "      <td>1</td>\n",
              "      <td>2</td>\n",
              "      <td>0</td>\n",
              "    </tr>\n",
              "    <tr>\n",
              "      <th>p-7</th>\n",
              "      <td>1</td>\n",
              "      <td>1</td>\n",
              "      <td>0</td>\n",
              "      <td>0</td>\n",
              "      <td>0</td>\n",
              "      <td>0</td>\n",
              "      <td>2</td>\n",
              "      <td>1</td>\n",
              "      <td>2</td>\n",
              "      <td>2</td>\n",
              "    </tr>\n",
              "    <tr>\n",
              "      <th>p-8</th>\n",
              "      <td>2</td>\n",
              "      <td>1</td>\n",
              "      <td>2</td>\n",
              "      <td>2</td>\n",
              "      <td>0</td>\n",
              "      <td>0</td>\n",
              "      <td>0</td>\n",
              "      <td>2</td>\n",
              "      <td>1</td>\n",
              "      <td>2</td>\n",
              "    </tr>\n",
              "    <tr>\n",
              "      <th>p-9</th>\n",
              "      <td>0</td>\n",
              "      <td>2</td>\n",
              "      <td>0</td>\n",
              "      <td>1</td>\n",
              "      <td>1</td>\n",
              "      <td>0</td>\n",
              "      <td>0</td>\n",
              "      <td>2</td>\n",
              "      <td>0</td>\n",
              "      <td>1</td>\n",
              "    </tr>\n",
              "  </tbody>\n",
              "</table>\n",
              "</div>\n",
              "      <button class=\"colab-df-convert\" onclick=\"convertToInteractive('df-19bc9900-cce5-40be-91b2-dbc1282c1cca')\"\n",
              "              title=\"Convert this dataframe to an interactive table.\"\n",
              "              style=\"display:none;\">\n",
              "        \n",
              "  <svg xmlns=\"http://www.w3.org/2000/svg\" height=\"24px\"viewBox=\"0 0 24 24\"\n",
              "       width=\"24px\">\n",
              "    <path d=\"M0 0h24v24H0V0z\" fill=\"none\"/>\n",
              "    <path d=\"M18.56 5.44l.94 2.06.94-2.06 2.06-.94-2.06-.94-.94-2.06-.94 2.06-2.06.94zm-11 1L8.5 8.5l.94-2.06 2.06-.94-2.06-.94L8.5 2.5l-.94 2.06-2.06.94zm10 10l.94 2.06.94-2.06 2.06-.94-2.06-.94-.94-2.06-.94 2.06-2.06.94z\"/><path d=\"M17.41 7.96l-1.37-1.37c-.4-.4-.92-.59-1.43-.59-.52 0-1.04.2-1.43.59L10.3 9.45l-7.72 7.72c-.78.78-.78 2.05 0 2.83L4 21.41c.39.39.9.59 1.41.59.51 0 1.02-.2 1.41-.59l7.78-7.78 2.81-2.81c.8-.78.8-2.07 0-2.86zM5.41 20L4 18.59l7.72-7.72 1.47 1.35L5.41 20z\"/>\n",
              "  </svg>\n",
              "      </button>\n",
              "      \n",
              "  <style>\n",
              "    .colab-df-container {\n",
              "      display:flex;\n",
              "      flex-wrap:wrap;\n",
              "      gap: 12px;\n",
              "    }\n",
              "\n",
              "    .colab-df-convert {\n",
              "      background-color: #E8F0FE;\n",
              "      border: none;\n",
              "      border-radius: 50%;\n",
              "      cursor: pointer;\n",
              "      display: none;\n",
              "      fill: #1967D2;\n",
              "      height: 32px;\n",
              "      padding: 0 0 0 0;\n",
              "      width: 32px;\n",
              "    }\n",
              "\n",
              "    .colab-df-convert:hover {\n",
              "      background-color: #E2EBFA;\n",
              "      box-shadow: 0px 1px 2px rgba(60, 64, 67, 0.3), 0px 1px 3px 1px rgba(60, 64, 67, 0.15);\n",
              "      fill: #174EA6;\n",
              "    }\n",
              "\n",
              "    [theme=dark] .colab-df-convert {\n",
              "      background-color: #3B4455;\n",
              "      fill: #D2E3FC;\n",
              "    }\n",
              "\n",
              "    [theme=dark] .colab-df-convert:hover {\n",
              "      background-color: #434B5C;\n",
              "      box-shadow: 0px 1px 3px 1px rgba(0, 0, 0, 0.15);\n",
              "      filter: drop-shadow(0px 1px 2px rgba(0, 0, 0, 0.3));\n",
              "      fill: #FFFFFF;\n",
              "    }\n",
              "  </style>\n",
              "\n",
              "      <script>\n",
              "        const buttonEl =\n",
              "          document.querySelector('#df-19bc9900-cce5-40be-91b2-dbc1282c1cca button.colab-df-convert');\n",
              "        buttonEl.style.display =\n",
              "          google.colab.kernel.accessAllowed ? 'block' : 'none';\n",
              "\n",
              "        async function convertToInteractive(key) {\n",
              "          const element = document.querySelector('#df-19bc9900-cce5-40be-91b2-dbc1282c1cca');\n",
              "          const dataTable =\n",
              "            await google.colab.kernel.invokeFunction('convertToInteractive',\n",
              "                                                     [key], {});\n",
              "          if (!dataTable) return;\n",
              "\n",
              "          const docLinkHtml = 'Like what you see? Visit the ' +\n",
              "            '<a target=\"_blank\" href=https://colab.research.google.com/notebooks/data_table.ipynb>data table notebook</a>'\n",
              "            + ' to learn more about interactive tables.';\n",
              "          element.innerHTML = '';\n",
              "          dataTable['output_type'] = 'display_data';\n",
              "          await google.colab.output.renderOutput(dataTable, element);\n",
              "          const docLink = document.createElement('div');\n",
              "          docLink.innerHTML = docLinkHtml;\n",
              "          element.appendChild(docLink);\n",
              "        }\n",
              "      </script>\n",
              "    </div>\n",
              "  </div>\n",
              "  "
            ]
          },
          "metadata": {},
          "execution_count": 14
        }
      ],
      "source": [
        "import pandas as pd\n",
        "\n",
        "df = pd.DataFrame(q_table.argmax(axis=2))\n",
        "\n",
        "df.columns = [f'v-{x}' for x in range(DISCRETE_GRID_SIZE[0])]\n",
        "df.index = [f'p-{x}' for x in range(DISCRETE_GRID_SIZE[1])]\n",
        "df\n"
      ]
    },
    {
      "cell_type": "code",
      "execution_count": 15,
      "metadata": {
        "colab": {
          "base_uri": "https://localhost:8080/"
        },
        "id": "Z-ZOL-d5Jbon",
        "outputId": "04405c6f-e795-495e-8df1-0ff76494ef45"
      },
      "outputs": [
        {
          "output_type": "execute_result",
          "data": {
            "text/plain": [
              "v-0    0.8\n",
              "v-1    1.1\n",
              "v-2    0.7\n",
              "v-3    0.8\n",
              "v-4    0.6\n",
              "v-5    0.7\n",
              "v-6    1.3\n",
              "v-7    1.8\n",
              "v-8    1.4\n",
              "v-9    1.3\n",
              "dtype: float64"
            ]
          },
          "metadata": {},
          "execution_count": 15
        }
      ],
      "source": [
        "df.mean(axis=0)"
      ]
    },
    {
      "cell_type": "code",
      "execution_count": 16,
      "metadata": {
        "colab": {
          "base_uri": "https://localhost:8080/"
        },
        "id": "LOGA4HP9KHW3",
        "outputId": "dc914ddc-3114-4563-99c4-78f02b75b855"
      },
      "outputs": [
        {
          "output_type": "execute_result",
          "data": {
            "text/plain": [
              "p-0    1.2\n",
              "p-1    1.1\n",
              "p-2    1.2\n",
              "p-3    1.1\n",
              "p-4    1.3\n",
              "p-5    1.0\n",
              "p-6    0.8\n",
              "p-7    0.9\n",
              "p-8    1.2\n",
              "p-9    0.7\n",
              "dtype: float64"
            ]
          },
          "metadata": {},
          "execution_count": 16
        }
      ],
      "source": [
        "df.mean(axis=1)"
      ]
    },
    {
      "cell_type": "markdown",
      "source": [
        "Cross entropy method"
      ],
      "metadata": {
        "id": "KKAuPMCMzYbQ"
      }
    },
    {
      "cell_type": "code",
      "source": [
        "import gym\n",
        "import numpy as np\n",
        "import torch\n",
        "from torch import nn"
      ],
      "metadata": {
        "id": "l5at1OubzcWz"
      },
      "execution_count": 17,
      "outputs": []
    },
    {
      "cell_type": "code",
      "source": [
        "class Agent(nn.Module):\n",
        "    def __init__(self, env_dim, action_n):\n",
        "        super().__init__()\n",
        "        self.network = nn.Sequential(\n",
        "            nn.Linear(env_dim, 100),\n",
        "            nn.ReLU(),\n",
        "            nn.Linear(100, action_n)\n",
        "        )\n",
        "        self.softmax = nn.Softmax()\n",
        "        self.loss = nn.CrossEntropyLoss()\n",
        "        self.optimizer = torch.optim.Adam(self.parameters(), lr=0.01)\n",
        "\n",
        "    def forward(self, input):\n",
        "        return self.network(input)\n",
        "\n",
        "    def get_action(self, state):\n",
        "        state = torch.FloatTensor(state)\n",
        "        logits = self.network(state)\n",
        "        action_prob = self.softmax(logits).detach().numpy()\n",
        "        action = np.random.choice(len(action_prob), p=action_prob)\n",
        "        return action\n",
        "\n",
        "    def make_policy(self, elite_rounds):\n",
        "        elite_inds, elite_thetas = [], []\n",
        "        for session in elite_rounds:\n",
        "            elite_inds.extend(session['states'])\n",
        "            elite_thetas.extend(session['actions'])\n",
        "\n",
        "        elite_inds = torch.FloatTensor(elite_inds)\n",
        "        elite_thetas = torch.LongTensor(elite_thetas)\n",
        "\n",
        "        loss = self.loss(self.network(elite_inds), elite_thetas)\n",
        "        loss.backward()\n",
        "        self.optimizer.step()\n",
        "        self.optimizer.zero_grad()\n",
        "        return None"
      ],
      "metadata": {
        "id": "MOw92qT_zex9"
      },
      "execution_count": 18,
      "outputs": []
    },
    {
      "cell_type": "code",
      "source": [
        "def do_work(env, agent, session_len, render=False):\n",
        "    session = {}\n",
        "    states, actions = [], []\n",
        "    total_reward = 0\n",
        "    modified_reward = 0\n",
        "\n",
        "    state = env.reset()\n",
        "    for _ in range(session_len):\n",
        "        states.append(state)\n",
        "        action = agent.get_action(state)\n",
        "        actions.append(action)\n",
        "\n",
        "        if render:\n",
        "            env.render()\n",
        "\n",
        "        new_state, reward, done, _ = env.step(action)\n",
        "        total_reward += reward\n",
        "        modified_reward += reward + 300 * (gamma * abs(new_state[1]) - abs(state[1]))\n",
        "\n",
        "        if done:\n",
        "            break\n",
        "\n",
        "    session['states'] = states\n",
        "    session['actions'] = actions\n",
        "    session['total_reward'] = total_reward\n",
        "    session['modified_reward'] = modified_reward\n",
        "    return session"
      ],
      "metadata": {
        "id": "j6Ig8vb0zjg0"
      },
      "execution_count": 19,
      "outputs": []
    },
    {
      "cell_type": "code",
      "source": [
        "def get_elite_rounds(sessions, q_param):\n",
        "\n",
        "    total_rewards = np.array([session['total_reward'] for session in sessions])\n",
        "    quantile = np.quantile(total_rewards, q_param)\n",
        "\n",
        "    elite_rounds = []\n",
        "    for session in sessions:\n",
        "        if session['total_reward'] > quantile:\n",
        "            elite_rounds.append(session)\n",
        "\n",
        "    return elite_rounds"
      ],
      "metadata": {
        "id": "-wUAwNJfzmBK"
      },
      "execution_count": 20,
      "outputs": []
    },
    {
      "cell_type": "code",
      "source": [
        "env = gym.make(\"MountainCar-v0\").env\n",
        "agent = Agent(2, 3)\n",
        "\n",
        "episode_n = 10\n",
        "session_n = 20\n",
        "session_len = 100\n",
        "q_param = 0.8\n",
        "gamma = 0.7\n",
        "\n",
        "for episode in range(episode_n):\n",
        "    sessions = [do_work(env, agent, session_len) for _ in range(session_n)]\n",
        "\n",
        "    mean_total_reward = np.mean([session['total_reward'] for session in sessions])\n",
        "    mean_modified_reward = np.mean([session['modified_reward'] for session in sessions])\n",
        "    print(f'E: {episode}, mean_total_reward = {mean_total_reward}, mean_modified_reward = {mean_modified_reward}')\n",
        "\n",
        "    elite_rounds = get_elite_rounds(sessions, q_param)\n",
        "\n",
        "    if len(elite_rounds) > 0:\n",
        "        agent.update_policy(elite_rounds)\n",
        "\n",
        "do_work(env, agent, session_len, render=True)"
      ],
      "metadata": {
        "colab": {
          "base_uri": "https://localhost:8080/"
        },
        "id": "pfab24ZnzaHx",
        "outputId": "03384954-8cdb-4ab8-f3d2-a095d141a70c"
      },
      "execution_count": 21,
      "outputs": [
        {
          "output_type": "stream",
          "name": "stderr",
          "text": [
            "/usr/local/lib/python3.7/dist-packages/ipykernel_launcher.py:19: UserWarning: Implicit dimension choice for softmax has been deprecated. Change the call to include dim=X as an argument.\n"
          ]
        },
        {
          "output_type": "stream",
          "name": "stdout",
          "text": [
            "E: 0, mean_total_reward = -100.0, mean_modified_reward = -19.987764513872765\n",
            "E: 1, mean_total_reward = -100.0, mean_modified_reward = 7.308314664863696\n",
            "E: 2, mean_total_reward = -100.0, mean_modified_reward = -16.51556276522389\n",
            "E: 3, mean_total_reward = -100.0, mean_modified_reward = -21.086925606248965\n",
            "E: 4, mean_total_reward = -100.0, mean_modified_reward = 6.143487774762846\n",
            "E: 5, mean_total_reward = -100.0, mean_modified_reward = 2.381126142127015\n",
            "E: 6, mean_total_reward = -100.0, mean_modified_reward = -6.522791808962197\n",
            "E: 7, mean_total_reward = -100.0, mean_modified_reward = -7.723977718884372\n",
            "E: 8, mean_total_reward = -100.0, mean_modified_reward = -29.196866897034273\n",
            "E: 9, mean_total_reward = -100.0, mean_modified_reward = -10.327087093993134\n"
          ]
        },
        {
          "output_type": "execute_result",
          "data": {
            "text/plain": [
              "{'actions': [0,\n",
              "  2,\n",
              "  2,\n",
              "  1,\n",
              "  0,\n",
              "  0,\n",
              "  0,\n",
              "  2,\n",
              "  2,\n",
              "  0,\n",
              "  0,\n",
              "  0,\n",
              "  2,\n",
              "  0,\n",
              "  0,\n",
              "  1,\n",
              "  0,\n",
              "  1,\n",
              "  1,\n",
              "  0,\n",
              "  2,\n",
              "  0,\n",
              "  2,\n",
              "  2,\n",
              "  1,\n",
              "  0,\n",
              "  0,\n",
              "  0,\n",
              "  0,\n",
              "  0,\n",
              "  1,\n",
              "  0,\n",
              "  2,\n",
              "  2,\n",
              "  1,\n",
              "  2,\n",
              "  1,\n",
              "  0,\n",
              "  2,\n",
              "  0,\n",
              "  0,\n",
              "  0,\n",
              "  2,\n",
              "  0,\n",
              "  1,\n",
              "  1,\n",
              "  1,\n",
              "  2,\n",
              "  1,\n",
              "  1,\n",
              "  2,\n",
              "  0,\n",
              "  2,\n",
              "  0,\n",
              "  2,\n",
              "  0,\n",
              "  0,\n",
              "  1,\n",
              "  0,\n",
              "  0,\n",
              "  0,\n",
              "  1,\n",
              "  1,\n",
              "  0,\n",
              "  2,\n",
              "  2,\n",
              "  1,\n",
              "  1,\n",
              "  2,\n",
              "  0,\n",
              "  1,\n",
              "  2,\n",
              "  2,\n",
              "  2,\n",
              "  2,\n",
              "  1,\n",
              "  0,\n",
              "  0,\n",
              "  0,\n",
              "  1,\n",
              "  0,\n",
              "  2,\n",
              "  1,\n",
              "  0,\n",
              "  1,\n",
              "  0,\n",
              "  2,\n",
              "  0,\n",
              "  1,\n",
              "  2,\n",
              "  0,\n",
              "  0,\n",
              "  2,\n",
              "  2,\n",
              "  0,\n",
              "  2,\n",
              "  2,\n",
              "  0,\n",
              "  0,\n",
              "  0],\n",
              " 'modified_reward': -40.49820674678438,\n",
              " 'states': [array([-0.5269585,  0.       ]),\n",
              "  array([-0.5269585,  0.       ]),\n",
              "  array([-0.5269585,  0.       ]),\n",
              "  array([-0.5269585,  0.       ]),\n",
              "  array([-0.5269585,  0.       ]),\n",
              "  array([-0.5269585,  0.       ]),\n",
              "  array([-0.5269585,  0.       ]),\n",
              "  array([-0.5269585,  0.       ]),\n",
              "  array([-0.5269585,  0.       ]),\n",
              "  array([-0.5269585,  0.       ]),\n",
              "  array([-0.5269585,  0.       ]),\n",
              "  array([-0.5269585,  0.       ]),\n",
              "  array([-0.5269585,  0.       ]),\n",
              "  array([-0.5269585,  0.       ]),\n",
              "  array([-0.5269585,  0.       ]),\n",
              "  array([-0.5269585,  0.       ]),\n",
              "  array([-0.5269585,  0.       ]),\n",
              "  array([-0.5269585,  0.       ]),\n",
              "  array([-0.5269585,  0.       ]),\n",
              "  array([-0.5269585,  0.       ]),\n",
              "  array([-0.5269585,  0.       ]),\n",
              "  array([-0.5269585,  0.       ]),\n",
              "  array([-0.5269585,  0.       ]),\n",
              "  array([-0.5269585,  0.       ]),\n",
              "  array([-0.5269585,  0.       ]),\n",
              "  array([-0.5269585,  0.       ]),\n",
              "  array([-0.5269585,  0.       ]),\n",
              "  array([-0.5269585,  0.       ]),\n",
              "  array([-0.5269585,  0.       ]),\n",
              "  array([-0.5269585,  0.       ]),\n",
              "  array([-0.5269585,  0.       ]),\n",
              "  array([-0.5269585,  0.       ]),\n",
              "  array([-0.5269585,  0.       ]),\n",
              "  array([-0.5269585,  0.       ]),\n",
              "  array([-0.5269585,  0.       ]),\n",
              "  array([-0.5269585,  0.       ]),\n",
              "  array([-0.5269585,  0.       ]),\n",
              "  array([-0.5269585,  0.       ]),\n",
              "  array([-0.5269585,  0.       ]),\n",
              "  array([-0.5269585,  0.       ]),\n",
              "  array([-0.5269585,  0.       ]),\n",
              "  array([-0.5269585,  0.       ]),\n",
              "  array([-0.5269585,  0.       ]),\n",
              "  array([-0.5269585,  0.       ]),\n",
              "  array([-0.5269585,  0.       ]),\n",
              "  array([-0.5269585,  0.       ]),\n",
              "  array([-0.5269585,  0.       ]),\n",
              "  array([-0.5269585,  0.       ]),\n",
              "  array([-0.5269585,  0.       ]),\n",
              "  array([-0.5269585,  0.       ]),\n",
              "  array([-0.5269585,  0.       ]),\n",
              "  array([-0.5269585,  0.       ]),\n",
              "  array([-0.5269585,  0.       ]),\n",
              "  array([-0.5269585,  0.       ]),\n",
              "  array([-0.5269585,  0.       ]),\n",
              "  array([-0.5269585,  0.       ]),\n",
              "  array([-0.5269585,  0.       ]),\n",
              "  array([-0.5269585,  0.       ]),\n",
              "  array([-0.5269585,  0.       ]),\n",
              "  array([-0.5269585,  0.       ]),\n",
              "  array([-0.5269585,  0.       ]),\n",
              "  array([-0.5269585,  0.       ]),\n",
              "  array([-0.5269585,  0.       ]),\n",
              "  array([-0.5269585,  0.       ]),\n",
              "  array([-0.5269585,  0.       ]),\n",
              "  array([-0.5269585,  0.       ]),\n",
              "  array([-0.5269585,  0.       ]),\n",
              "  array([-0.5269585,  0.       ]),\n",
              "  array([-0.5269585,  0.       ]),\n",
              "  array([-0.5269585,  0.       ]),\n",
              "  array([-0.5269585,  0.       ]),\n",
              "  array([-0.5269585,  0.       ]),\n",
              "  array([-0.5269585,  0.       ]),\n",
              "  array([-0.5269585,  0.       ]),\n",
              "  array([-0.5269585,  0.       ]),\n",
              "  array([-0.5269585,  0.       ]),\n",
              "  array([-0.5269585,  0.       ]),\n",
              "  array([-0.5269585,  0.       ]),\n",
              "  array([-0.5269585,  0.       ]),\n",
              "  array([-0.5269585,  0.       ]),\n",
              "  array([-0.5269585,  0.       ]),\n",
              "  array([-0.5269585,  0.       ]),\n",
              "  array([-0.5269585,  0.       ]),\n",
              "  array([-0.5269585,  0.       ]),\n",
              "  array([-0.5269585,  0.       ]),\n",
              "  array([-0.5269585,  0.       ]),\n",
              "  array([-0.5269585,  0.       ]),\n",
              "  array([-0.5269585,  0.       ]),\n",
              "  array([-0.5269585,  0.       ]),\n",
              "  array([-0.5269585,  0.       ]),\n",
              "  array([-0.5269585,  0.       ]),\n",
              "  array([-0.5269585,  0.       ]),\n",
              "  array([-0.5269585,  0.       ]),\n",
              "  array([-0.5269585,  0.       ]),\n",
              "  array([-0.5269585,  0.       ]),\n",
              "  array([-0.5269585,  0.       ]),\n",
              "  array([-0.5269585,  0.       ]),\n",
              "  array([-0.5269585,  0.       ]),\n",
              "  array([-0.5269585,  0.       ]),\n",
              "  array([-0.5269585,  0.       ])],\n",
              " 'total_reward': -100.0}"
            ]
          },
          "metadata": {},
          "execution_count": 21
        }
      ]
    },
    {
      "cell_type": "code",
      "source": [
        "show_video()"
      ],
      "metadata": {
        "colab": {
          "base_uri": "https://localhost:8080/",
          "height": 422
        },
        "id": "xsrDXhKF1Coh",
        "outputId": "c7ad308f-aaf8-413d-9ed7-f2ff9579eb0e"
      },
      "execution_count": 22,
      "outputs": [
        {
          "output_type": "display_data",
          "data": {
            "text/plain": [
              "<IPython.core.display.HTML object>"
            ],
            "text/html": [
              "<video alt=\"test\" autoplay \n",
              "                loop controls style=\"height: 400px;\">\n",
              "                <source src=\"data:video/mp4;base64,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\" \n",
              "                type=\"video/mp4\" />\n",
              "             </video>"
            ]
          },
          "metadata": {}
        }
      ]
    }
  ],
  "metadata": {
    "anaconda-cloud": {},
    "colab": {
      "collapsed_sections": [],
      "name": "reinforcement_learning_assignment.ipynb",
      "provenance": []
    },
    "kernelspec": {
      "display_name": "Python 3.9 (tensorflow)",
      "language": "python",
      "name": "tensorflow"
    },
    "language_info": {
      "codemirror_mode": {
        "name": "ipython",
        "version": 3
      },
      "file_extension": ".py",
      "mimetype": "text/x-python",
      "name": "python",
      "nbconvert_exporter": "python",
      "pygments_lexer": "ipython3",
      "version": "3.9.7"
    },
    "varInspector": {
      "cols": {
        "lenName": 16,
        "lenType": 16,
        "lenVar": 40
      },
      "kernels_config": {
        "python": {
          "delete_cmd_postfix": "",
          "delete_cmd_prefix": "del ",
          "library": "var_list.py",
          "varRefreshCmd": "print(var_dic_list())"
        },
        "r": {
          "delete_cmd_postfix": ") ",
          "delete_cmd_prefix": "rm(",
          "library": "var_list.r",
          "varRefreshCmd": "cat(var_dic_list()) "
        }
      },
      "types_to_exclude": [
        "module",
        "function",
        "builtin_function_or_method",
        "instance",
        "_Feature"
      ],
      "window_display": false
    }
  },
  "nbformat": 4,
  "nbformat_minor": 0
}